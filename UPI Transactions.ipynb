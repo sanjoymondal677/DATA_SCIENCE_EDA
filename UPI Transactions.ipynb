{
 "cells": [
  {
   "cell_type": "markdown",
   "id": "2a592dc2",
   "metadata": {},
   "source": [
    "<h1>Dataset</h1>\n",
    "Dataset about UPI apps Transactions in 2021(Unified Payments Interface (UPI) is an instant real-time payment system developed by National Payments Corporation of India (NPCI).\n",
    "And there was numbers of transaction has done, we try to get insights from this data for clear understanding"
   ]
  },
  {
   "cell_type": "markdown",
   "id": "fc453116",
   "metadata": {},
   "source": [
    "<h1>About the dataset columns</h1>\n",
    "<ul>\n",
    "<li>UPI Banks - upi app name</li>\n",
    "<li>Volume (Mn) By Costumers - volume of transactions</li>\n",
    "<li>Value (Cr) by Costumers - value of transactions</li>\n",
    "<li>Volume (Mn) - total volume of transactions</li>\n",
    "<li>Value (Cr) - total value of transactions</li>\n",
    "<li>Month - month</li>\n",
    "<li>Year - year</li>\n",
    "</ul>"
   ]
  },
  {
   "cell_type": "markdown",
   "id": "e56506a2",
   "metadata": {},
   "source": [
    "### import the libraries"
   ]
  },
  {
   "cell_type": "code",
   "execution_count": 1,
   "id": "6cb13229",
   "metadata": {},
   "outputs": [],
   "source": [
    "import numpy as np\n",
    "import pandas as pd\n",
    "import matplotlib.pyplot as plt\n",
    "import seaborn as sns"
   ]
  },
  {
   "cell_type": "markdown",
   "id": "fab619fb",
   "metadata": {},
   "source": [
    "### Load the dataset"
   ]
  },
  {
   "cell_type": "code",
   "execution_count": 2,
   "id": "a70581bb",
   "metadata": {},
   "outputs": [],
   "source": [
    "data = pd.read_csv(r\"C:\\Users\\Windows\\Desktop\\PROJECTS\\Dataset\\UPI apps transaction data in 2021.csv\")"
   ]
  },
  {
   "cell_type": "code",
   "execution_count": 3,
   "id": "f399603f",
   "metadata": {},
   "outputs": [
    {
     "data": {
      "text/html": [
       "<style type=\"text/css\">\n",
       "#T_01c39_row0_col0, #T_01c39_row0_col1, #T_01c39_row0_col2, #T_01c39_row0_col3, #T_01c39_row0_col4, #T_01c39_row0_col5, #T_01c39_row0_col6, #T_01c39_row1_col0, #T_01c39_row1_col1, #T_01c39_row1_col2, #T_01c39_row1_col3, #T_01c39_row1_col4, #T_01c39_row1_col5, #T_01c39_row1_col6, #T_01c39_row2_col0, #T_01c39_row2_col1, #T_01c39_row2_col2, #T_01c39_row2_col3, #T_01c39_row2_col4, #T_01c39_row2_col5, #T_01c39_row2_col6, #T_01c39_row3_col0, #T_01c39_row3_col1, #T_01c39_row3_col2, #T_01c39_row3_col3, #T_01c39_row3_col4, #T_01c39_row3_col5, #T_01c39_row3_col6, #T_01c39_row4_col0, #T_01c39_row4_col1, #T_01c39_row4_col2, #T_01c39_row4_col3, #T_01c39_row4_col4, #T_01c39_row4_col5, #T_01c39_row4_col6 {\n",
       "  background-color: #ff4654;\n",
       "  color: black;\n",
       "  border-color: black;\n",
       "}\n",
       "</style>\n",
       "<table id=\"T_01c39_\">\n",
       "  <thead>\n",
       "    <tr>\n",
       "      <th class=\"blank level0\" >&nbsp;</th>\n",
       "      <th class=\"col_heading level0 col0\" >UPI Banks</th>\n",
       "      <th class=\"col_heading level0 col1\" >Volume (Mn) By Costumers</th>\n",
       "      <th class=\"col_heading level0 col2\" >Value (Cr) by Costumers</th>\n",
       "      <th class=\"col_heading level0 col3\" >Volume (Mn)</th>\n",
       "      <th class=\"col_heading level0 col4\" >Value (Cr)</th>\n",
       "      <th class=\"col_heading level0 col5\" >Month</th>\n",
       "      <th class=\"col_heading level0 col6\" >Year</th>\n",
       "    </tr>\n",
       "  </thead>\n",
       "  <tbody>\n",
       "    <tr>\n",
       "      <th id=\"T_01c39_level0_row0\" class=\"row_heading level0 row0\" >0</th>\n",
       "      <td id=\"T_01c39_row0_col0\" class=\"data row0 col0\" >Airtel Payments Bank Apps</td>\n",
       "      <td id=\"T_01c39_row0_col1\" class=\"data row0 col1\" >9.040000</td>\n",
       "      <td id=\"T_01c39_row0_col2\" class=\"data row0 col2\" >2248.490000</td>\n",
       "      <td id=\"T_01c39_row0_col3\" class=\"data row0 col3\" >15.120000</td>\n",
       "      <td id=\"T_01c39_row0_col4\" class=\"data row0 col4\" >5732.090000</td>\n",
       "      <td id=\"T_01c39_row0_col5\" class=\"data row0 col5\" >12</td>\n",
       "      <td id=\"T_01c39_row0_col6\" class=\"data row0 col6\" >2021</td>\n",
       "    </tr>\n",
       "    <tr>\n",
       "      <th id=\"T_01c39_level0_row1\" class=\"row_heading level0 row1\" >1</th>\n",
       "      <td id=\"T_01c39_row1_col0\" class=\"data row1 col0\" >Airtel Payments Bank Apps</td>\n",
       "      <td id=\"T_01c39_row1_col1\" class=\"data row1 col1\" >8.410000</td>\n",
       "      <td id=\"T_01c39_row1_col2\" class=\"data row1 col2\" >1923.950000</td>\n",
       "      <td id=\"T_01c39_row1_col3\" class=\"data row1 col3\" >15.900000</td>\n",
       "      <td id=\"T_01c39_row1_col4\" class=\"data row1 col4\" >5554.630000</td>\n",
       "      <td id=\"T_01c39_row1_col5\" class=\"data row1 col5\" >11</td>\n",
       "      <td id=\"T_01c39_row1_col6\" class=\"data row1 col6\" >2021</td>\n",
       "    </tr>\n",
       "    <tr>\n",
       "      <th id=\"T_01c39_level0_row2\" class=\"row_heading level0 row2\" >2</th>\n",
       "      <td id=\"T_01c39_row2_col0\" class=\"data row2 col0\" >Airtel Payments Bank Apps</td>\n",
       "      <td id=\"T_01c39_row2_col1\" class=\"data row2 col1\" >7.600000</td>\n",
       "      <td id=\"T_01c39_row2_col2\" class=\"data row2 col2\" >1491.340000</td>\n",
       "      <td id=\"T_01c39_row2_col3\" class=\"data row2 col3\" >14.310000</td>\n",
       "      <td id=\"T_01c39_row2_col4\" class=\"data row2 col4\" >4746.790000</td>\n",
       "      <td id=\"T_01c39_row2_col5\" class=\"data row2 col5\" >10</td>\n",
       "      <td id=\"T_01c39_row2_col6\" class=\"data row2 col6\" >2021</td>\n",
       "    </tr>\n",
       "    <tr>\n",
       "      <th id=\"T_01c39_level0_row3\" class=\"row_heading level0 row3\" >3</th>\n",
       "      <td id=\"T_01c39_row3_col0\" class=\"data row3 col0\" >Airtel Payments Bank Apps</td>\n",
       "      <td id=\"T_01c39_row3_col1\" class=\"data row3 col1\" >6.910000</td>\n",
       "      <td id=\"T_01c39_row3_col2\" class=\"data row3 col2\" >1520.920000</td>\n",
       "      <td id=\"T_01c39_row3_col3\" class=\"data row3 col3\" >11.520000</td>\n",
       "      <td id=\"T_01c39_row3_col4\" class=\"data row3 col4\" >3759.120000</td>\n",
       "      <td id=\"T_01c39_row3_col5\" class=\"data row3 col5\" >9</td>\n",
       "      <td id=\"T_01c39_row3_col6\" class=\"data row3 col6\" >2021</td>\n",
       "    </tr>\n",
       "    <tr>\n",
       "      <th id=\"T_01c39_level0_row4\" class=\"row_heading level0 row4\" >4</th>\n",
       "      <td id=\"T_01c39_row4_col0\" class=\"data row4 col0\" >Airtel Payments Bank Apps</td>\n",
       "      <td id=\"T_01c39_row4_col1\" class=\"data row4 col1\" >6.140000</td>\n",
       "      <td id=\"T_01c39_row4_col2\" class=\"data row4 col2\" >1396.650000</td>\n",
       "      <td id=\"T_01c39_row4_col3\" class=\"data row4 col3\" >9.310000</td>\n",
       "      <td id=\"T_01c39_row4_col4\" class=\"data row4 col4\" >2941.880000</td>\n",
       "      <td id=\"T_01c39_row4_col5\" class=\"data row4 col5\" >8</td>\n",
       "      <td id=\"T_01c39_row4_col6\" class=\"data row4 col6\" >2021</td>\n",
       "    </tr>\n",
       "  </tbody>\n",
       "</table>\n"
      ],
      "text/plain": [
       "<pandas.io.formats.style.Styler at 0x1435b01ac10>"
      ]
     },
     "execution_count": 3,
     "metadata": {},
     "output_type": "execute_result"
    }
   ],
   "source": [
    "data.head().style.set_properties(**{\"background-color\": \"#ff4654\",\"color\": \"black\",\"border-color\": \"black\"}) #Print the first 5 rows"
   ]
  },
  {
   "cell_type": "code",
   "execution_count": 4,
   "id": "7053c1b5",
   "metadata": {},
   "outputs": [
    {
     "data": {
      "text/plain": [
       "(654, 7)"
      ]
     },
     "execution_count": 4,
     "metadata": {},
     "output_type": "execute_result"
    }
   ],
   "source": [
    "data.shape #Dataset has 654 rows with 7 columns"
   ]
  },
  {
   "cell_type": "code",
   "execution_count": 5,
   "id": "1a44fabf",
   "metadata": {},
   "outputs": [
    {
     "name": "stdout",
     "output_type": "stream",
     "text": [
      "<class 'pandas.core.frame.DataFrame'>\n",
      "RangeIndex: 654 entries, 0 to 653\n",
      "Data columns (total 7 columns):\n",
      " #   Column                    Non-Null Count  Dtype  \n",
      "---  ------                    --------------  -----  \n",
      " 0   UPI Banks                 654 non-null    object \n",
      " 1   Volume (Mn) By Costumers  654 non-null    float64\n",
      " 2   Value (Cr) by Costumers   654 non-null    float64\n",
      " 3   Volume (Mn)               654 non-null    float64\n",
      " 4   Value (Cr)                654 non-null    float64\n",
      " 5   Month                     654 non-null    int64  \n",
      " 6   Year                      654 non-null    int64  \n",
      "dtypes: float64(4), int64(2), object(1)\n",
      "memory usage: 35.9+ KB\n"
     ]
    }
   ],
   "source": [
    "data.info() #Information about dataset's columns, like data types and non-null values count"
   ]
  },
  {
   "cell_type": "markdown",
   "id": "44149544",
   "metadata": {},
   "source": [
    "### Duplicates rows check"
   ]
  },
  {
   "cell_type": "code",
   "execution_count": 6,
   "id": "efd99bc4",
   "metadata": {},
   "outputs": [
    {
     "data": {
      "text/plain": [
       "False"
      ]
     },
     "execution_count": 6,
     "metadata": {},
     "output_type": "execute_result"
    }
   ],
   "source": [
    "data.duplicated().any()"
   ]
  },
  {
   "cell_type": "markdown",
   "id": "223b3935",
   "metadata": {},
   "source": [
    "### Null values check"
   ]
  },
  {
   "cell_type": "code",
   "execution_count": 7,
   "id": "0e9b78f8",
   "metadata": {},
   "outputs": [
    {
     "data": {
      "text/plain": [
       "UPI Banks                   0\n",
       "Volume (Mn) By Costumers    0\n",
       "Value (Cr) by Costumers     0\n",
       "Volume (Mn)                 0\n",
       "Value (Cr)                  0\n",
       "Month                       0\n",
       "Year                        0\n",
       "dtype: int64"
      ]
     },
     "execution_count": 7,
     "metadata": {},
     "output_type": "execute_result"
    }
   ],
   "source": [
    "data.isnull().sum()"
   ]
  },
  {
   "cell_type": "code",
   "execution_count": 8,
   "id": "06948b01",
   "metadata": {},
   "outputs": [
    {
     "data": {
      "text/plain": [
       "2021    654\n",
       "Name: Year, dtype: int64"
      ]
     },
     "execution_count": 8,
     "metadata": {},
     "output_type": "execute_result"
    }
   ],
   "source": [
    "data['Year'].value_counts() # here we can see there is only one unique value in \"Year\" column so not use full for draw insights, we can drop \"Year\" column"
   ]
  },
  {
   "cell_type": "code",
   "execution_count": 9,
   "id": "dfd69f87",
   "metadata": {},
   "outputs": [
    {
     "data": {
      "text/plain": [
       "Airtel Payments Bank Apps     12\n",
       "Mobikwik                      12\n",
       "ICICI Bank Apps               12\n",
       "IDBI Bank App                 12\n",
       "IDFC Bank App                 12\n",
       "                              ..\n",
       "Goibibo                        1\n",
       "Andhra Bank App                1\n",
       "Jammu and Kashmir Bank App     1\n",
       "Khalijeb                       1\n",
       "Other Bank Apps                1\n",
       "Name: UPI Banks, Length: 69, dtype: int64"
      ]
     },
     "execution_count": 9,
     "metadata": {},
     "output_type": "execute_result"
    }
   ],
   "source": [
    "data['UPI Banks'].value_counts() # Display the different types of UPI Banks payment using for Transaction."
   ]
  },
  {
   "cell_type": "code",
   "execution_count": 10,
   "id": "8924b85f",
   "metadata": {},
   "outputs": [
    {
     "data": {
      "image/png": "[encoded data removed]",
      "text/plain": [
       "<Figure size 720x432 with 1 Axes>"
      ]
     },
     "metadata": {
      "needs_background": "light"
     },
     "output_type": "display_data"
    }
   ],
   "source": [
    "plt.figure(figsize=(10,6))\n",
    "sns.set_style(\"whitegrid\")\n",
    "sns.lineplot(x='Month',y='Volume (Mn) By Costumers',data=data)\n",
    "plt.xlabel('Month',fontweight='bold',size = 12) \n",
    "plt.ylabel('Volume (Mn) By Costumers',fontweight='bold',size = 12) \n",
    "plt.title(\"Trend Month v/s Volume (Mn) By Costumers \",fontweight='bold',size = 12)\n",
    "plt.show()"
   ]
  },
  {
   "cell_type": "code",
   "execution_count": 11,
   "id": "e74fb55d",
   "metadata": {},
   "outputs": [
    {
     "data": {
      "image/png": "[encoded data removed]",
      "text/plain": [
       "<Figure size 720x432 with 1 Axes>"
      ]
     },
     "metadata": {},
     "output_type": "display_data"
    }
   ],
   "source": [
    "plt.figure(figsize=(10,6))\n",
    "sns.lineplot(x=\"Month\",y='Value (Cr) by Costumers',data=data)\n",
    "plt.xlabel('Month',fontweight='bold',size = 12) \n",
    "plt.ylabel('Value (Cr) by Costumers',fontweight='bold',size = 12) \n",
    "plt.title(\" Trend Month v/s Value (Cr) by Costumers \",fontweight='bold',size = 12)\n",
    "plt.show()"
   ]
  },
  {
   "cell_type": "code",
   "execution_count": 12,
   "id": "8249db39",
   "metadata": {},
   "outputs": [
    {
     "data": {
      "image/png": "[encoded data removed]",
      "text/plain": [
       "<Figure size 720x432 with 1 Axes>"
      ]
     },
     "metadata": {},
     "output_type": "display_data"
    }
   ],
   "source": [
    "plt.figure(figsize=(10,6))\n",
    "sns.lineplot(x=\"Month\",y='Volume (Mn)',data=data)\n",
    "plt.xlabel('Month',fontweight='bold',size = 12) \n",
    "plt.ylabel('Volume (Mn)',fontweight='bold',size = 12) \n",
    "plt.title(\" Trend Month v/s Volume (Mn) \",fontweight='bold',size = 12)\n",
    "plt.show()"
   ]
  },
  {
   "cell_type": "code",
   "execution_count": 13,
   "id": "d002faaa",
   "metadata": {},
   "outputs": [
    {
     "data": {
      "image/png": "[encoded data removed]",
      "text/plain": [
       "<Figure size 720x432 with 1 Axes>"
      ]
     },
     "metadata": {},
     "output_type": "display_data"
    }
   ],
   "source": [
    "plt.figure(figsize=(10,6))\n",
    "sns.lineplot(x=\"Month\",y='Value (Cr)',data=data)\n",
    "plt.xlabel('Month',fontweight='bold',size = 12) \n",
    "plt.ylabel('Value (Cr)',fontweight='bold',size = 12) \n",
    "plt.title(\" Trend Month v/s Value (Cr)\",fontweight='bold',size = 12)\n",
    "plt.show()"
   ]
  },
  {
   "cell_type": "markdown",
   "id": "8825a1ec",
   "metadata": {},
   "source": [
    "### Top 10 highest volume payment by UPI Banks"
   ]
  },
  {
   "cell_type": "markdown",
   "id": "1801f68b",
   "metadata": {},
   "source": [
    "#### Volume (Mn) By Costumers"
   ]
  },
  {
   "cell_type": "code",
   "execution_count": 14,
   "id": "339921dc",
   "metadata": {},
   "outputs": [],
   "source": [
    "total = data.groupby(['UPI Banks']).agg({'Volume (Mn) By Costumers':'sum'}).reset_index()"
   ]
  },
  {
   "cell_type": "code",
   "execution_count": 15,
   "id": "385bf037",
   "metadata": {},
   "outputs": [],
   "source": [
    "top_10_highest_volume_mn = total.sort_values(by = 'Volume (Mn) By Costumers',ascending = False)"
   ]
  },
  {
   "cell_type": "code",
   "execution_count": 16,
   "id": "335400b6",
   "metadata": {},
   "outputs": [
    {
     "data": {
      "text/html": [
       "<div>\n",
       "<style scoped>\n",
       "    .dataframe tbody tr th:only-of-type {\n",
       "        vertical-align: middle;\n",
       "    }\n",
       "\n",
       "    .dataframe tbody tr th {\n",
       "        vertical-align: top;\n",
       "    }\n",
       "\n",
       "    .dataframe thead th {\n",
       "        text-align: right;\n",
       "    }\n",
       "</style>\n",
       "<table border=\"1\" class=\"dataframe\">\n",
       "  <thead>\n",
       "    <tr style=\"text-align: right;\">\n",
       "      <th></th>\n",
       "      <th>UPI Banks</th>\n",
       "      <th>Volume (Mn) By Costumers</th>\n",
       "    </tr>\n",
       "  </thead>\n",
       "  <tbody>\n",
       "    <tr>\n",
       "      <th>51</th>\n",
       "      <td>PhonePe</td>\n",
       "      <td>17470.81</td>\n",
       "    </tr>\n",
       "    <tr>\n",
       "      <th>26</th>\n",
       "      <td>Google Pay</td>\n",
       "      <td>13541.88</td>\n",
       "    </tr>\n",
       "    <tr>\n",
       "      <th>50</th>\n",
       "      <td>Paytm Payments Bank App</td>\n",
       "      <td>4827.38</td>\n",
       "    </tr>\n",
       "    <tr>\n",
       "      <th>3</th>\n",
       "      <td>Amazon Pay</td>\n",
       "      <td>704.15</td>\n",
       "    </tr>\n",
       "    <tr>\n",
       "      <th>67</th>\n",
       "      <td>Yes Bank Apps</td>\n",
       "      <td>292.50</td>\n",
       "    </tr>\n",
       "    <tr>\n",
       "      <th>6</th>\n",
       "      <td>BHIM</td>\n",
       "      <td>289.43</td>\n",
       "    </tr>\n",
       "    <tr>\n",
       "      <th>29</th>\n",
       "      <td>ICICI Bank Apps</td>\n",
       "      <td>191.06</td>\n",
       "    </tr>\n",
       "    <tr>\n",
       "      <th>5</th>\n",
       "      <td>Axis Bank Apps</td>\n",
       "      <td>99.57</td>\n",
       "    </tr>\n",
       "    <tr>\n",
       "      <th>16</th>\n",
       "      <td>Cred</td>\n",
       "      <td>80.96</td>\n",
       "    </tr>\n",
       "    <tr>\n",
       "      <th>1</th>\n",
       "      <td>Airtel Payments Bank Apps</td>\n",
       "      <td>67.37</td>\n",
       "    </tr>\n",
       "  </tbody>\n",
       "</table>\n",
       "</div>"
      ],
      "text/plain": [
       "                    UPI Banks  Volume (Mn) By Costumers\n",
       "51                    PhonePe                  17470.81\n",
       "26                 Google Pay                  13541.88\n",
       "50    Paytm Payments Bank App                   4827.38\n",
       "3                  Amazon Pay                    704.15\n",
       "67              Yes Bank Apps                    292.50\n",
       "6                        BHIM                    289.43\n",
       "29            ICICI Bank Apps                    191.06\n",
       "5              Axis Bank Apps                     99.57\n",
       "16                       Cred                     80.96\n",
       "1   Airtel Payments Bank Apps                     67.37"
      ]
     },
     "execution_count": 16,
     "metadata": {},
     "output_type": "execute_result"
    }
   ],
   "source": [
    "top_10_highest_volume_mn.head(10)"
   ]
  },
  {
   "cell_type": "markdown",
   "id": "377eec07",
   "metadata": {},
   "source": [
    "#### Value (Cr) by Costumers"
   ]
  },
  {
   "cell_type": "code",
   "execution_count": 17,
   "id": "94623480",
   "metadata": {},
   "outputs": [],
   "source": [
    "total = data.groupby(['UPI Banks']).agg({'Value (Cr) by Costumers':'sum'}).reset_index()\n",
    "top_10_highest_volume_cr = total.sort_values(by = 'Value (Cr) by Costumers',ascending = False)"
   ]
  },
  {
   "cell_type": "code",
   "execution_count": 18,
   "id": "a9000bf3",
   "metadata": {},
   "outputs": [
    {
     "data": {
      "text/html": [
       "<div>\n",
       "<style scoped>\n",
       "    .dataframe tbody tr th:only-of-type {\n",
       "        vertical-align: middle;\n",
       "    }\n",
       "\n",
       "    .dataframe tbody tr th {\n",
       "        vertical-align: top;\n",
       "    }\n",
       "\n",
       "    .dataframe thead th {\n",
       "        text-align: right;\n",
       "    }\n",
       "</style>\n",
       "<table border=\"1\" class=\"dataframe\">\n",
       "  <thead>\n",
       "    <tr style=\"text-align: right;\">\n",
       "      <th></th>\n",
       "      <th>UPI Banks</th>\n",
       "      <th>Value (Cr) by Costumers</th>\n",
       "    </tr>\n",
       "  </thead>\n",
       "  <tbody>\n",
       "    <tr>\n",
       "      <th>51</th>\n",
       "      <td>PhonePe</td>\n",
       "      <td>3365727.16</td>\n",
       "    </tr>\n",
       "    <tr>\n",
       "      <th>26</th>\n",
       "      <td>Google Pay</td>\n",
       "      <td>2737496.81</td>\n",
       "    </tr>\n",
       "    <tr>\n",
       "      <th>50</th>\n",
       "      <td>Paytm Payments Bank App</td>\n",
       "      <td>573899.84</td>\n",
       "    </tr>\n",
       "    <tr>\n",
       "      <th>16</th>\n",
       "      <td>Cred</td>\n",
       "      <td>97013.60</td>\n",
       "    </tr>\n",
       "    <tr>\n",
       "      <th>6</th>\n",
       "      <td>BHIM</td>\n",
       "      <td>91106.89</td>\n",
       "    </tr>\n",
       "    <tr>\n",
       "      <th>67</th>\n",
       "      <td>Yes Bank Apps</td>\n",
       "      <td>61298.95</td>\n",
       "    </tr>\n",
       "    <tr>\n",
       "      <th>3</th>\n",
       "      <td>Amazon Pay</td>\n",
       "      <td>60962.34</td>\n",
       "    </tr>\n",
       "    <tr>\n",
       "      <th>29</th>\n",
       "      <td>ICICI Bank Apps</td>\n",
       "      <td>60568.91</td>\n",
       "    </tr>\n",
       "    <tr>\n",
       "      <th>60</th>\n",
       "      <td>State Bank of India Apps</td>\n",
       "      <td>25357.37</td>\n",
       "    </tr>\n",
       "    <tr>\n",
       "      <th>1</th>\n",
       "      <td>Airtel Payments Bank Apps</td>\n",
       "      <td>13317.81</td>\n",
       "    </tr>\n",
       "  </tbody>\n",
       "</table>\n",
       "</div>"
      ],
      "text/plain": [
       "                    UPI Banks  Value (Cr) by Costumers\n",
       "51                    PhonePe               3365727.16\n",
       "26                 Google Pay               2737496.81\n",
       "50    Paytm Payments Bank App                573899.84\n",
       "16                       Cred                 97013.60\n",
       "6                        BHIM                 91106.89\n",
       "67              Yes Bank Apps                 61298.95\n",
       "3                  Amazon Pay                 60962.34\n",
       "29            ICICI Bank Apps                 60568.91\n",
       "60   State Bank of India Apps                 25357.37\n",
       "1   Airtel Payments Bank Apps                 13317.81"
      ]
     },
     "execution_count": 18,
     "metadata": {},
     "output_type": "execute_result"
    }
   ],
   "source": [
    "top_10_highest_volume_cr.head(10)"
   ]
  },
  {
   "cell_type": "markdown",
   "id": "7f12ac80",
   "metadata": {},
   "source": [
    "#### Volume (Mn)"
   ]
  },
  {
   "cell_type": "code",
   "execution_count": 19,
   "id": "dc72d611",
   "metadata": {},
   "outputs": [],
   "source": [
    "total = data.groupby(['UPI Banks']).agg({'Volume (Mn)':'sum'}).reset_index()\n",
    "top_10_highest_volume_Mn = total.sort_values(by = 'Volume (Mn)',ascending = False)"
   ]
  },
  {
   "cell_type": "code",
   "execution_count": 20,
   "id": "23ef2553",
   "metadata": {},
   "outputs": [
    {
     "data": {
      "text/html": [
       "<div>\n",
       "<style scoped>\n",
       "    .dataframe tbody tr th:only-of-type {\n",
       "        vertical-align: middle;\n",
       "    }\n",
       "\n",
       "    .dataframe tbody tr th {\n",
       "        vertical-align: top;\n",
       "    }\n",
       "\n",
       "    .dataframe thead th {\n",
       "        text-align: right;\n",
       "    }\n",
       "</style>\n",
       "<table border=\"1\" class=\"dataframe\">\n",
       "  <thead>\n",
       "    <tr style=\"text-align: right;\">\n",
       "      <th></th>\n",
       "      <th>UPI Banks</th>\n",
       "      <th>Volume (Mn)</th>\n",
       "    </tr>\n",
       "  </thead>\n",
       "  <tbody>\n",
       "    <tr>\n",
       "      <th>51</th>\n",
       "      <td>PhonePe</td>\n",
       "      <td>17470.81</td>\n",
       "    </tr>\n",
       "    <tr>\n",
       "      <th>26</th>\n",
       "      <td>Google Pay</td>\n",
       "      <td>13541.88</td>\n",
       "    </tr>\n",
       "    <tr>\n",
       "      <th>50</th>\n",
       "      <td>Paytm Payments Bank App</td>\n",
       "      <td>5640.23</td>\n",
       "    </tr>\n",
       "    <tr>\n",
       "      <th>5</th>\n",
       "      <td>Axis Bank Apps</td>\n",
       "      <td>841.62</td>\n",
       "    </tr>\n",
       "    <tr>\n",
       "      <th>3</th>\n",
       "      <td>Amazon Pay</td>\n",
       "      <td>704.15</td>\n",
       "    </tr>\n",
       "    <tr>\n",
       "      <th>67</th>\n",
       "      <td>Yes Bank Apps</td>\n",
       "      <td>293.08</td>\n",
       "    </tr>\n",
       "    <tr>\n",
       "      <th>6</th>\n",
       "      <td>BHIM</td>\n",
       "      <td>289.43</td>\n",
       "    </tr>\n",
       "    <tr>\n",
       "      <th>29</th>\n",
       "      <td>ICICI Bank Apps</td>\n",
       "      <td>227.74</td>\n",
       "    </tr>\n",
       "    <tr>\n",
       "      <th>1</th>\n",
       "      <td>Airtel Payments Bank Apps</td>\n",
       "      <td>109.80</td>\n",
       "    </tr>\n",
       "    <tr>\n",
       "      <th>16</th>\n",
       "      <td>Cred</td>\n",
       "      <td>80.96</td>\n",
       "    </tr>\n",
       "  </tbody>\n",
       "</table>\n",
       "</div>"
      ],
      "text/plain": [
       "                    UPI Banks  Volume (Mn)\n",
       "51                    PhonePe     17470.81\n",
       "26                 Google Pay     13541.88\n",
       "50    Paytm Payments Bank App      5640.23\n",
       "5              Axis Bank Apps       841.62\n",
       "3                  Amazon Pay       704.15\n",
       "67              Yes Bank Apps       293.08\n",
       "6                        BHIM       289.43\n",
       "29            ICICI Bank Apps       227.74\n",
       "1   Airtel Payments Bank Apps       109.80\n",
       "16                       Cred        80.96"
      ]
     },
     "execution_count": 20,
     "metadata": {},
     "output_type": "execute_result"
    }
   ],
   "source": [
    "top_10_highest_volume_Mn.head(10)"
   ]
  },
  {
   "cell_type": "markdown",
   "id": "5bc7c415",
   "metadata": {},
   "source": [
    "#### Value (Cr)"
   ]
  },
  {
   "cell_type": "code",
   "execution_count": 21,
   "id": "56ccde86",
   "metadata": {},
   "outputs": [],
   "source": [
    "total = data.groupby(['UPI Banks']).agg({'Value (Cr)':'sum'}).reset_index()\n",
    "top_10_highest_volume_Cr = total.sort_values(by = 'Value (Cr)',ascending = False)"
   ]
  },
  {
   "cell_type": "code",
   "execution_count": 22,
   "id": "2814b255",
   "metadata": {},
   "outputs": [
    {
     "data": {
      "text/html": [
       "<div>\n",
       "<style scoped>\n",
       "    .dataframe tbody tr th:only-of-type {\n",
       "        vertical-align: middle;\n",
       "    }\n",
       "\n",
       "    .dataframe tbody tr th {\n",
       "        vertical-align: top;\n",
       "    }\n",
       "\n",
       "    .dataframe thead th {\n",
       "        text-align: right;\n",
       "    }\n",
       "</style>\n",
       "<table border=\"1\" class=\"dataframe\">\n",
       "  <thead>\n",
       "    <tr style=\"text-align: right;\">\n",
       "      <th></th>\n",
       "      <th>UPI Banks</th>\n",
       "      <th>Value (Cr)</th>\n",
       "    </tr>\n",
       "  </thead>\n",
       "  <tbody>\n",
       "    <tr>\n",
       "      <th>51</th>\n",
       "      <td>PhonePe</td>\n",
       "      <td>3365727.06</td>\n",
       "    </tr>\n",
       "    <tr>\n",
       "      <th>26</th>\n",
       "      <td>Google Pay</td>\n",
       "      <td>2737496.81</td>\n",
       "    </tr>\n",
       "    <tr>\n",
       "      <th>50</th>\n",
       "      <td>Paytm Payments Bank App</td>\n",
       "      <td>669189.79</td>\n",
       "    </tr>\n",
       "    <tr>\n",
       "      <th>16</th>\n",
       "      <td>Cred</td>\n",
       "      <td>97013.60</td>\n",
       "    </tr>\n",
       "    <tr>\n",
       "      <th>6</th>\n",
       "      <td>BHIM</td>\n",
       "      <td>91106.89</td>\n",
       "    </tr>\n",
       "    <tr>\n",
       "      <th>29</th>\n",
       "      <td>ICICI Bank Apps</td>\n",
       "      <td>62297.95</td>\n",
       "    </tr>\n",
       "    <tr>\n",
       "      <th>67</th>\n",
       "      <td>Yes Bank Apps</td>\n",
       "      <td>61299.32</td>\n",
       "    </tr>\n",
       "    <tr>\n",
       "      <th>3</th>\n",
       "      <td>Amazon Pay</td>\n",
       "      <td>60962.34</td>\n",
       "    </tr>\n",
       "    <tr>\n",
       "      <th>1</th>\n",
       "      <td>Airtel Payments Bank Apps</td>\n",
       "      <td>40586.97</td>\n",
       "    </tr>\n",
       "    <tr>\n",
       "      <th>60</th>\n",
       "      <td>State Bank of India Apps</td>\n",
       "      <td>25357.39</td>\n",
       "    </tr>\n",
       "  </tbody>\n",
       "</table>\n",
       "</div>"
      ],
      "text/plain": [
       "                    UPI Banks  Value (Cr)\n",
       "51                    PhonePe  3365727.06\n",
       "26                 Google Pay  2737496.81\n",
       "50    Paytm Payments Bank App   669189.79\n",
       "16                       Cred    97013.60\n",
       "6                        BHIM    91106.89\n",
       "29            ICICI Bank Apps    62297.95\n",
       "67              Yes Bank Apps    61299.32\n",
       "3                  Amazon Pay    60962.34\n",
       "1   Airtel Payments Bank Apps    40586.97\n",
       "60   State Bank of India Apps    25357.39"
      ]
     },
     "execution_count": 22,
     "metadata": {},
     "output_type": "execute_result"
    }
   ],
   "source": [
    "top_10_highest_volume_Cr.head(10)"
   ]
  },
  {
   "cell_type": "markdown",
   "id": "ddb5ab5c",
   "metadata": {},
   "source": [
    "### Let's check volume trend for using only PhonePe Payments method"
   ]
  },
  {
   "cell_type": "code",
   "execution_count": 23,
   "id": "0969a559",
   "metadata": {},
   "outputs": [],
   "source": [
    "phonePe_Payment = (data.loc[data['UPI Banks'] == 'PhonePe'])"
   ]
  },
  {
   "cell_type": "code",
   "execution_count": 24,
   "id": "092c37b2",
   "metadata": {},
   "outputs": [
    {
     "data": {
      "text/html": [
       "<div>\n",
       "<style scoped>\n",
       "    .dataframe tbody tr th:only-of-type {\n",
       "        vertical-align: middle;\n",
       "    }\n",
       "\n",
       "    .dataframe tbody tr th {\n",
       "        vertical-align: top;\n",
       "    }\n",
       "\n",
       "    .dataframe thead th {\n",
       "        text-align: right;\n",
       "    }\n",
       "</style>\n",
       "<table border=\"1\" class=\"dataframe\">\n",
       "  <thead>\n",
       "    <tr style=\"text-align: right;\">\n",
       "      <th></th>\n",
       "      <th>UPI Banks</th>\n",
       "      <th>Volume (Mn) By Costumers</th>\n",
       "      <th>Value (Cr) by Costumers</th>\n",
       "      <th>Volume (Mn)</th>\n",
       "      <th>Value (Cr)</th>\n",
       "      <th>Month</th>\n",
       "      <th>Year</th>\n",
       "    </tr>\n",
       "  </thead>\n",
       "  <tbody>\n",
       "    <tr>\n",
       "      <th>487</th>\n",
       "      <td>PhonePe</td>\n",
       "      <td>2077.60</td>\n",
       "      <td>394565.58</td>\n",
       "      <td>2077.60</td>\n",
       "      <td>394565.58</td>\n",
       "      <td>12</td>\n",
       "      <td>2021</td>\n",
       "    </tr>\n",
       "    <tr>\n",
       "      <th>488</th>\n",
       "      <td>PhonePe</td>\n",
       "      <td>1911.21</td>\n",
       "      <td>365044.32</td>\n",
       "      <td>1911.21</td>\n",
       "      <td>365044.32</td>\n",
       "      <td>11</td>\n",
       "      <td>2021</td>\n",
       "    </tr>\n",
       "    <tr>\n",
       "      <th>489</th>\n",
       "      <td>PhonePe</td>\n",
       "      <td>1937.57</td>\n",
       "      <td>365845.39</td>\n",
       "      <td>1937.57</td>\n",
       "      <td>365845.39</td>\n",
       "      <td>10</td>\n",
       "      <td>2021</td>\n",
       "    </tr>\n",
       "    <tr>\n",
       "      <th>490</th>\n",
       "      <td>PhonePe</td>\n",
       "      <td>1653.19</td>\n",
       "      <td>306437.37</td>\n",
       "      <td>1653.19</td>\n",
       "      <td>306437.37</td>\n",
       "      <td>9</td>\n",
       "      <td>2021</td>\n",
       "    </tr>\n",
       "    <tr>\n",
       "      <th>491</th>\n",
       "      <td>PhonePe</td>\n",
       "      <td>1622.95</td>\n",
       "      <td>301644.80</td>\n",
       "      <td>1622.95</td>\n",
       "      <td>301644.80</td>\n",
       "      <td>8</td>\n",
       "      <td>2021</td>\n",
       "    </tr>\n",
       "    <tr>\n",
       "      <th>492</th>\n",
       "      <td>PhonePe</td>\n",
       "      <td>1492.09</td>\n",
       "      <td>288573.00</td>\n",
       "      <td>1492.09</td>\n",
       "      <td>288572.90</td>\n",
       "      <td>7</td>\n",
       "      <td>2021</td>\n",
       "    </tr>\n",
       "    <tr>\n",
       "      <th>493</th>\n",
       "      <td>PhonePe</td>\n",
       "      <td>1292.71</td>\n",
       "      <td>262565.88</td>\n",
       "      <td>1292.71</td>\n",
       "      <td>262565.88</td>\n",
       "      <td>6</td>\n",
       "      <td>2021</td>\n",
       "    </tr>\n",
       "    <tr>\n",
       "      <th>494</th>\n",
       "      <td>PhonePe</td>\n",
       "      <td>1149.84</td>\n",
       "      <td>234123.57</td>\n",
       "      <td>1149.84</td>\n",
       "      <td>234123.57</td>\n",
       "      <td>5</td>\n",
       "      <td>2021</td>\n",
       "    </tr>\n",
       "    <tr>\n",
       "      <th>495</th>\n",
       "      <td>PhonePe</td>\n",
       "      <td>1189.89</td>\n",
       "      <td>234023.33</td>\n",
       "      <td>1189.89</td>\n",
       "      <td>234023.33</td>\n",
       "      <td>4</td>\n",
       "      <td>2021</td>\n",
       "    </tr>\n",
       "    <tr>\n",
       "      <th>496</th>\n",
       "      <td>PhonePe</td>\n",
       "      <td>1199.51</td>\n",
       "      <td>231412.33</td>\n",
       "      <td>1199.51</td>\n",
       "      <td>231412.33</td>\n",
       "      <td>3</td>\n",
       "      <td>2021</td>\n",
       "    </tr>\n",
       "    <tr>\n",
       "      <th>497</th>\n",
       "      <td>PhonePe</td>\n",
       "      <td>975.53</td>\n",
       "      <td>189517.82</td>\n",
       "      <td>975.53</td>\n",
       "      <td>189517.82</td>\n",
       "      <td>2</td>\n",
       "      <td>2021</td>\n",
       "    </tr>\n",
       "    <tr>\n",
       "      <th>498</th>\n",
       "      <td>PhonePe</td>\n",
       "      <td>968.72</td>\n",
       "      <td>191973.77</td>\n",
       "      <td>968.72</td>\n",
       "      <td>191973.77</td>\n",
       "      <td>1</td>\n",
       "      <td>2021</td>\n",
       "    </tr>\n",
       "  </tbody>\n",
       "</table>\n",
       "</div>"
      ],
      "text/plain": [
       "    UPI Banks  Volume (Mn) By Costumers  Value (Cr) by Costumers  Volume (Mn)  \\\n",
       "487   PhonePe                   2077.60                394565.58      2077.60   \n",
       "488   PhonePe                   1911.21                365044.32      1911.21   \n",
       "489   PhonePe                   1937.57                365845.39      1937.57   \n",
       "490   PhonePe                   1653.19                306437.37      1653.19   \n",
       "491   PhonePe                   1622.95                301644.80      1622.95   \n",
       "492   PhonePe                   1492.09                288573.00      1492.09   \n",
       "493   PhonePe                   1292.71                262565.88      1292.71   \n",
       "494   PhonePe                   1149.84                234123.57      1149.84   \n",
       "495   PhonePe                   1189.89                234023.33      1189.89   \n",
       "496   PhonePe                   1199.51                231412.33      1199.51   \n",
       "497   PhonePe                    975.53                189517.82       975.53   \n",
       "498   PhonePe                    968.72                191973.77       968.72   \n",
       "\n",
       "     Value (Cr)  Month  Year  \n",
       "487   394565.58     12  2021  \n",
       "488   365044.32     11  2021  \n",
       "489   365845.39     10  2021  \n",
       "490   306437.37      9  2021  \n",
       "491   301644.80      8  2021  \n",
       "492   288572.90      7  2021  \n",
       "493   262565.88      6  2021  \n",
       "494   234123.57      5  2021  \n",
       "495   234023.33      4  2021  \n",
       "496   231412.33      3  2021  \n",
       "497   189517.82      2  2021  \n",
       "498   191973.77      1  2021  "
      ]
     },
     "execution_count": 24,
     "metadata": {},
     "output_type": "execute_result"
    }
   ],
   "source": [
    "phonePe_Payment"
   ]
  },
  {
   "cell_type": "code",
   "execution_count": 25,
   "id": "c5c52e43",
   "metadata": {},
   "outputs": [
    {
     "data": {
      "image/png": "[encoded data removed]",
      "text/plain": [
       "<Figure size 720x432 with 1 Axes>"
      ]
     },
     "metadata": {},
     "output_type": "display_data"
    }
   ],
   "source": [
    "plt.figure(figsize=(10,6))\n",
    "sns.set_style(\"whitegrid\")\n",
    "sns.lineplot(x='Month',y='Volume (Mn) By Costumers',data =phonePe_Payment)\n",
    "plt.xlabel('Month',fontweight='bold',size = 12) \n",
    "plt.ylabel('Volume (Mn) By Costumers',fontweight='bold',size = 12) \n",
    "plt.title(\"Trend Month v/s Volume (Mn) By Costumers for only phonePe_Payment \",fontweight='bold',size = 12)\n",
    "plt.show()"
   ]
  },
  {
   "cell_type": "code",
   "execution_count": 26,
   "id": "8c0c7199",
   "metadata": {},
   "outputs": [
    {
     "data": {
      "image/png": "[encoded data removed]",
      "text/plain": [
       "<Figure size 720x432 with 1 Axes>"
      ]
     },
     "metadata": {},
     "output_type": "display_data"
    }
   ],
   "source": [
    "plt.figure(figsize=(10,6))\n",
    "sns.set_style(\"whitegrid\")\n",
    "sns.lineplot(x='Month',y='Value (Cr) by Costumers',data =phonePe_Payment)\n",
    "plt.xlabel('Month',fontweight='bold',size = 12) \n",
    "plt.ylabel('Value (Cr) by Costumers',fontweight='bold',size = 12) \n",
    "plt.title(\"Trend Month v/s Value (Cr) by Costumers phonePe_Payment\",fontweight='bold',size = 12)\n",
    "plt.show()"
   ]
  },
  {
   "cell_type": "code",
   "execution_count": 27,
   "id": "d644bbd6",
   "metadata": {},
   "outputs": [
    {
     "data": {
      "image/png": "[encoded data removed]",
      "text/plain": [
       "<Figure size 720x432 with 1 Axes>"
      ]
     },
     "metadata": {},
     "output_type": "display_data"
    }
   ],
   "source": [
    "plt.figure(figsize=(10,6))\n",
    "sns.set_style(\"whitegrid\")\n",
    "sns.lineplot(x='Month',y='Volume (Mn)',data =phonePe_Payment)\n",
    "plt.xlabel('Month',fontweight='bold',size = 12) \n",
    "plt.ylabel('Volume (Mn)',fontweight='bold',size = 12) \n",
    "plt.title(\"Trend Month v/s Volume (Mn) by Costumers phonePe_Payment\",fontweight='bold',size = 12)\n",
    "plt.show()\n"
   ]
  },
  {
   "cell_type": "code",
   "execution_count": 28,
   "id": "7ace45d6",
   "metadata": {},
   "outputs": [
    {
     "data": {
      "image/png": "[encoded data removed]",
      "text/plain": [
       "<Figure size 720x432 with 1 Axes>"
      ]
     },
     "metadata": {},
     "output_type": "display_data"
    }
   ],
   "source": [
    "plt.figure(figsize=(10,6))\n",
    "sns.set_style(\"whitegrid\")\n",
    "sns.lineplot(x='Month',y='Value (Cr)',data =phonePe_Payment)\n",
    "plt.xlabel('Month',fontweight='bold',size = 12) \n",
    "plt.ylabel('Value (Cr)',fontweight='bold',size = 12) \n",
    "plt.title(\"Trend Month v/s Value (Cr) phonePe_Payment\",fontweight='bold',size = 12)\n",
    "plt.show()"
   ]
  },
  {
   "cell_type": "markdown",
   "id": "8bf9059c",
   "metadata": {},
   "source": [
    "<h1 style=\"text-align:center\">Thank you</h1>"
   ]
  },
  {
   "cell_type": "markdown",
   "id": "490bfdfc",
   "metadata": {},
   "source": [
    "![title](https://thumbs.gfycat.com/MeaslyOptimisticAfricanwildcat-size_restricted.gif)"
   ]
  },
  {
   "cell_type": "code",
   "execution_count": null,
   "id": "bb7e861c",
   "metadata": {},
   "outputs": [],
   "source": []
  }
 ],
 "metadata": {
  "kernelspec": {
   "display_name": "Python 3 (ipykernel)",
   "language": "python",
   "name": "python3"
  },
  "language_info": {
   "codemirror_mode": {
    "name": "ipython",
    "version": 3
   },
   "file_extension": ".py",
   "mimetype": "text/x-python",
   "name": "python",
   "nbconvert_exporter": "python",
   "pygments_lexer": "ipython3",
   "version": "3.8.0"
  }
 },
 "nbformat": 4,
 "nbformat_minor": 5
}
