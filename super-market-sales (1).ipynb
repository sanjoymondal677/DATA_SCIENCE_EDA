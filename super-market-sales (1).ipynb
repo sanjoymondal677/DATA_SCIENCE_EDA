{
 "cells": [
  {
   "cell_type": "code",
   "execution_count": 1,
   "id": "1cbb0483",
   "metadata": {
    "_cell_guid": "b1076dfc-b9ad-4769-8c92-a6c4dae69d19",
    "_uuid": "8f2839f25d086af736a60e9eeb907d3b93b6e0e5",
    "execution": {
     "iopub.execute_input": "2022-01-29T11:21:12.469587Z",
     "iopub.status.busy": "2022-01-29T11:21:12.468956Z",
     "iopub.status.idle": "2022-01-29T11:21:12.482748Z",
     "shell.execute_reply": "2022-01-29T11:21:12.482027Z",
     "shell.execute_reply.started": "2022-01-29T11:18:38.113782Z"
    },
    "papermill": {
     "duration": 0.072739,
     "end_time": "2022-01-29T11:21:12.482903",
     "exception": false,
     "start_time": "2022-01-29T11:21:12.410164",
     "status": "completed"
    },
    "tags": []
   },
   "outputs": [
    {
     "name": "stdout",
     "output_type": "stream",
     "text": [
      "/kaggle/input/sales-forecasting/train.csv\n"
     ]
    }
   ],
   "source": [
    "# This Python 3 environment comes with many helpful analytics libraries installed\n",
    "# It is defined by the kaggle/python Docker image: https://github.com/kaggle/docker-python\n",
    "# For example, here's several helpful packages to load\n",
    "\n",
    "import numpy as np # linear algebra\n",
    "import pandas as pd # data processing, CSV file I/O (e.g. pd.read_csv)\n",
    "\n",
    "# Input data files are available in the read-only \"../input/\" directory\n",
    "# For example, running this (by clicking run or pressing Shift+Enter) will list all files under the input directory\n",
    "\n",
    "import os\n",
    "for dirname, _, filenames in os.walk('/kaggle/input'):\n",
    "    for filename in filenames:\n",
    "        print(os.path.join(dirname, filename))\n",
    "\n",
    "# You can write up to 20GB to the current directory (/kaggle/working/) that gets preserved as output when you create a version using \"Save & Run All\" \n",
    "# You can also write temporary files to /kaggle/temp/, but they won't be saved outside of the current session"
   ]
  },
  {
   "cell_type": "code",
   "execution_count": 2,
   "id": "3d6f63e3",
   "metadata": {
    "execution": {
     "iopub.execute_input": "2022-01-29T11:21:12.586513Z",
     "iopub.status.busy": "2022-01-29T11:21:12.585626Z",
     "iopub.status.idle": "2022-01-29T11:21:13.608544Z",
     "shell.execute_reply": "2022-01-29T11:21:13.608980Z",
     "shell.execute_reply.started": "2022-01-29T11:18:38.157255Z"
    },
    "papermill": {
     "duration": 1.076089,
     "end_time": "2022-01-29T11:21:13.609151",
     "exception": false,
     "start_time": "2022-01-29T11:21:12.533062",
     "status": "completed"
    },
    "tags": []
   },
   "outputs": [],
   "source": [
    "import numpy as np\n",
    "import pandas as pd\n",
    "import matplotlib.pyplot as plt\n",
    "import seaborn as sns"
   ]
  },
  {
   "cell_type": "code",
   "execution_count": 3,
   "id": "fc080556",
   "metadata": {
    "execution": {
     "iopub.execute_input": "2022-01-29T11:21:13.699235Z",
     "iopub.status.busy": "2022-01-29T11:21:13.698694Z",
     "iopub.status.idle": "2022-01-29T11:21:13.785115Z",
     "shell.execute_reply": "2022-01-29T11:21:13.785704Z",
     "shell.execute_reply.started": "2022-01-29T11:18:39.367024Z"
    },
    "papermill": {
     "duration": 0.14423,
     "end_time": "2022-01-29T11:21:13.785864",
     "exception": false,
     "start_time": "2022-01-29T11:21:13.641634",
     "status": "completed"
    },
    "tags": []
   },
   "outputs": [],
   "source": [
    "data = pd.read_csv(\"../input/sales-forecasting/train.csv\")"
   ]
  },
  {
   "cell_type": "code",
   "execution_count": 4,
   "id": "a003cbad",
   "metadata": {
    "execution": {
     "iopub.execute_input": "2022-01-29T11:21:13.857295Z",
     "iopub.status.busy": "2022-01-29T11:21:13.856665Z",
     "iopub.status.idle": "2022-01-29T11:21:13.880015Z",
     "shell.execute_reply": "2022-01-29T11:21:13.880524Z",
     "shell.execute_reply.started": "2022-01-29T11:18:39.473719Z"
    },
    "papermill": {
     "duration": 0.062429,
     "end_time": "2022-01-29T11:21:13.880664",
     "exception": false,
     "start_time": "2022-01-29T11:21:13.818235",
     "status": "completed"
    },
    "tags": []
   },
   "outputs": [
    {
     "data": {
      "text/html": [
       "<div>\n",
       "<style scoped>\n",
       "    .dataframe tbody tr th:only-of-type {\n",
       "        vertical-align: middle;\n",
       "    }\n",
       "\n",
       "    .dataframe tbody tr th {\n",
       "        vertical-align: top;\n",
       "    }\n",
       "\n",
       "    .dataframe thead th {\n",
       "        text-align: right;\n",
       "    }\n",
       "</style>\n",
       "<table border=\"1\" class=\"dataframe\">\n",
       "  <thead>\n",
       "    <tr style=\"text-align: right;\">\n",
       "      <th></th>\n",
       "      <th>Row ID</th>\n",
       "      <th>Order ID</th>\n",
       "      <th>Order Date</th>\n",
       "      <th>Ship Date</th>\n",
       "      <th>Ship Mode</th>\n",
       "      <th>Customer ID</th>\n",
       "      <th>Customer Name</th>\n",
       "      <th>Segment</th>\n",
       "      <th>Country</th>\n",
       "      <th>City</th>\n",
       "      <th>State</th>\n",
       "      <th>Postal Code</th>\n",
       "      <th>Region</th>\n",
       "      <th>Product ID</th>\n",
       "      <th>Category</th>\n",
       "      <th>Sub-Category</th>\n",
       "      <th>Product Name</th>\n",
       "      <th>Sales</th>\n",
       "    </tr>\n",
       "  </thead>\n",
       "  <tbody>\n",
       "    <tr>\n",
       "      <th>0</th>\n",
       "      <td>1</td>\n",
       "      <td>CA-2017-152156</td>\n",
       "      <td>08/11/2017</td>\n",
       "      <td>11/11/2017</td>\n",
       "      <td>Second Class</td>\n",
       "      <td>CG-12520</td>\n",
       "      <td>Claire Gute</td>\n",
       "      <td>Consumer</td>\n",
       "      <td>United States</td>\n",
       "      <td>Henderson</td>\n",
       "      <td>Kentucky</td>\n",
       "      <td>42420.0</td>\n",
       "      <td>South</td>\n",
       "      <td>FUR-BO-10001798</td>\n",
       "      <td>Furniture</td>\n",
       "      <td>Bookcases</td>\n",
       "      <td>Bush Somerset Collection Bookcase</td>\n",
       "      <td>261.9600</td>\n",
       "    </tr>\n",
       "    <tr>\n",
       "      <th>1</th>\n",
       "      <td>2</td>\n",
       "      <td>CA-2017-152156</td>\n",
       "      <td>08/11/2017</td>\n",
       "      <td>11/11/2017</td>\n",
       "      <td>Second Class</td>\n",
       "      <td>CG-12520</td>\n",
       "      <td>Claire Gute</td>\n",
       "      <td>Consumer</td>\n",
       "      <td>United States</td>\n",
       "      <td>Henderson</td>\n",
       "      <td>Kentucky</td>\n",
       "      <td>42420.0</td>\n",
       "      <td>South</td>\n",
       "      <td>FUR-CH-10000454</td>\n",
       "      <td>Furniture</td>\n",
       "      <td>Chairs</td>\n",
       "      <td>Hon Deluxe Fabric Upholstered Stacking Chairs,...</td>\n",
       "      <td>731.9400</td>\n",
       "    </tr>\n",
       "    <tr>\n",
       "      <th>2</th>\n",
       "      <td>3</td>\n",
       "      <td>CA-2017-138688</td>\n",
       "      <td>12/06/2017</td>\n",
       "      <td>16/06/2017</td>\n",
       "      <td>Second Class</td>\n",
       "      <td>DV-13045</td>\n",
       "      <td>Darrin Van Huff</td>\n",
       "      <td>Corporate</td>\n",
       "      <td>United States</td>\n",
       "      <td>Los Angeles</td>\n",
       "      <td>California</td>\n",
       "      <td>90036.0</td>\n",
       "      <td>West</td>\n",
       "      <td>OFF-LA-10000240</td>\n",
       "      <td>Office Supplies</td>\n",
       "      <td>Labels</td>\n",
       "      <td>Self-Adhesive Address Labels for Typewriters b...</td>\n",
       "      <td>14.6200</td>\n",
       "    </tr>\n",
       "    <tr>\n",
       "      <th>3</th>\n",
       "      <td>4</td>\n",
       "      <td>US-2016-108966</td>\n",
       "      <td>11/10/2016</td>\n",
       "      <td>18/10/2016</td>\n",
       "      <td>Standard Class</td>\n",
       "      <td>SO-20335</td>\n",
       "      <td>Sean O'Donnell</td>\n",
       "      <td>Consumer</td>\n",
       "      <td>United States</td>\n",
       "      <td>Fort Lauderdale</td>\n",
       "      <td>Florida</td>\n",
       "      <td>33311.0</td>\n",
       "      <td>South</td>\n",
       "      <td>FUR-TA-10000577</td>\n",
       "      <td>Furniture</td>\n",
       "      <td>Tables</td>\n",
       "      <td>Bretford CR4500 Series Slim Rectangular Table</td>\n",
       "      <td>957.5775</td>\n",
       "    </tr>\n",
       "    <tr>\n",
       "      <th>4</th>\n",
       "      <td>5</td>\n",
       "      <td>US-2016-108966</td>\n",
       "      <td>11/10/2016</td>\n",
       "      <td>18/10/2016</td>\n",
       "      <td>Standard Class</td>\n",
       "      <td>SO-20335</td>\n",
       "      <td>Sean O'Donnell</td>\n",
       "      <td>Consumer</td>\n",
       "      <td>United States</td>\n",
       "      <td>Fort Lauderdale</td>\n",
       "      <td>Florida</td>\n",
       "      <td>33311.0</td>\n",
       "      <td>South</td>\n",
       "      <td>OFF-ST-10000760</td>\n",
       "      <td>Office Supplies</td>\n",
       "      <td>Storage</td>\n",
       "      <td>Eldon Fold 'N Roll Cart System</td>\n",
       "      <td>22.3680</td>\n",
       "    </tr>\n",
       "  </tbody>\n",
       "</table>\n",
       "</div>"
      ],
      "text/plain": [
       "   Row ID        Order ID  Order Date   Ship Date       Ship Mode Customer ID  \\\n",
       "0       1  CA-2017-152156  08/11/2017  11/11/2017    Second Class    CG-12520   \n",
       "1       2  CA-2017-152156  08/11/2017  11/11/2017    Second Class    CG-12520   \n",
       "2       3  CA-2017-138688  12/06/2017  16/06/2017    Second Class    DV-13045   \n",
       "3       4  US-2016-108966  11/10/2016  18/10/2016  Standard Class    SO-20335   \n",
       "4       5  US-2016-108966  11/10/2016  18/10/2016  Standard Class    SO-20335   \n",
       "\n",
       "     Customer Name    Segment        Country             City       State  \\\n",
       "0      Claire Gute   Consumer  United States        Henderson    Kentucky   \n",
       "1      Claire Gute   Consumer  United States        Henderson    Kentucky   \n",
       "2  Darrin Van Huff  Corporate  United States      Los Angeles  California   \n",
       "3   Sean O'Donnell   Consumer  United States  Fort Lauderdale     Florida   \n",
       "4   Sean O'Donnell   Consumer  United States  Fort Lauderdale     Florida   \n",
       "\n",
       "   Postal Code Region       Product ID         Category Sub-Category  \\\n",
       "0      42420.0  South  FUR-BO-10001798        Furniture    Bookcases   \n",
       "1      42420.0  South  FUR-CH-10000454        Furniture       Chairs   \n",
       "2      90036.0   West  OFF-LA-10000240  Office Supplies       Labels   \n",
       "3      33311.0  South  FUR-TA-10000577        Furniture       Tables   \n",
       "4      33311.0  South  OFF-ST-10000760  Office Supplies      Storage   \n",
       "\n",
       "                                        Product Name     Sales  \n",
       "0                  Bush Somerset Collection Bookcase  261.9600  \n",
       "1  Hon Deluxe Fabric Upholstered Stacking Chairs,...  731.9400  \n",
       "2  Self-Adhesive Address Labels for Typewriters b...   14.6200  \n",
       "3      Bretford CR4500 Series Slim Rectangular Table  957.5775  \n",
       "4                     Eldon Fold 'N Roll Cart System   22.3680  "
      ]
     },
     "execution_count": 4,
     "metadata": {},
     "output_type": "execute_result"
    }
   ],
   "source": [
    "data.head()"
   ]
  },
  {
   "cell_type": "code",
   "execution_count": 5,
   "id": "10585ddc",
   "metadata": {
    "execution": {
     "iopub.execute_input": "2022-01-29T11:21:13.949624Z",
     "iopub.status.busy": "2022-01-29T11:21:13.948941Z",
     "iopub.status.idle": "2022-01-29T11:21:13.970794Z",
     "shell.execute_reply": "2022-01-29T11:21:13.971209Z",
     "shell.execute_reply.started": "2022-01-29T11:18:39.512455Z"
    },
    "papermill": {
     "duration": 0.057503,
     "end_time": "2022-01-29T11:21:13.971369",
     "exception": false,
     "start_time": "2022-01-29T11:21:13.913866",
     "status": "completed"
    },
    "tags": []
   },
   "outputs": [
    {
     "data": {
      "text/plain": [
       "Row ID            0\n",
       "Order ID          0\n",
       "Order Date        0\n",
       "Ship Date         0\n",
       "Ship Mode         0\n",
       "Customer ID       0\n",
       "Customer Name     0\n",
       "Segment           0\n",
       "Country           0\n",
       "City              0\n",
       "State             0\n",
       "Postal Code      11\n",
       "Region            0\n",
       "Product ID        0\n",
       "Category          0\n",
       "Sub-Category      0\n",
       "Product Name      0\n",
       "Sales             0\n",
       "dtype: int64"
      ]
     },
     "execution_count": 5,
     "metadata": {},
     "output_type": "execute_result"
    }
   ],
   "source": [
    "data.isnull().sum()"
   ]
  },
  {
   "cell_type": "code",
   "execution_count": 6,
   "id": "d8a4e2d5",
   "metadata": {
    "execution": {
     "iopub.execute_input": "2022-01-29T11:21:14.040549Z",
     "iopub.status.busy": "2022-01-29T11:21:14.039866Z",
     "iopub.status.idle": "2022-01-29T11:21:14.065043Z",
     "shell.execute_reply": "2022-01-29T11:21:14.065463Z",
     "shell.execute_reply.started": "2022-01-29T11:18:39.542375Z"
    },
    "papermill": {
     "duration": 0.060943,
     "end_time": "2022-01-29T11:21:14.065622",
     "exception": false,
     "start_time": "2022-01-29T11:21:14.004679",
     "status": "completed"
    },
    "tags": []
   },
   "outputs": [],
   "source": [
    "data = data.dropna()"
   ]
  },
  {
   "cell_type": "code",
   "execution_count": 7,
   "id": "fe9b9050",
   "metadata": {
    "execution": {
     "iopub.execute_input": "2022-01-29T11:21:14.134040Z",
     "iopub.status.busy": "2022-01-29T11:21:14.133402Z",
     "iopub.status.idle": "2022-01-29T11:21:14.155077Z",
     "shell.execute_reply": "2022-01-29T11:21:14.155484Z",
     "shell.execute_reply.started": "2022-01-29T11:18:39.577410Z"
    },
    "papermill": {
     "duration": 0.056499,
     "end_time": "2022-01-29T11:21:14.155634",
     "exception": false,
     "start_time": "2022-01-29T11:21:14.099135",
     "status": "completed"
    },
    "tags": []
   },
   "outputs": [
    {
     "data": {
      "text/plain": [
       "Row ID           0\n",
       "Order ID         0\n",
       "Order Date       0\n",
       "Ship Date        0\n",
       "Ship Mode        0\n",
       "Customer ID      0\n",
       "Customer Name    0\n",
       "Segment          0\n",
       "Country          0\n",
       "City             0\n",
       "State            0\n",
       "Postal Code      0\n",
       "Region           0\n",
       "Product ID       0\n",
       "Category         0\n",
       "Sub-Category     0\n",
       "Product Name     0\n",
       "Sales            0\n",
       "dtype: int64"
      ]
     },
     "execution_count": 7,
     "metadata": {},
     "output_type": "execute_result"
    }
   ],
   "source": [
    "data.isnull().sum()"
   ]
  },
  {
   "cell_type": "code",
   "execution_count": 8,
   "id": "591a4679",
   "metadata": {
    "execution": {
     "iopub.execute_input": "2022-01-29T11:21:14.225994Z",
     "iopub.status.busy": "2022-01-29T11:21:14.225322Z",
     "iopub.status.idle": "2022-01-29T11:21:14.230199Z",
     "shell.execute_reply": "2022-01-29T11:21:14.230703Z",
     "shell.execute_reply.started": "2022-01-29T11:18:39.606648Z"
    },
    "papermill": {
     "duration": 0.04151,
     "end_time": "2022-01-29T11:21:14.230831",
     "exception": false,
     "start_time": "2022-01-29T11:21:14.189321",
     "status": "completed"
    },
    "tags": []
   },
   "outputs": [
    {
     "data": {
      "text/plain": [
       "(9789, 18)"
      ]
     },
     "execution_count": 8,
     "metadata": {},
     "output_type": "execute_result"
    }
   ],
   "source": [
    "data.shape"
   ]
  },
  {
   "cell_type": "code",
   "execution_count": 9,
   "id": "e09d3ec6",
   "metadata": {
    "execution": {
     "iopub.execute_input": "2022-01-29T11:21:14.299813Z",
     "iopub.status.busy": "2022-01-29T11:21:14.299166Z",
     "iopub.status.idle": "2022-01-29T11:21:14.305607Z",
     "shell.execute_reply": "2022-01-29T11:21:14.306089Z",
     "shell.execute_reply.started": "2022-01-29T11:18:39.616771Z"
    },
    "papermill": {
     "duration": 0.042243,
     "end_time": "2022-01-29T11:21:14.306213",
     "exception": false,
     "start_time": "2022-01-29T11:21:14.263970",
     "status": "completed"
    },
    "tags": []
   },
   "outputs": [
    {
     "data": {
      "text/plain": [
       "Row ID             int64\n",
       "Order ID          object\n",
       "Order Date        object\n",
       "Ship Date         object\n",
       "Ship Mode         object\n",
       "Customer ID       object\n",
       "Customer Name     object\n",
       "Segment           object\n",
       "Country           object\n",
       "City              object\n",
       "State             object\n",
       "Postal Code      float64\n",
       "Region            object\n",
       "Product ID        object\n",
       "Category          object\n",
       "Sub-Category      object\n",
       "Product Name      object\n",
       "Sales            float64\n",
       "dtype: object"
      ]
     },
     "execution_count": 9,
     "metadata": {},
     "output_type": "execute_result"
    }
   ],
   "source": [
    "data.dtypes"
   ]
  },
  {
   "cell_type": "code",
   "execution_count": null,
   "id": "ebf2923f",
   "metadata": {
    "papermill": {
     "duration": 0.033325,
     "end_time": "2022-01-29T11:21:14.373446",
     "exception": false,
     "start_time": "2022-01-29T11:21:14.340121",
     "status": "completed"
    },
    "tags": []
   },
   "outputs": [],
   "source": []
  },
  {
   "cell_type": "code",
   "execution_count": 10,
   "id": "73814dba",
   "metadata": {
    "execution": {
     "iopub.execute_input": "2022-01-29T11:21:14.443972Z",
     "iopub.status.busy": "2022-01-29T11:21:14.443331Z",
     "iopub.status.idle": "2022-01-29T11:21:14.477052Z",
     "shell.execute_reply": "2022-01-29T11:21:14.477482Z",
     "shell.execute_reply.started": "2022-01-29T11:18:39.635583Z"
    },
    "papermill": {
     "duration": 0.070659,
     "end_time": "2022-01-29T11:21:14.477629",
     "exception": false,
     "start_time": "2022-01-29T11:21:14.406970",
     "status": "completed"
    },
    "tags": []
   },
   "outputs": [
    {
     "name": "stdout",
     "output_type": "stream",
     "text": [
      "<class 'pandas.core.frame.DataFrame'>\n",
      "Int64Index: 9789 entries, 0 to 9799\n",
      "Data columns (total 18 columns):\n",
      " #   Column         Non-Null Count  Dtype  \n",
      "---  ------         --------------  -----  \n",
      " 0   Row ID         9789 non-null   int64  \n",
      " 1   Order ID       9789 non-null   object \n",
      " 2   Order Date     9789 non-null   object \n",
      " 3   Ship Date      9789 non-null   object \n",
      " 4   Ship Mode      9789 non-null   object \n",
      " 5   Customer ID    9789 non-null   object \n",
      " 6   Customer Name  9789 non-null   object \n",
      " 7   Segment        9789 non-null   object \n",
      " 8   Country        9789 non-null   object \n",
      " 9   City           9789 non-null   object \n",
      " 10  State          9789 non-null   object \n",
      " 11  Postal Code    9789 non-null   float64\n",
      " 12  Region         9789 non-null   object \n",
      " 13  Product ID     9789 non-null   object \n",
      " 14  Category       9789 non-null   object \n",
      " 15  Sub-Category   9789 non-null   object \n",
      " 16  Product Name   9789 non-null   object \n",
      " 17  Sales          9789 non-null   float64\n",
      "dtypes: float64(2), int64(1), object(15)\n",
      "memory usage: 1.4+ MB\n"
     ]
    }
   ],
   "source": [
    "data.info()"
   ]
  },
  {
   "cell_type": "code",
   "execution_count": 11,
   "id": "5d132575",
   "metadata": {
    "execution": {
     "iopub.execute_input": "2022-01-29T11:21:14.547764Z",
     "iopub.status.busy": "2022-01-29T11:21:14.547223Z",
     "iopub.status.idle": "2022-01-29T11:21:14.558157Z",
     "shell.execute_reply": "2022-01-29T11:21:14.558554Z",
     "shell.execute_reply.started": "2022-01-29T11:18:39.680874Z"
    },
    "papermill": {
     "duration": 0.04714,
     "end_time": "2022-01-29T11:21:14.558698",
     "exception": false,
     "start_time": "2022-01-29T11:21:14.511558",
     "status": "completed"
    },
    "tags": []
   },
   "outputs": [],
   "source": [
    "data['Order Date'] = pd.to_datetime(data['Order Date'])"
   ]
  },
  {
   "cell_type": "code",
   "execution_count": 12,
   "id": "4d809d13",
   "metadata": {
    "execution": {
     "iopub.execute_input": "2022-01-29T11:21:14.665440Z",
     "iopub.status.busy": "2022-01-29T11:21:14.664755Z",
     "iopub.status.idle": "2022-01-29T11:21:14.673255Z",
     "shell.execute_reply": "2022-01-29T11:21:14.672729Z",
     "shell.execute_reply.started": "2022-01-29T11:18:39.699465Z"
    },
    "papermill": {
     "duration": 0.067071,
     "end_time": "2022-01-29T11:21:14.673412",
     "exception": false,
     "start_time": "2022-01-29T11:21:14.606341",
     "status": "completed"
    },
    "tags": []
   },
   "outputs": [],
   "source": [
    "data['Ship Date'] = pd.to_datetime(data['Ship Date'])"
   ]
  },
  {
   "cell_type": "code",
   "execution_count": 13,
   "id": "16477633",
   "metadata": {
    "execution": {
     "iopub.execute_input": "2022-01-29T11:21:14.784974Z",
     "iopub.status.busy": "2022-01-29T11:21:14.784271Z",
     "iopub.status.idle": "2022-01-29T11:21:14.799857Z",
     "shell.execute_reply": "2022-01-29T11:21:14.799264Z",
     "shell.execute_reply.started": "2022-01-29T11:18:39.715434Z"
    },
    "papermill": {
     "duration": 0.073219,
     "end_time": "2022-01-29T11:21:14.799989",
     "exception": false,
     "start_time": "2022-01-29T11:21:14.726770",
     "status": "completed"
    },
    "tags": []
   },
   "outputs": [
    {
     "data": {
      "text/html": [
       "<div>\n",
       "<style scoped>\n",
       "    .dataframe tbody tr th:only-of-type {\n",
       "        vertical-align: middle;\n",
       "    }\n",
       "\n",
       "    .dataframe tbody tr th {\n",
       "        vertical-align: top;\n",
       "    }\n",
       "\n",
       "    .dataframe thead th {\n",
       "        text-align: right;\n",
       "    }\n",
       "</style>\n",
       "<table border=\"1\" class=\"dataframe\">\n",
       "  <thead>\n",
       "    <tr style=\"text-align: right;\">\n",
       "      <th></th>\n",
       "      <th>Row ID</th>\n",
       "      <th>Order ID</th>\n",
       "      <th>Order Date</th>\n",
       "      <th>Ship Date</th>\n",
       "      <th>Ship Mode</th>\n",
       "      <th>Customer ID</th>\n",
       "      <th>Customer Name</th>\n",
       "      <th>Segment</th>\n",
       "      <th>Country</th>\n",
       "      <th>City</th>\n",
       "      <th>State</th>\n",
       "      <th>Postal Code</th>\n",
       "      <th>Region</th>\n",
       "      <th>Product ID</th>\n",
       "      <th>Category</th>\n",
       "      <th>Sub-Category</th>\n",
       "      <th>Product Name</th>\n",
       "      <th>Sales</th>\n",
       "    </tr>\n",
       "  </thead>\n",
       "  <tbody>\n",
       "    <tr>\n",
       "      <th>0</th>\n",
       "      <td>1</td>\n",
       "      <td>CA-2017-152156</td>\n",
       "      <td>2017-08-11</td>\n",
       "      <td>2017-11-11</td>\n",
       "      <td>Second Class</td>\n",
       "      <td>CG-12520</td>\n",
       "      <td>Claire Gute</td>\n",
       "      <td>Consumer</td>\n",
       "      <td>United States</td>\n",
       "      <td>Henderson</td>\n",
       "      <td>Kentucky</td>\n",
       "      <td>42420.0</td>\n",
       "      <td>South</td>\n",
       "      <td>FUR-BO-10001798</td>\n",
       "      <td>Furniture</td>\n",
       "      <td>Bookcases</td>\n",
       "      <td>Bush Somerset Collection Bookcase</td>\n",
       "      <td>261.9600</td>\n",
       "    </tr>\n",
       "    <tr>\n",
       "      <th>1</th>\n",
       "      <td>2</td>\n",
       "      <td>CA-2017-152156</td>\n",
       "      <td>2017-08-11</td>\n",
       "      <td>2017-11-11</td>\n",
       "      <td>Second Class</td>\n",
       "      <td>CG-12520</td>\n",
       "      <td>Claire Gute</td>\n",
       "      <td>Consumer</td>\n",
       "      <td>United States</td>\n",
       "      <td>Henderson</td>\n",
       "      <td>Kentucky</td>\n",
       "      <td>42420.0</td>\n",
       "      <td>South</td>\n",
       "      <td>FUR-CH-10000454</td>\n",
       "      <td>Furniture</td>\n",
       "      <td>Chairs</td>\n",
       "      <td>Hon Deluxe Fabric Upholstered Stacking Chairs,...</td>\n",
       "      <td>731.9400</td>\n",
       "    </tr>\n",
       "    <tr>\n",
       "      <th>2</th>\n",
       "      <td>3</td>\n",
       "      <td>CA-2017-138688</td>\n",
       "      <td>2017-12-06</td>\n",
       "      <td>2017-06-16</td>\n",
       "      <td>Second Class</td>\n",
       "      <td>DV-13045</td>\n",
       "      <td>Darrin Van Huff</td>\n",
       "      <td>Corporate</td>\n",
       "      <td>United States</td>\n",
       "      <td>Los Angeles</td>\n",
       "      <td>California</td>\n",
       "      <td>90036.0</td>\n",
       "      <td>West</td>\n",
       "      <td>OFF-LA-10000240</td>\n",
       "      <td>Office Supplies</td>\n",
       "      <td>Labels</td>\n",
       "      <td>Self-Adhesive Address Labels for Typewriters b...</td>\n",
       "      <td>14.6200</td>\n",
       "    </tr>\n",
       "    <tr>\n",
       "      <th>3</th>\n",
       "      <td>4</td>\n",
       "      <td>US-2016-108966</td>\n",
       "      <td>2016-11-10</td>\n",
       "      <td>2016-10-18</td>\n",
       "      <td>Standard Class</td>\n",
       "      <td>SO-20335</td>\n",
       "      <td>Sean O'Donnell</td>\n",
       "      <td>Consumer</td>\n",
       "      <td>United States</td>\n",
       "      <td>Fort Lauderdale</td>\n",
       "      <td>Florida</td>\n",
       "      <td>33311.0</td>\n",
       "      <td>South</td>\n",
       "      <td>FUR-TA-10000577</td>\n",
       "      <td>Furniture</td>\n",
       "      <td>Tables</td>\n",
       "      <td>Bretford CR4500 Series Slim Rectangular Table</td>\n",
       "      <td>957.5775</td>\n",
       "    </tr>\n",
       "    <tr>\n",
       "      <th>4</th>\n",
       "      <td>5</td>\n",
       "      <td>US-2016-108966</td>\n",
       "      <td>2016-11-10</td>\n",
       "      <td>2016-10-18</td>\n",
       "      <td>Standard Class</td>\n",
       "      <td>SO-20335</td>\n",
       "      <td>Sean O'Donnell</td>\n",
       "      <td>Consumer</td>\n",
       "      <td>United States</td>\n",
       "      <td>Fort Lauderdale</td>\n",
       "      <td>Florida</td>\n",
       "      <td>33311.0</td>\n",
       "      <td>South</td>\n",
       "      <td>OFF-ST-10000760</td>\n",
       "      <td>Office Supplies</td>\n",
       "      <td>Storage</td>\n",
       "      <td>Eldon Fold 'N Roll Cart System</td>\n",
       "      <td>22.3680</td>\n",
       "    </tr>\n",
       "  </tbody>\n",
       "</table>\n",
       "</div>"
      ],
      "text/plain": [
       "   Row ID        Order ID Order Date  Ship Date       Ship Mode Customer ID  \\\n",
       "0       1  CA-2017-152156 2017-08-11 2017-11-11    Second Class    CG-12520   \n",
       "1       2  CA-2017-152156 2017-08-11 2017-11-11    Second Class    CG-12520   \n",
       "2       3  CA-2017-138688 2017-12-06 2017-06-16    Second Class    DV-13045   \n",
       "3       4  US-2016-108966 2016-11-10 2016-10-18  Standard Class    SO-20335   \n",
       "4       5  US-2016-108966 2016-11-10 2016-10-18  Standard Class    SO-20335   \n",
       "\n",
       "     Customer Name    Segment        Country             City       State  \\\n",
       "0      Claire Gute   Consumer  United States        Henderson    Kentucky   \n",
       "1      Claire Gute   Consumer  United States        Henderson    Kentucky   \n",
       "2  Darrin Van Huff  Corporate  United States      Los Angeles  California   \n",
       "3   Sean O'Donnell   Consumer  United States  Fort Lauderdale     Florida   \n",
       "4   Sean O'Donnell   Consumer  United States  Fort Lauderdale     Florida   \n",
       "\n",
       "   Postal Code Region       Product ID         Category Sub-Category  \\\n",
       "0      42420.0  South  FUR-BO-10001798        Furniture    Bookcases   \n",
       "1      42420.0  South  FUR-CH-10000454        Furniture       Chairs   \n",
       "2      90036.0   West  OFF-LA-10000240  Office Supplies       Labels   \n",
       "3      33311.0  South  FUR-TA-10000577        Furniture       Tables   \n",
       "4      33311.0  South  OFF-ST-10000760  Office Supplies      Storage   \n",
       "\n",
       "                                        Product Name     Sales  \n",
       "0                  Bush Somerset Collection Bookcase  261.9600  \n",
       "1  Hon Deluxe Fabric Upholstered Stacking Chairs,...  731.9400  \n",
       "2  Self-Adhesive Address Labels for Typewriters b...   14.6200  \n",
       "3      Bretford CR4500 Series Slim Rectangular Table  957.5775  \n",
       "4                     Eldon Fold 'N Roll Cart System   22.3680  "
      ]
     },
     "execution_count": 13,
     "metadata": {},
     "output_type": "execute_result"
    }
   ],
   "source": [
    "data.head()"
   ]
  },
  {
   "cell_type": "code",
   "execution_count": 14,
   "id": "f0a16cb4",
   "metadata": {
    "execution": {
     "iopub.execute_input": "2022-01-29T11:21:14.911320Z",
     "iopub.status.busy": "2022-01-29T11:21:14.910123Z",
     "iopub.status.idle": "2022-01-29T11:21:14.913075Z",
     "shell.execute_reply": "2022-01-29T11:21:14.913556Z",
     "shell.execute_reply.started": "2022-01-29T11:18:39.749636Z"
    },
    "papermill": {
     "duration": 0.060437,
     "end_time": "2022-01-29T11:21:14.913685",
     "exception": false,
     "start_time": "2022-01-29T11:21:14.853248",
     "status": "completed"
    },
    "tags": []
   },
   "outputs": [],
   "source": [
    "df = data.copy()"
   ]
  },
  {
   "cell_type": "code",
   "execution_count": 15,
   "id": "f6aa9382",
   "metadata": {
    "execution": {
     "iopub.execute_input": "2022-01-29T11:21:14.985392Z",
     "iopub.status.busy": "2022-01-29T11:21:14.984725Z",
     "iopub.status.idle": "2022-01-29T11:21:15.005878Z",
     "shell.execute_reply": "2022-01-29T11:21:15.006364Z",
     "shell.execute_reply.started": "2022-01-29T11:18:39.758254Z"
    },
    "papermill": {
     "duration": 0.05839,
     "end_time": "2022-01-29T11:21:15.006491",
     "exception": false,
     "start_time": "2022-01-29T11:21:14.948101",
     "status": "completed"
    },
    "tags": []
   },
   "outputs": [
    {
     "data": {
      "text/html": [
       "<div>\n",
       "<style scoped>\n",
       "    .dataframe tbody tr th:only-of-type {\n",
       "        vertical-align: middle;\n",
       "    }\n",
       "\n",
       "    .dataframe tbody tr th {\n",
       "        vertical-align: top;\n",
       "    }\n",
       "\n",
       "    .dataframe thead th {\n",
       "        text-align: right;\n",
       "    }\n",
       "</style>\n",
       "<table border=\"1\" class=\"dataframe\">\n",
       "  <thead>\n",
       "    <tr style=\"text-align: right;\">\n",
       "      <th></th>\n",
       "      <th>Row ID</th>\n",
       "      <th>Order ID</th>\n",
       "      <th>Order Date</th>\n",
       "      <th>Ship Date</th>\n",
       "      <th>Ship Mode</th>\n",
       "      <th>Customer ID</th>\n",
       "      <th>Customer Name</th>\n",
       "      <th>Segment</th>\n",
       "      <th>Country</th>\n",
       "      <th>City</th>\n",
       "      <th>State</th>\n",
       "      <th>Postal Code</th>\n",
       "      <th>Region</th>\n",
       "      <th>Product ID</th>\n",
       "      <th>Category</th>\n",
       "      <th>Sub-Category</th>\n",
       "      <th>Product Name</th>\n",
       "      <th>Sales</th>\n",
       "    </tr>\n",
       "  </thead>\n",
       "  <tbody>\n",
       "    <tr>\n",
       "      <th>0</th>\n",
       "      <td>1</td>\n",
       "      <td>CA-2017-152156</td>\n",
       "      <td>2017-08-11</td>\n",
       "      <td>2017-11-11</td>\n",
       "      <td>Second Class</td>\n",
       "      <td>CG-12520</td>\n",
       "      <td>Claire Gute</td>\n",
       "      <td>Consumer</td>\n",
       "      <td>United States</td>\n",
       "      <td>Henderson</td>\n",
       "      <td>Kentucky</td>\n",
       "      <td>42420.0</td>\n",
       "      <td>South</td>\n",
       "      <td>FUR-BO-10001798</td>\n",
       "      <td>Furniture</td>\n",
       "      <td>Bookcases</td>\n",
       "      <td>Bush Somerset Collection Bookcase</td>\n",
       "      <td>261.9600</td>\n",
       "    </tr>\n",
       "    <tr>\n",
       "      <th>1</th>\n",
       "      <td>2</td>\n",
       "      <td>CA-2017-152156</td>\n",
       "      <td>2017-08-11</td>\n",
       "      <td>2017-11-11</td>\n",
       "      <td>Second Class</td>\n",
       "      <td>CG-12520</td>\n",
       "      <td>Claire Gute</td>\n",
       "      <td>Consumer</td>\n",
       "      <td>United States</td>\n",
       "      <td>Henderson</td>\n",
       "      <td>Kentucky</td>\n",
       "      <td>42420.0</td>\n",
       "      <td>South</td>\n",
       "      <td>FUR-CH-10000454</td>\n",
       "      <td>Furniture</td>\n",
       "      <td>Chairs</td>\n",
       "      <td>Hon Deluxe Fabric Upholstered Stacking Chairs,...</td>\n",
       "      <td>731.9400</td>\n",
       "    </tr>\n",
       "    <tr>\n",
       "      <th>2</th>\n",
       "      <td>3</td>\n",
       "      <td>CA-2017-138688</td>\n",
       "      <td>2017-12-06</td>\n",
       "      <td>2017-06-16</td>\n",
       "      <td>Second Class</td>\n",
       "      <td>DV-13045</td>\n",
       "      <td>Darrin Van Huff</td>\n",
       "      <td>Corporate</td>\n",
       "      <td>United States</td>\n",
       "      <td>Los Angeles</td>\n",
       "      <td>California</td>\n",
       "      <td>90036.0</td>\n",
       "      <td>West</td>\n",
       "      <td>OFF-LA-10000240</td>\n",
       "      <td>Office Supplies</td>\n",
       "      <td>Labels</td>\n",
       "      <td>Self-Adhesive Address Labels for Typewriters b...</td>\n",
       "      <td>14.6200</td>\n",
       "    </tr>\n",
       "    <tr>\n",
       "      <th>3</th>\n",
       "      <td>4</td>\n",
       "      <td>US-2016-108966</td>\n",
       "      <td>2016-11-10</td>\n",
       "      <td>2016-10-18</td>\n",
       "      <td>Standard Class</td>\n",
       "      <td>SO-20335</td>\n",
       "      <td>Sean O'Donnell</td>\n",
       "      <td>Consumer</td>\n",
       "      <td>United States</td>\n",
       "      <td>Fort Lauderdale</td>\n",
       "      <td>Florida</td>\n",
       "      <td>33311.0</td>\n",
       "      <td>South</td>\n",
       "      <td>FUR-TA-10000577</td>\n",
       "      <td>Furniture</td>\n",
       "      <td>Tables</td>\n",
       "      <td>Bretford CR4500 Series Slim Rectangular Table</td>\n",
       "      <td>957.5775</td>\n",
       "    </tr>\n",
       "    <tr>\n",
       "      <th>4</th>\n",
       "      <td>5</td>\n",
       "      <td>US-2016-108966</td>\n",
       "      <td>2016-11-10</td>\n",
       "      <td>2016-10-18</td>\n",
       "      <td>Standard Class</td>\n",
       "      <td>SO-20335</td>\n",
       "      <td>Sean O'Donnell</td>\n",
       "      <td>Consumer</td>\n",
       "      <td>United States</td>\n",
       "      <td>Fort Lauderdale</td>\n",
       "      <td>Florida</td>\n",
       "      <td>33311.0</td>\n",
       "      <td>South</td>\n",
       "      <td>OFF-ST-10000760</td>\n",
       "      <td>Office Supplies</td>\n",
       "      <td>Storage</td>\n",
       "      <td>Eldon Fold 'N Roll Cart System</td>\n",
       "      <td>22.3680</td>\n",
       "    </tr>\n",
       "  </tbody>\n",
       "</table>\n",
       "</div>"
      ],
      "text/plain": [
       "   Row ID        Order ID Order Date  Ship Date       Ship Mode Customer ID  \\\n",
       "0       1  CA-2017-152156 2017-08-11 2017-11-11    Second Class    CG-12520   \n",
       "1       2  CA-2017-152156 2017-08-11 2017-11-11    Second Class    CG-12520   \n",
       "2       3  CA-2017-138688 2017-12-06 2017-06-16    Second Class    DV-13045   \n",
       "3       4  US-2016-108966 2016-11-10 2016-10-18  Standard Class    SO-20335   \n",
       "4       5  US-2016-108966 2016-11-10 2016-10-18  Standard Class    SO-20335   \n",
       "\n",
       "     Customer Name    Segment        Country             City       State  \\\n",
       "0      Claire Gute   Consumer  United States        Henderson    Kentucky   \n",
       "1      Claire Gute   Consumer  United States        Henderson    Kentucky   \n",
       "2  Darrin Van Huff  Corporate  United States      Los Angeles  California   \n",
       "3   Sean O'Donnell   Consumer  United States  Fort Lauderdale     Florida   \n",
       "4   Sean O'Donnell   Consumer  United States  Fort Lauderdale     Florida   \n",
       "\n",
       "   Postal Code Region       Product ID         Category Sub-Category  \\\n",
       "0      42420.0  South  FUR-BO-10001798        Furniture    Bookcases   \n",
       "1      42420.0  South  FUR-CH-10000454        Furniture       Chairs   \n",
       "2      90036.0   West  OFF-LA-10000240  Office Supplies       Labels   \n",
       "3      33311.0  South  FUR-TA-10000577        Furniture       Tables   \n",
       "4      33311.0  South  OFF-ST-10000760  Office Supplies      Storage   \n",
       "\n",
       "                                        Product Name     Sales  \n",
       "0                  Bush Somerset Collection Bookcase  261.9600  \n",
       "1  Hon Deluxe Fabric Upholstered Stacking Chairs,...  731.9400  \n",
       "2  Self-Adhesive Address Labels for Typewriters b...   14.6200  \n",
       "3      Bretford CR4500 Series Slim Rectangular Table  957.5775  \n",
       "4                     Eldon Fold 'N Roll Cart System   22.3680  "
      ]
     },
     "execution_count": 15,
     "metadata": {},
     "output_type": "execute_result"
    }
   ],
   "source": [
    "df.head()"
   ]
  },
  {
   "cell_type": "code",
   "execution_count": 16,
   "id": "0f569630",
   "metadata": {
    "execution": {
     "iopub.execute_input": "2022-01-29T11:21:15.078169Z",
     "iopub.status.busy": "2022-01-29T11:21:15.077706Z",
     "iopub.status.idle": "2022-01-29T11:21:15.082888Z",
     "shell.execute_reply": "2022-01-29T11:21:15.083368Z",
     "shell.execute_reply.started": "2022-01-29T11:18:39.791832Z"
    },
    "papermill": {
     "duration": 0.042228,
     "end_time": "2022-01-29T11:21:15.083492",
     "exception": false,
     "start_time": "2022-01-29T11:21:15.041264",
     "status": "completed"
    },
    "tags": []
   },
   "outputs": [],
   "source": [
    "df = df.drop(['Row ID','Order ID','Product ID','Customer ID','Customer Name'],axis=1)"
   ]
  },
  {
   "cell_type": "code",
   "execution_count": 17,
   "id": "b5e23c34",
   "metadata": {
    "execution": {
     "iopub.execute_input": "2022-01-29T11:21:15.155316Z",
     "iopub.status.busy": "2022-01-29T11:21:15.154823Z",
     "iopub.status.idle": "2022-01-29T11:21:15.172940Z",
     "shell.execute_reply": "2022-01-29T11:21:15.173294Z",
     "shell.execute_reply.started": "2022-01-29T11:18:39.805449Z"
    },
    "papermill": {
     "duration": 0.054655,
     "end_time": "2022-01-29T11:21:15.173446",
     "exception": false,
     "start_time": "2022-01-29T11:21:15.118791",
     "status": "completed"
    },
    "tags": []
   },
   "outputs": [
    {
     "data": {
      "text/html": [
       "<div>\n",
       "<style scoped>\n",
       "    .dataframe tbody tr th:only-of-type {\n",
       "        vertical-align: middle;\n",
       "    }\n",
       "\n",
       "    .dataframe tbody tr th {\n",
       "        vertical-align: top;\n",
       "    }\n",
       "\n",
       "    .dataframe thead th {\n",
       "        text-align: right;\n",
       "    }\n",
       "</style>\n",
       "<table border=\"1\" class=\"dataframe\">\n",
       "  <thead>\n",
       "    <tr style=\"text-align: right;\">\n",
       "      <th></th>\n",
       "      <th>Order Date</th>\n",
       "      <th>Ship Date</th>\n",
       "      <th>Ship Mode</th>\n",
       "      <th>Segment</th>\n",
       "      <th>Country</th>\n",
       "      <th>City</th>\n",
       "      <th>State</th>\n",
       "      <th>Postal Code</th>\n",
       "      <th>Region</th>\n",
       "      <th>Category</th>\n",
       "      <th>Sub-Category</th>\n",
       "      <th>Product Name</th>\n",
       "      <th>Sales</th>\n",
       "    </tr>\n",
       "  </thead>\n",
       "  <tbody>\n",
       "    <tr>\n",
       "      <th>0</th>\n",
       "      <td>2017-08-11</td>\n",
       "      <td>2017-11-11</td>\n",
       "      <td>Second Class</td>\n",
       "      <td>Consumer</td>\n",
       "      <td>United States</td>\n",
       "      <td>Henderson</td>\n",
       "      <td>Kentucky</td>\n",
       "      <td>42420.0</td>\n",
       "      <td>South</td>\n",
       "      <td>Furniture</td>\n",
       "      <td>Bookcases</td>\n",
       "      <td>Bush Somerset Collection Bookcase</td>\n",
       "      <td>261.9600</td>\n",
       "    </tr>\n",
       "    <tr>\n",
       "      <th>1</th>\n",
       "      <td>2017-08-11</td>\n",
       "      <td>2017-11-11</td>\n",
       "      <td>Second Class</td>\n",
       "      <td>Consumer</td>\n",
       "      <td>United States</td>\n",
       "      <td>Henderson</td>\n",
       "      <td>Kentucky</td>\n",
       "      <td>42420.0</td>\n",
       "      <td>South</td>\n",
       "      <td>Furniture</td>\n",
       "      <td>Chairs</td>\n",
       "      <td>Hon Deluxe Fabric Upholstered Stacking Chairs,...</td>\n",
       "      <td>731.9400</td>\n",
       "    </tr>\n",
       "    <tr>\n",
       "      <th>2</th>\n",
       "      <td>2017-12-06</td>\n",
       "      <td>2017-06-16</td>\n",
       "      <td>Second Class</td>\n",
       "      <td>Corporate</td>\n",
       "      <td>United States</td>\n",
       "      <td>Los Angeles</td>\n",
       "      <td>California</td>\n",
       "      <td>90036.0</td>\n",
       "      <td>West</td>\n",
       "      <td>Office Supplies</td>\n",
       "      <td>Labels</td>\n",
       "      <td>Self-Adhesive Address Labels for Typewriters b...</td>\n",
       "      <td>14.6200</td>\n",
       "    </tr>\n",
       "    <tr>\n",
       "      <th>3</th>\n",
       "      <td>2016-11-10</td>\n",
       "      <td>2016-10-18</td>\n",
       "      <td>Standard Class</td>\n",
       "      <td>Consumer</td>\n",
       "      <td>United States</td>\n",
       "      <td>Fort Lauderdale</td>\n",
       "      <td>Florida</td>\n",
       "      <td>33311.0</td>\n",
       "      <td>South</td>\n",
       "      <td>Furniture</td>\n",
       "      <td>Tables</td>\n",
       "      <td>Bretford CR4500 Series Slim Rectangular Table</td>\n",
       "      <td>957.5775</td>\n",
       "    </tr>\n",
       "    <tr>\n",
       "      <th>4</th>\n",
       "      <td>2016-11-10</td>\n",
       "      <td>2016-10-18</td>\n",
       "      <td>Standard Class</td>\n",
       "      <td>Consumer</td>\n",
       "      <td>United States</td>\n",
       "      <td>Fort Lauderdale</td>\n",
       "      <td>Florida</td>\n",
       "      <td>33311.0</td>\n",
       "      <td>South</td>\n",
       "      <td>Office Supplies</td>\n",
       "      <td>Storage</td>\n",
       "      <td>Eldon Fold 'N Roll Cart System</td>\n",
       "      <td>22.3680</td>\n",
       "    </tr>\n",
       "  </tbody>\n",
       "</table>\n",
       "</div>"
      ],
      "text/plain": [
       "  Order Date  Ship Date       Ship Mode    Segment        Country  \\\n",
       "0 2017-08-11 2017-11-11    Second Class   Consumer  United States   \n",
       "1 2017-08-11 2017-11-11    Second Class   Consumer  United States   \n",
       "2 2017-12-06 2017-06-16    Second Class  Corporate  United States   \n",
       "3 2016-11-10 2016-10-18  Standard Class   Consumer  United States   \n",
       "4 2016-11-10 2016-10-18  Standard Class   Consumer  United States   \n",
       "\n",
       "              City       State  Postal Code Region         Category  \\\n",
       "0        Henderson    Kentucky      42420.0  South        Furniture   \n",
       "1        Henderson    Kentucky      42420.0  South        Furniture   \n",
       "2      Los Angeles  California      90036.0   West  Office Supplies   \n",
       "3  Fort Lauderdale     Florida      33311.0  South        Furniture   \n",
       "4  Fort Lauderdale     Florida      33311.0  South  Office Supplies   \n",
       "\n",
       "  Sub-Category                                       Product Name     Sales  \n",
       "0    Bookcases                  Bush Somerset Collection Bookcase  261.9600  \n",
       "1       Chairs  Hon Deluxe Fabric Upholstered Stacking Chairs,...  731.9400  \n",
       "2       Labels  Self-Adhesive Address Labels for Typewriters b...   14.6200  \n",
       "3       Tables      Bretford CR4500 Series Slim Rectangular Table  957.5775  \n",
       "4      Storage                     Eldon Fold 'N Roll Cart System   22.3680  "
      ]
     },
     "execution_count": 17,
     "metadata": {},
     "output_type": "execute_result"
    }
   ],
   "source": [
    "df.head()"
   ]
  },
  {
   "cell_type": "code",
   "execution_count": 18,
   "id": "3f61d968",
   "metadata": {
    "execution": {
     "iopub.execute_input": "2022-01-29T11:21:15.248712Z",
     "iopub.status.busy": "2022-01-29T11:21:15.248208Z",
     "iopub.status.idle": "2022-01-29T11:21:15.254134Z",
     "shell.execute_reply": "2022-01-29T11:21:15.253761Z",
     "shell.execute_reply.started": "2022-01-29T11:18:39.833336Z"
    },
    "papermill": {
     "duration": 0.04659,
     "end_time": "2022-01-29T11:21:15.254234",
     "exception": false,
     "start_time": "2022-01-29T11:21:15.207644",
     "status": "completed"
    },
    "tags": []
   },
   "outputs": [
    {
     "data": {
      "text/plain": [
       "Order Date      0\n",
       "Ship Date       0\n",
       "Ship Mode       0\n",
       "Segment         0\n",
       "Country         0\n",
       "City            0\n",
       "State           0\n",
       "Postal Code     0\n",
       "Region          0\n",
       "Category        0\n",
       "Sub-Category    0\n",
       "Product Name    0\n",
       "Sales           0\n",
       "dtype: int64"
      ]
     },
     "execution_count": 18,
     "metadata": {},
     "output_type": "execute_result"
    }
   ],
   "source": [
    "df.isnull().sum()"
   ]
  },
  {
   "cell_type": "code",
   "execution_count": 19,
   "id": "ce8cd30a",
   "metadata": {
    "execution": {
     "iopub.execute_input": "2022-01-29T11:21:15.328085Z",
     "iopub.status.busy": "2022-01-29T11:21:15.325737Z",
     "iopub.status.idle": "2022-01-29T11:21:15.355978Z",
     "shell.execute_reply": "2022-01-29T11:21:15.356496Z",
     "shell.execute_reply.started": "2022-01-29T11:18:39.856234Z"
    },
    "papermill": {
     "duration": 0.06764,
     "end_time": "2022-01-29T11:21:15.356643",
     "exception": false,
     "start_time": "2022-01-29T11:21:15.289003",
     "status": "completed"
    },
    "tags": []
   },
   "outputs": [
    {
     "data": {
      "text/plain": [
       "0"
      ]
     },
     "execution_count": 19,
     "metadata": {},
     "output_type": "execute_result"
    }
   ],
   "source": [
    "data.duplicated().sum()"
   ]
  },
  {
   "cell_type": "code",
   "execution_count": 20,
   "id": "f0945a4c",
   "metadata": {
    "execution": {
     "iopub.execute_input": "2022-01-29T11:21:15.432448Z",
     "iopub.status.busy": "2022-01-29T11:21:15.431765Z",
     "iopub.status.idle": "2022-01-29T11:21:15.439729Z",
     "shell.execute_reply": "2022-01-29T11:21:15.440231Z",
     "shell.execute_reply.started": "2022-01-29T11:18:39.892564Z"
    },
    "papermill": {
     "duration": 0.047125,
     "end_time": "2022-01-29T11:21:15.440381",
     "exception": false,
     "start_time": "2022-01-29T11:21:15.393256",
     "status": "completed"
    },
    "tags": []
   },
   "outputs": [
    {
     "data": {
      "text/plain": [
       "Consumer       5096\n",
       "Corporate      2948\n",
       "Home Office    1745\n",
       "Name: Segment, dtype: int64"
      ]
     },
     "execution_count": 20,
     "metadata": {},
     "output_type": "execute_result"
    }
   ],
   "source": [
    "df['Segment'].value_counts()"
   ]
  },
  {
   "cell_type": "code",
   "execution_count": 21,
   "id": "eb281f36",
   "metadata": {
    "execution": {
     "iopub.execute_input": "2022-01-29T11:21:15.513825Z",
     "iopub.status.busy": "2022-01-29T11:21:15.513190Z",
     "iopub.status.idle": "2022-01-29T11:21:15.670300Z",
     "shell.execute_reply": "2022-01-29T11:21:15.670836Z",
     "shell.execute_reply.started": "2022-01-29T11:18:39.905787Z"
    },
    "papermill": {
     "duration": 0.195264,
     "end_time": "2022-01-29T11:21:15.670993",
     "exception": false,
     "start_time": "2022-01-29T11:21:15.475729",
     "status": "completed"
    },
    "tags": []
   },
   "outputs": [
    {
     "data": {
      "image/png": "[encoded data removed]",
      "text/plain": [
       "<Figure size 432x288 with 1 Axes>"
      ]
     },
     "metadata": {
      "needs_background": "light"
     },
     "output_type": "display_data"
    }
   ],
   "source": [
    "sns.countplot(x='Segment',data = df,palette = 'viridis')\n",
    "plt.show()"
   ]
  },
  {
   "cell_type": "markdown",
   "id": "2d8f4b0b",
   "metadata": {
    "papermill": {
     "duration": 0.035763,
     "end_time": "2022-01-29T11:21:15.746287",
     "exception": false,
     "start_time": "2022-01-29T11:21:15.710524",
     "status": "completed"
    },
    "tags": []
   },
   "source": [
    "# Sales over the month"
   ]
  },
  {
   "cell_type": "code",
   "execution_count": 22,
   "id": "21daad91",
   "metadata": {
    "execution": {
     "iopub.execute_input": "2022-01-29T11:21:15.821935Z",
     "iopub.status.busy": "2022-01-29T11:21:15.821435Z",
     "iopub.status.idle": "2022-01-29T11:21:15.826685Z",
     "shell.execute_reply": "2022-01-29T11:21:15.827093Z",
     "shell.execute_reply.started": "2022-01-29T11:18:40.137624Z"
    },
    "papermill": {
     "duration": 0.045035,
     "end_time": "2022-01-29T11:21:15.827212",
     "exception": false,
     "start_time": "2022-01-29T11:21:15.782177",
     "status": "completed"
    },
    "tags": []
   },
   "outputs": [],
   "source": [
    "df['ship month'] = df['Ship Date'].dt.month"
   ]
  },
  {
   "cell_type": "code",
   "execution_count": 23,
   "id": "5b0c3b2c",
   "metadata": {
    "execution": {
     "iopub.execute_input": "2022-01-29T11:21:15.902142Z",
     "iopub.status.busy": "2022-01-29T11:21:15.901648Z",
     "iopub.status.idle": "2022-01-29T11:21:16.643163Z",
     "shell.execute_reply": "2022-01-29T11:21:16.642611Z",
     "shell.execute_reply.started": "2022-01-29T11:18:40.147653Z"
    },
    "papermill": {
     "duration": 0.780121,
     "end_time": "2022-01-29T11:21:16.643306",
     "exception": false,
     "start_time": "2022-01-29T11:21:15.863185",
     "status": "completed"
    },
    "tags": []
   },
   "outputs": [
    {
     "name": "stderr",
     "output_type": "stream",
     "text": [
      "/opt/conda/lib/python3.7/site-packages/seaborn/_decorators.py:43: FutureWarning: Pass the following variables as keyword args: x, y. From version 0.12, the only valid positional argument will be `data`, and passing other arguments without an explicit keyword will result in an error or misinterpretation.\n",
      "  FutureWarning\n"
     ]
    },
    {
     "data": {
      "text/plain": [
       "<AxesSubplot:xlabel='ship month', ylabel='Sales'>"
      ]
     },
     "execution_count": 23,
     "metadata": {},
     "output_type": "execute_result"
    },
    {
     "data": {
      "image/png": "[encoded data removed]",
      "text/plain": [
       "<Figure size 432x288 with 1 Axes>"
      ]
     },
     "metadata": {
      "needs_background": "light"
     },
     "output_type": "display_data"
    }
   ],
   "source": [
    "sns.lineplot('ship month','Sales',data = df)"
   ]
  },
  {
   "cell_type": "code",
   "execution_count": 24,
   "id": "bd63cca0",
   "metadata": {
    "execution": {
     "iopub.execute_input": "2022-01-29T11:21:16.763489Z",
     "iopub.status.busy": "2022-01-29T11:21:16.762803Z",
     "iopub.status.idle": "2022-01-29T11:21:17.116160Z",
     "shell.execute_reply": "2022-01-29T11:21:17.116663Z",
     "shell.execute_reply.started": "2022-01-29T11:18:40.872572Z"
    },
    "papermill": {
     "duration": 0.414608,
     "end_time": "2022-01-29T11:21:17.116835",
     "exception": false,
     "start_time": "2022-01-29T11:21:16.702227",
     "status": "completed"
    },
    "tags": []
   },
   "outputs": [
    {
     "name": "stderr",
     "output_type": "stream",
     "text": [
      "/opt/conda/lib/python3.7/site-packages/seaborn/_decorators.py:43: FutureWarning: Pass the following variables as keyword args: x, y. From version 0.12, the only valid positional argument will be `data`, and passing other arguments without an explicit keyword will result in an error or misinterpretation.\n",
      "  FutureWarning\n"
     ]
    },
    {
     "data": {
      "text/plain": [
       "<AxesSubplot:xlabel='Ship Date', ylabel='Sales'>"
      ]
     },
     "execution_count": 24,
     "metadata": {},
     "output_type": "execute_result"
    },
    {
     "data": {
      "image/png": "[encoded data removed]",
      "text/plain": [
       "<Figure size 432x288 with 1 Axes>"
      ]
     },
     "metadata": {
      "needs_background": "light"
     },
     "output_type": "display_data"
    }
   ],
   "source": [
    "sns.lineplot(df['Ship Date'].dt.year,df['Sales'])"
   ]
  },
  {
   "cell_type": "code",
   "execution_count": 25,
   "id": "bc2d283b",
   "metadata": {
    "execution": {
     "iopub.execute_input": "2022-01-29T11:21:17.240441Z",
     "iopub.status.busy": "2022-01-29T11:21:17.239790Z",
     "iopub.status.idle": "2022-01-29T11:21:17.988618Z",
     "shell.execute_reply": "2022-01-29T11:21:17.989169Z",
     "shell.execute_reply.started": "2022-01-29T11:18:41.346983Z"
    },
    "papermill": {
     "duration": 0.81268,
     "end_time": "2022-01-29T11:21:17.989333",
     "exception": false,
     "start_time": "2022-01-29T11:21:17.176653",
     "status": "completed"
    },
    "tags": []
   },
   "outputs": [
    {
     "name": "stderr",
     "output_type": "stream",
     "text": [
      "/opt/conda/lib/python3.7/site-packages/seaborn/_decorators.py:43: FutureWarning: Pass the following variables as keyword args: x, y. From version 0.12, the only valid positional argument will be `data`, and passing other arguments without an explicit keyword will result in an error or misinterpretation.\n",
      "  FutureWarning\n"
     ]
    },
    {
     "data": {
      "text/plain": [
       "<AxesSubplot:xlabel='Order Date', ylabel='Sales'>"
      ]
     },
     "execution_count": 25,
     "metadata": {},
     "output_type": "execute_result"
    },
    {
     "data": {
      "image/png": "[encoded data removed]",
      "text/plain": [
       "<Figure size 432x288 with 1 Axes>"
      ]
     },
     "metadata": {
      "needs_background": "light"
     },
     "output_type": "display_data"
    }
   ],
   "source": [
    "sns.lineplot(df['Order Date'].dt.month,df['Sales'])"
   ]
  },
  {
   "cell_type": "code",
   "execution_count": 26,
   "id": "9bced0f1",
   "metadata": {
    "execution": {
     "iopub.execute_input": "2022-01-29T11:21:18.108683Z",
     "iopub.status.busy": "2022-01-29T11:21:18.106584Z",
     "iopub.status.idle": "2022-01-29T11:21:18.642944Z",
     "shell.execute_reply": "2022-01-29T11:21:18.642225Z",
     "shell.execute_reply.started": "2022-01-29T11:18:42.032200Z"
    },
    "papermill": {
     "duration": 0.591848,
     "end_time": "2022-01-29T11:21:18.643095",
     "exception": false,
     "start_time": "2022-01-29T11:21:18.051247",
     "status": "completed"
    },
    "tags": []
   },
   "outputs": [
    {
     "name": "stderr",
     "output_type": "stream",
     "text": [
      "/opt/conda/lib/python3.7/site-packages/seaborn/_decorators.py:43: FutureWarning: Pass the following variables as keyword args: x, y. From version 0.12, the only valid positional argument will be `data`, and passing other arguments without an explicit keyword will result in an error or misinterpretation.\n",
      "  FutureWarning\n"
     ]
    },
    {
     "data": {
      "text/plain": [
       "<AxesSubplot:xlabel='Order Date', ylabel='Sales'>"
      ]
     },
     "execution_count": 26,
     "metadata": {},
     "output_type": "execute_result"
    },
    {
     "data": {
      "image/png": "[encoded data removed]",
      "text/plain": [
       "<Figure size 432x288 with 1 Axes>"
      ]
     },
     "metadata": {
      "needs_background": "light"
     },
     "output_type": "display_data"
    }
   ],
   "source": [
    "sns.lineplot(df['Order Date'].dt.year,df['Sales'])"
   ]
  },
  {
   "cell_type": "code",
   "execution_count": 27,
   "id": "5ba8b4cc",
   "metadata": {
    "execution": {
     "iopub.execute_input": "2022-01-29T11:21:18.777899Z",
     "iopub.status.busy": "2022-01-29T11:21:18.777103Z",
     "iopub.status.idle": "2022-01-29T11:21:18.780456Z",
     "shell.execute_reply": "2022-01-29T11:21:18.780017Z",
     "shell.execute_reply.started": "2022-01-29T11:18:42.476005Z"
    },
    "papermill": {
     "duration": 0.073315,
     "end_time": "2022-01-29T11:21:18.780568",
     "exception": false,
     "start_time": "2022-01-29T11:21:18.707253",
     "status": "completed"
    },
    "tags": []
   },
   "outputs": [
    {
     "data": {
      "text/plain": [
       "United States    9789\n",
       "Name: Country, dtype: int64"
      ]
     },
     "execution_count": 27,
     "metadata": {},
     "output_type": "execute_result"
    }
   ],
   "source": [
    "df['Country'].value_counts()"
   ]
  },
  {
   "cell_type": "code",
   "execution_count": 28,
   "id": "c7c9e06a",
   "metadata": {
    "execution": {
     "iopub.execute_input": "2022-01-29T11:21:18.865943Z",
     "iopub.status.busy": "2022-01-29T11:21:18.865468Z",
     "iopub.status.idle": "2022-01-29T11:21:18.871018Z",
     "shell.execute_reply": "2022-01-29T11:21:18.871427Z",
     "shell.execute_reply.started": "2022-01-29T11:18:42.488758Z"
    },
    "papermill": {
     "duration": 0.04981,
     "end_time": "2022-01-29T11:21:18.871553",
     "exception": false,
     "start_time": "2022-01-29T11:21:18.821743",
     "status": "completed"
    },
    "tags": []
   },
   "outputs": [
    {
     "data": {
      "text/plain": [
       "New York City    891\n",
       "Los Angeles      728\n",
       "Philadelphia     532\n",
       "San Francisco    500\n",
       "Seattle          426\n",
       "                ... \n",
       "San Mateo          1\n",
       "Cheyenne           1\n",
       "Conway             1\n",
       "Melbourne          1\n",
       "Springdale         1\n",
       "Name: City, Length: 529, dtype: int64"
      ]
     },
     "execution_count": 28,
     "metadata": {},
     "output_type": "execute_result"
    }
   ],
   "source": [
    "df['City'].value_counts()"
   ]
  },
  {
   "cell_type": "code",
   "execution_count": 29,
   "id": "25add00e",
   "metadata": {
    "execution": {
     "iopub.execute_input": "2022-01-29T11:21:18.958110Z",
     "iopub.status.busy": "2022-01-29T11:21:18.957634Z",
     "iopub.status.idle": "2022-01-29T11:21:18.961538Z",
     "shell.execute_reply": "2022-01-29T11:21:18.961951Z",
     "shell.execute_reply.started": "2022-01-29T11:18:42.504371Z"
    },
    "papermill": {
     "duration": 0.049048,
     "end_time": "2022-01-29T11:21:18.962075",
     "exception": false,
     "start_time": "2022-01-29T11:21:18.913027",
     "status": "completed"
    },
    "tags": []
   },
   "outputs": [
    {
     "data": {
      "text/plain": [
       "<pandas.core.groupby.generic.DataFrameGroupBy object at 0x7f6a8e22fc50>"
      ]
     },
     "execution_count": 29,
     "metadata": {},
     "output_type": "execute_result"
    }
   ],
   "source": [
    "df.groupby(['City'])"
   ]
  },
  {
   "cell_type": "code",
   "execution_count": 30,
   "id": "d8032ccd",
   "metadata": {
    "execution": {
     "iopub.execute_input": "2022-01-29T11:21:19.048394Z",
     "iopub.status.busy": "2022-01-29T11:21:19.047906Z",
     "iopub.status.idle": "2022-01-29T11:21:19.057019Z",
     "shell.execute_reply": "2022-01-29T11:21:19.057520Z",
     "shell.execute_reply.started": "2022-01-29T11:18:42.512241Z"
    },
    "papermill": {
     "duration": 0.053936,
     "end_time": "2022-01-29T11:21:19.057636",
     "exception": false,
     "start_time": "2022-01-29T11:21:19.003700",
     "status": "completed"
    },
    "tags": []
   },
   "outputs": [],
   "source": [
    "city_sales = pd.DataFrame(df.groupby(df['City']).sum()['Sales']).reset_index()"
   ]
  },
  {
   "cell_type": "code",
   "execution_count": 31,
   "id": "6e6cd1f3",
   "metadata": {
    "execution": {
     "iopub.execute_input": "2022-01-29T11:21:19.148389Z",
     "iopub.status.busy": "2022-01-29T11:21:19.147841Z",
     "iopub.status.idle": "2022-01-29T11:21:19.154995Z",
     "shell.execute_reply": "2022-01-29T11:21:19.155467Z",
     "shell.execute_reply.started": "2022-01-29T11:18:42.535606Z"
    },
    "papermill": {
     "duration": 0.054435,
     "end_time": "2022-01-29T11:21:19.155621",
     "exception": false,
     "start_time": "2022-01-29T11:21:19.101186",
     "status": "completed"
    },
    "tags": []
   },
   "outputs": [
    {
     "data": {
      "text/html": [
       "<div>\n",
       "<style scoped>\n",
       "    .dataframe tbody tr th:only-of-type {\n",
       "        vertical-align: middle;\n",
       "    }\n",
       "\n",
       "    .dataframe tbody tr th {\n",
       "        vertical-align: top;\n",
       "    }\n",
       "\n",
       "    .dataframe thead th {\n",
       "        text-align: right;\n",
       "    }\n",
       "</style>\n",
       "<table border=\"1\" class=\"dataframe\">\n",
       "  <thead>\n",
       "    <tr style=\"text-align: right;\">\n",
       "      <th></th>\n",
       "      <th>City</th>\n",
       "      <th>Sales</th>\n",
       "    </tr>\n",
       "  </thead>\n",
       "  <tbody>\n",
       "    <tr>\n",
       "      <th>0</th>\n",
       "      <td>Aberdeen</td>\n",
       "      <td>25.500</td>\n",
       "    </tr>\n",
       "    <tr>\n",
       "      <th>1</th>\n",
       "      <td>Abilene</td>\n",
       "      <td>1.392</td>\n",
       "    </tr>\n",
       "    <tr>\n",
       "      <th>2</th>\n",
       "      <td>Akron</td>\n",
       "      <td>2724.244</td>\n",
       "    </tr>\n",
       "    <tr>\n",
       "      <th>3</th>\n",
       "      <td>Albuquerque</td>\n",
       "      <td>2220.160</td>\n",
       "    </tr>\n",
       "    <tr>\n",
       "      <th>4</th>\n",
       "      <td>Alexandria</td>\n",
       "      <td>5519.570</td>\n",
       "    </tr>\n",
       "    <tr>\n",
       "      <th>...</th>\n",
       "      <td>...</td>\n",
       "      <td>...</td>\n",
       "    </tr>\n",
       "    <tr>\n",
       "      <th>524</th>\n",
       "      <td>Woonsocket</td>\n",
       "      <td>195.550</td>\n",
       "    </tr>\n",
       "    <tr>\n",
       "      <th>525</th>\n",
       "      <td>Yonkers</td>\n",
       "      <td>7657.666</td>\n",
       "    </tr>\n",
       "    <tr>\n",
       "      <th>526</th>\n",
       "      <td>York</td>\n",
       "      <td>817.978</td>\n",
       "    </tr>\n",
       "    <tr>\n",
       "      <th>527</th>\n",
       "      <td>Yucaipa</td>\n",
       "      <td>50.800</td>\n",
       "    </tr>\n",
       "    <tr>\n",
       "      <th>528</th>\n",
       "      <td>Yuma</td>\n",
       "      <td>840.865</td>\n",
       "    </tr>\n",
       "  </tbody>\n",
       "</table>\n",
       "<p>529 rows × 2 columns</p>\n",
       "</div>"
      ],
      "text/plain": [
       "            City     Sales\n",
       "0       Aberdeen    25.500\n",
       "1        Abilene     1.392\n",
       "2          Akron  2724.244\n",
       "3    Albuquerque  2220.160\n",
       "4     Alexandria  5519.570\n",
       "..           ...       ...\n",
       "524   Woonsocket   195.550\n",
       "525      Yonkers  7657.666\n",
       "526         York   817.978\n",
       "527      Yucaipa    50.800\n",
       "528         Yuma   840.865\n",
       "\n",
       "[529 rows x 2 columns]"
      ]
     },
     "execution_count": 31,
     "metadata": {},
     "output_type": "execute_result"
    }
   ],
   "source": [
    "city_sales"
   ]
  },
  {
   "cell_type": "code",
   "execution_count": 32,
   "id": "85a4758c",
   "metadata": {
    "execution": {
     "iopub.execute_input": "2022-01-29T11:21:19.246071Z",
     "iopub.status.busy": "2022-01-29T11:21:19.245604Z",
     "iopub.status.idle": "2022-01-29T11:21:19.252045Z",
     "shell.execute_reply": "2022-01-29T11:21:19.252502Z",
     "shell.execute_reply.started": "2022-01-29T11:18:42.557734Z"
    },
    "papermill": {
     "duration": 0.053772,
     "end_time": "2022-01-29T11:21:19.252632",
     "exception": false,
     "start_time": "2022-01-29T11:21:19.198860",
     "status": "completed"
    },
    "tags": []
   },
   "outputs": [
    {
     "data": {
      "text/html": [
       "<div>\n",
       "<style scoped>\n",
       "    .dataframe tbody tr th:only-of-type {\n",
       "        vertical-align: middle;\n",
       "    }\n",
       "\n",
       "    .dataframe tbody tr th {\n",
       "        vertical-align: top;\n",
       "    }\n",
       "\n",
       "    .dataframe thead th {\n",
       "        text-align: right;\n",
       "    }\n",
       "</style>\n",
       "<table border=\"1\" class=\"dataframe\">\n",
       "  <thead>\n",
       "    <tr style=\"text-align: right;\">\n",
       "      <th></th>\n",
       "      <th>City</th>\n",
       "      <th>Sales</th>\n",
       "    </tr>\n",
       "  </thead>\n",
       "  <tbody>\n",
       "    <tr>\n",
       "      <th>327</th>\n",
       "      <td>New York City</td>\n",
       "      <td>252462.5470</td>\n",
       "    </tr>\n",
       "    <tr>\n",
       "      <th>265</th>\n",
       "      <td>Los Angeles</td>\n",
       "      <td>173420.1810</td>\n",
       "    </tr>\n",
       "    <tr>\n",
       "      <th>450</th>\n",
       "      <td>Seattle</td>\n",
       "      <td>116106.3220</td>\n",
       "    </tr>\n",
       "    <tr>\n",
       "      <th>436</th>\n",
       "      <td>San Francisco</td>\n",
       "      <td>109041.1200</td>\n",
       "    </tr>\n",
       "    <tr>\n",
       "      <th>372</th>\n",
       "      <td>Philadelphia</td>\n",
       "      <td>108841.7490</td>\n",
       "    </tr>\n",
       "    <tr>\n",
       "      <th>207</th>\n",
       "      <td>Houston</td>\n",
       "      <td>63956.1428</td>\n",
       "    </tr>\n",
       "    <tr>\n",
       "      <th>80</th>\n",
       "      <td>Chicago</td>\n",
       "      <td>47820.1330</td>\n",
       "    </tr>\n",
       "    <tr>\n",
       "      <th>435</th>\n",
       "      <td>San Diego</td>\n",
       "      <td>47521.0290</td>\n",
       "    </tr>\n",
       "    <tr>\n",
       "      <th>216</th>\n",
       "      <td>Jacksonville</td>\n",
       "      <td>44713.1830</td>\n",
       "    </tr>\n",
       "    <tr>\n",
       "      <th>123</th>\n",
       "      <td>Detroit</td>\n",
       "      <td>42446.9440</td>\n",
       "    </tr>\n",
       "  </tbody>\n",
       "</table>\n",
       "</div>"
      ],
      "text/plain": [
       "              City        Sales\n",
       "327  New York City  252462.5470\n",
       "265    Los Angeles  173420.1810\n",
       "450        Seattle  116106.3220\n",
       "436  San Francisco  109041.1200\n",
       "372   Philadelphia  108841.7490\n",
       "207        Houston   63956.1428\n",
       "80         Chicago   47820.1330\n",
       "435      San Diego   47521.0290\n",
       "216   Jacksonville   44713.1830\n",
       "123        Detroit   42446.9440"
      ]
     },
     "execution_count": 32,
     "metadata": {},
     "output_type": "execute_result"
    }
   ],
   "source": [
    "s = city_sales.nlargest(10, 'Sales')\n",
    "s"
   ]
  },
  {
   "cell_type": "code",
   "execution_count": 33,
   "id": "d072eac6",
   "metadata": {
    "execution": {
     "iopub.execute_input": "2022-01-29T11:21:19.341109Z",
     "iopub.status.busy": "2022-01-29T11:21:19.340619Z",
     "iopub.status.idle": "2022-01-29T11:21:19.536418Z",
     "shell.execute_reply": "2022-01-29T11:21:19.535818Z",
     "shell.execute_reply.started": "2022-01-29T11:18:42.573225Z"
    },
    "papermill": {
     "duration": 0.241133,
     "end_time": "2022-01-29T11:21:19.536540",
     "exception": false,
     "start_time": "2022-01-29T11:21:19.295407",
     "status": "completed"
    },
    "tags": []
   },
   "outputs": [
    {
     "data": {
      "image/png": "[encoded data removed]",
      "text/plain": [
       "<Figure size 432x288 with 1 Axes>"
      ]
     },
     "metadata": {
      "needs_background": "light"
     },
     "output_type": "display_data"
    }
   ],
   "source": [
    "ax  = sns.barplot(x='City',y='Sales',data = s,palette = 'Paired')\n",
    "sns.set(rc = {'figure.figsize':(15,10)})\n",
    "plt.bar_label(ax.containers[0])\n",
    "plt.show()"
   ]
  },
  {
   "cell_type": "code",
   "execution_count": 34,
   "id": "6ba88e7f",
   "metadata": {
    "execution": {
     "iopub.execute_input": "2022-01-29T11:21:19.627387Z",
     "iopub.status.busy": "2022-01-29T11:21:19.626745Z",
     "iopub.status.idle": "2022-01-29T11:21:20.141801Z",
     "shell.execute_reply": "2022-01-29T11:21:20.141122Z",
     "shell.execute_reply.started": "2022-01-29T11:18:42.819841Z"
    },
    "papermill": {
     "duration": 0.561659,
     "end_time": "2022-01-29T11:21:20.141945",
     "exception": false,
     "start_time": "2022-01-29T11:21:19.580286",
     "status": "completed"
    },
    "tags": []
   },
   "outputs": [
    {
     "data": {
      "image/png": "[encoded data removed]",
      "text/plain": [
       "<Figure size 1080x720 with 1 Axes>"
      ]
     },
     "metadata": {},
     "output_type": "display_data"
    }
   ],
   "source": [
    "ax  = sns.barplot(x='Region',y='Sales',data = df,palette = 'Paired')\n",
    "sns.set(rc = {'figure.figsize':(15,10)})\n",
    "plt.show()"
   ]
  },
  {
   "cell_type": "code",
   "execution_count": 35,
   "id": "10f22547",
   "metadata": {
    "execution": {
     "iopub.execute_input": "2022-01-29T11:21:20.235471Z",
     "iopub.status.busy": "2022-01-29T11:21:20.234841Z",
     "iopub.status.idle": "2022-01-29T11:21:20.244066Z",
     "shell.execute_reply": "2022-01-29T11:21:20.244585Z",
     "shell.execute_reply.started": "2022-01-29T11:18:43.300116Z"
    },
    "papermill": {
     "duration": 0.057427,
     "end_time": "2022-01-29T11:21:20.244721",
     "exception": false,
     "start_time": "2022-01-29T11:21:20.187294",
     "status": "completed"
    },
    "tags": []
   },
   "outputs": [
    {
     "data": {
      "text/plain": [
       "Staple envelope                                                              47\n",
       "Staples                                                                      46\n",
       "Easy-staple paper                                                            44\n",
       "Avery Non-Stick Binders                                                      20\n",
       "Staples in misc. colors                                                      18\n",
       "                                                                             ..\n",
       "Park Ridge Embossed Executive Business Envelopes                              1\n",
       "Canon imageCLASS MF7460 Monochrome Digital Laser Multifunction Copier         1\n",
       "Belkin 8 Outlet SurgeMaster II Gold Surge Protector with Phone Protection     1\n",
       "Boston 1900 Electric Pencil Sharpener                                         1\n",
       "LG G2                                                                         1\n",
       "Name: Product Name, Length: 1848, dtype: int64"
      ]
     },
     "execution_count": 35,
     "metadata": {},
     "output_type": "execute_result"
    }
   ],
   "source": [
    "df['Product Name'].value_counts()"
   ]
  },
  {
   "cell_type": "code",
   "execution_count": 36,
   "id": "d890ec1f",
   "metadata": {
    "execution": {
     "iopub.execute_input": "2022-01-29T11:21:20.338042Z",
     "iopub.status.busy": "2022-01-29T11:21:20.337404Z",
     "iopub.status.idle": "2022-01-29T11:21:20.349807Z",
     "shell.execute_reply": "2022-01-29T11:21:20.350275Z",
     "shell.execute_reply.started": "2022-01-29T11:18:43.314434Z"
    },
    "papermill": {
     "duration": 0.06013,
     "end_time": "2022-01-29T11:21:20.350431",
     "exception": false,
     "start_time": "2022-01-29T11:21:20.290301",
     "status": "completed"
    },
    "tags": []
   },
   "outputs": [],
   "source": [
    "product_sales = pd.DataFrame(df.groupby(df['Product Name']).sum()['Sales']).reset_index()"
   ]
  },
  {
   "cell_type": "code",
   "execution_count": 37,
   "id": "58686c7b",
   "metadata": {
    "execution": {
     "iopub.execute_input": "2022-01-29T11:21:20.469458Z",
     "iopub.status.busy": "2022-01-29T11:21:20.468762Z",
     "iopub.status.idle": "2022-01-29T11:21:20.471787Z",
     "shell.execute_reply": "2022-01-29T11:21:20.472273Z",
     "shell.execute_reply.started": "2022-01-29T11:18:43.332599Z"
    },
    "papermill": {
     "duration": 0.076815,
     "end_time": "2022-01-29T11:21:20.472428",
     "exception": false,
     "start_time": "2022-01-29T11:21:20.395613",
     "status": "completed"
    },
    "tags": []
   },
   "outputs": [],
   "source": [
    "product_sales = product_sales.nlargest(10, 'Sales')"
   ]
  },
  {
   "cell_type": "code",
   "execution_count": 38,
   "id": "2bfb3bda",
   "metadata": {
    "execution": {
     "iopub.execute_input": "2022-01-29T11:21:20.565630Z",
     "iopub.status.busy": "2022-01-29T11:21:20.564804Z",
     "iopub.status.idle": "2022-01-29T11:21:20.574836Z",
     "shell.execute_reply": "2022-01-29T11:21:20.575340Z",
     "shell.execute_reply.started": "2022-01-29T11:18:43.341735Z"
    },
    "papermill": {
     "duration": 0.058091,
     "end_time": "2022-01-29T11:21:20.575494",
     "exception": false,
     "start_time": "2022-01-29T11:21:20.517403",
     "status": "completed"
    },
    "tags": []
   },
   "outputs": [
    {
     "data": {
      "text/html": [
       "<div>\n",
       "<style scoped>\n",
       "    .dataframe tbody tr th:only-of-type {\n",
       "        vertical-align: middle;\n",
       "    }\n",
       "\n",
       "    .dataframe tbody tr th {\n",
       "        vertical-align: top;\n",
       "    }\n",
       "\n",
       "    .dataframe thead th {\n",
       "        text-align: right;\n",
       "    }\n",
       "</style>\n",
       "<table border=\"1\" class=\"dataframe\">\n",
       "  <thead>\n",
       "    <tr style=\"text-align: right;\">\n",
       "      <th></th>\n",
       "      <th>Product Name</th>\n",
       "      <th>Sales</th>\n",
       "    </tr>\n",
       "  </thead>\n",
       "  <tbody>\n",
       "    <tr>\n",
       "      <th>403</th>\n",
       "      <td>Canon imageCLASS 2200 Advanced Copier</td>\n",
       "      <td>61599.824</td>\n",
       "    </tr>\n",
       "    <tr>\n",
       "      <th>648</th>\n",
       "      <td>Fellowes PB500 Electric Punch Plastic Comb Bin...</td>\n",
       "      <td>27453.384</td>\n",
       "    </tr>\n",
       "    <tr>\n",
       "      <th>443</th>\n",
       "      <td>Cisco TelePresence System EX90 Videoconferenci...</td>\n",
       "      <td>22638.480</td>\n",
       "    </tr>\n",
       "    <tr>\n",
       "      <th>784</th>\n",
       "      <td>HON 5400 Series Task Chairs for Big and Tall</td>\n",
       "      <td>21870.576</td>\n",
       "    </tr>\n",
       "    <tr>\n",
       "      <th>684</th>\n",
       "      <td>GBC DocuBind TL300 Electric Binding System</td>\n",
       "      <td>19823.479</td>\n",
       "    </tr>\n",
       "    <tr>\n",
       "      <th>686</th>\n",
       "      <td>GBC Ibimaster 500 Manual ProClick Binding System</td>\n",
       "      <td>19024.500</td>\n",
       "    </tr>\n",
       "    <tr>\n",
       "      <th>803</th>\n",
       "      <td>Hewlett Packard LaserJet 3310 Copier</td>\n",
       "      <td>18839.686</td>\n",
       "    </tr>\n",
       "    <tr>\n",
       "      <th>785</th>\n",
       "      <td>HP Designjet T520 Inkjet Large Format Printer ...</td>\n",
       "      <td>18374.895</td>\n",
       "    </tr>\n",
       "    <tr>\n",
       "      <th>681</th>\n",
       "      <td>GBC DocuBind P400 Electric Binding System</td>\n",
       "      <td>17965.068</td>\n",
       "    </tr>\n",
       "    <tr>\n",
       "      <th>811</th>\n",
       "      <td>High Speed Automatic Electric Letter Opener</td>\n",
       "      <td>17030.312</td>\n",
       "    </tr>\n",
       "  </tbody>\n",
       "</table>\n",
       "</div>"
      ],
      "text/plain": [
       "                                          Product Name      Sales\n",
       "403              Canon imageCLASS 2200 Advanced Copier  61599.824\n",
       "648  Fellowes PB500 Electric Punch Plastic Comb Bin...  27453.384\n",
       "443  Cisco TelePresence System EX90 Videoconferenci...  22638.480\n",
       "784       HON 5400 Series Task Chairs for Big and Tall  21870.576\n",
       "684         GBC DocuBind TL300 Electric Binding System  19823.479\n",
       "686   GBC Ibimaster 500 Manual ProClick Binding System  19024.500\n",
       "803               Hewlett Packard LaserJet 3310 Copier  18839.686\n",
       "785  HP Designjet T520 Inkjet Large Format Printer ...  18374.895\n",
       "681          GBC DocuBind P400 Electric Binding System  17965.068\n",
       "811        High Speed Automatic Electric Letter Opener  17030.312"
      ]
     },
     "execution_count": 38,
     "metadata": {},
     "output_type": "execute_result"
    }
   ],
   "source": [
    "product_sales"
   ]
  },
  {
   "cell_type": "code",
   "execution_count": 39,
   "id": "80e6110d",
   "metadata": {
    "execution": {
     "iopub.execute_input": "2022-01-29T11:21:20.669403Z",
     "iopub.status.busy": "2022-01-29T11:21:20.668736Z",
     "iopub.status.idle": "2022-01-29T11:21:21.023485Z",
     "shell.execute_reply": "2022-01-29T11:21:21.024100Z",
     "shell.execute_reply.started": "2022-01-29T11:18:43.362493Z"
    },
    "papermill": {
     "duration": 0.403347,
     "end_time": "2022-01-29T11:21:21.024266",
     "exception": false,
     "start_time": "2022-01-29T11:21:20.620919",
     "status": "completed"
    },
    "tags": []
   },
   "outputs": [
    {
     "data": {
      "image/png": "[encoded data removed]",
      "text/plain": [
       "<Figure size 1080x720 with 1 Axes>"
      ]
     },
     "metadata": {},
     "output_type": "display_data"
    }
   ],
   "source": [
    "ax  = sns.barplot(x='Product Name',y='Sales',data = product_sales,palette = 'Paired')\n",
    "sns.set(rc = {'figure.figsize':(15,10)})\n",
    "plt.bar_label(ax.containers[0])\n",
    "plt.xticks(rotation=90)\n",
    "plt.show()"
   ]
  },
  {
   "cell_type": "code",
   "execution_count": 40,
   "id": "469d9781",
   "metadata": {
    "execution": {
     "iopub.execute_input": "2022-01-29T11:21:21.167721Z",
     "iopub.status.busy": "2022-01-29T11:21:21.163643Z",
     "iopub.status.idle": "2022-01-29T11:21:21.170068Z",
     "shell.execute_reply": "2022-01-29T11:21:21.170634Z",
     "shell.execute_reply.started": "2022-01-29T11:18:43.806588Z"
    },
    "papermill": {
     "duration": 0.076469,
     "end_time": "2022-01-29T11:21:21.170775",
     "exception": false,
     "start_time": "2022-01-29T11:21:21.094306",
     "status": "completed"
    },
    "tags": []
   },
   "outputs": [
    {
     "data": {
      "text/plain": [
       "Standard Class    5849\n",
       "Second Class      1901\n",
       "First Class       1501\n",
       "Same Day           538\n",
       "Name: Ship Mode, dtype: int64"
      ]
     },
     "execution_count": 40,
     "metadata": {},
     "output_type": "execute_result"
    }
   ],
   "source": [
    "df['Ship Mode'].value_counts()"
   ]
  },
  {
   "cell_type": "code",
   "execution_count": 41,
   "id": "509402e8",
   "metadata": {
    "execution": {
     "iopub.execute_input": "2022-01-29T11:21:21.311449Z",
     "iopub.status.busy": "2022-01-29T11:21:21.310820Z",
     "iopub.status.idle": "2022-01-29T11:21:21.849849Z",
     "shell.execute_reply": "2022-01-29T11:21:21.849245Z",
     "shell.execute_reply.started": "2022-01-29T11:18:43.823801Z"
    },
    "papermill": {
     "duration": 0.611957,
     "end_time": "2022-01-29T11:21:21.849972",
     "exception": false,
     "start_time": "2022-01-29T11:21:21.238015",
     "status": "completed"
    },
    "tags": []
   },
   "outputs": [
    {
     "data": {
      "image/png": "[encoded data removed]",
      "text/plain": [
       "<Figure size 1080x720 with 1 Axes>"
      ]
     },
     "metadata": {},
     "output_type": "display_data"
    }
   ],
   "source": [
    "sns.barplot(x='Ship Mode',y = \"Sales\",data =df,palette = 'mako')\n",
    "plt.show()"
   ]
  },
  {
   "cell_type": "code",
   "execution_count": 42,
   "id": "bb8fa5ac",
   "metadata": {
    "execution": {
     "iopub.execute_input": "2022-01-29T11:21:21.990034Z",
     "iopub.status.busy": "2022-01-29T11:21:21.989473Z",
     "iopub.status.idle": "2022-01-29T11:21:21.996712Z",
     "shell.execute_reply": "2022-01-29T11:21:21.997256Z",
     "shell.execute_reply.started": "2022-01-29T11:18:44.293430Z"
    },
    "papermill": {
     "duration": 0.080057,
     "end_time": "2022-01-29T11:21:21.997396",
     "exception": false,
     "start_time": "2022-01-29T11:21:21.917339",
     "status": "completed"
    },
    "tags": []
   },
   "outputs": [
    {
     "data": {
      "text/plain": [
       "Office Supplies    5903\n",
       "Furniture          2076\n",
       "Technology         1810\n",
       "Name: Category, dtype: int64"
      ]
     },
     "execution_count": 42,
     "metadata": {},
     "output_type": "execute_result"
    }
   ],
   "source": [
    "df['Category'].value_counts()"
   ]
  },
  {
   "cell_type": "code",
   "execution_count": 43,
   "id": "4ea95c57",
   "metadata": {
    "execution": {
     "iopub.execute_input": "2022-01-29T11:21:22.141955Z",
     "iopub.status.busy": "2022-01-29T11:21:22.141329Z",
     "iopub.status.idle": "2022-01-29T11:21:22.317538Z",
     "shell.execute_reply": "2022-01-29T11:21:22.316867Z",
     "shell.execute_reply.started": "2022-01-29T11:18:44.307384Z"
    },
    "papermill": {
     "duration": 0.24915,
     "end_time": "2022-01-29T11:21:22.317696",
     "exception": false,
     "start_time": "2022-01-29T11:21:22.068546",
     "status": "completed"
    },
    "tags": []
   },
   "outputs": [
    {
     "data": {
      "image/png": "[encoded data removed]",
      "text/plain": [
       "<Figure size 1080x720 with 1 Axes>"
      ]
     },
     "metadata": {},
     "output_type": "display_data"
    }
   ],
   "source": [
    "sns.countplot( x = 'Category',palette = 'rocket',data=df)\n",
    "plt.show()"
   ]
  },
  {
   "cell_type": "code",
   "execution_count": 44,
   "id": "7ef4844c",
   "metadata": {
    "execution": {
     "iopub.execute_input": "2022-01-29T11:21:22.475673Z",
     "iopub.status.busy": "2022-01-29T11:21:22.474966Z",
     "iopub.status.idle": "2022-01-29T11:21:22.963136Z",
     "shell.execute_reply": "2022-01-29T11:21:22.963757Z",
     "shell.execute_reply.started": "2022-01-29T11:18:44.541150Z"
    },
    "papermill": {
     "duration": 0.571955,
     "end_time": "2022-01-29T11:21:22.963975",
     "exception": false,
     "start_time": "2022-01-29T11:21:22.392020",
     "status": "completed"
    },
    "tags": []
   },
   "outputs": [
    {
     "data": {
      "image/png": "[encoded data removed]",
      "text/plain": [
       "<Figure size 1080x720 with 1 Axes>"
      ]
     },
     "metadata": {},
     "output_type": "display_data"
    }
   ],
   "source": [
    "sns.barplot(x='Category',y=\"Sales\",data=df,palette = 'Spectral')\n",
    "plt.show()"
   ]
  },
  {
   "cell_type": "code",
   "execution_count": 45,
   "id": "e14e5e76",
   "metadata": {
    "execution": {
     "iopub.execute_input": "2022-01-29T11:21:23.073150Z",
     "iopub.status.busy": "2022-01-29T11:21:23.072475Z",
     "iopub.status.idle": "2022-01-29T11:21:23.075028Z",
     "shell.execute_reply": "2022-01-29T11:21:23.075467Z",
     "shell.execute_reply.started": "2022-01-29T11:18:45.160396Z"
    },
    "papermill": {
     "duration": 0.060576,
     "end_time": "2022-01-29T11:21:23.075630",
     "exception": false,
     "start_time": "2022-01-29T11:21:23.015054",
     "status": "completed"
    },
    "tags": []
   },
   "outputs": [
    {
     "data": {
      "text/plain": [
       "Binders        1492\n",
       "Paper          1336\n",
       "Furnishings     931\n",
       "Phones          875\n",
       "Storage         831\n",
       "Art             784\n",
       "Accessories     754\n",
       "Chairs          606\n",
       "Appliances      458\n",
       "Labels          357\n",
       "Tables          314\n",
       "Envelopes       247\n",
       "Bookcases       225\n",
       "Fasteners       214\n",
       "Supplies        184\n",
       "Machines        115\n",
       "Copiers          66\n",
       "Name: Sub-Category, dtype: int64"
      ]
     },
     "execution_count": 45,
     "metadata": {},
     "output_type": "execute_result"
    }
   ],
   "source": [
    "\n",
    "df['Sub-Category'].value_counts()"
   ]
  },
  {
   "cell_type": "code",
   "execution_count": 46,
   "id": "4361a6f1",
   "metadata": {
    "execution": {
     "iopub.execute_input": "2022-01-29T11:21:23.180138Z",
     "iopub.status.busy": "2022-01-29T11:21:23.179505Z",
     "iopub.status.idle": "2022-01-29T11:21:24.322485Z",
     "shell.execute_reply": "2022-01-29T11:21:24.321853Z",
     "shell.execute_reply.started": "2022-01-29T11:18:45.174417Z"
    },
    "papermill": {
     "duration": 1.196727,
     "end_time": "2022-01-29T11:21:24.322623",
     "exception": false,
     "start_time": "2022-01-29T11:21:23.125896",
     "status": "completed"
    },
    "tags": []
   },
   "outputs": [
    {
     "data": {
      "image/png": "[encoded data removed]",
      "text/plain": [
       "<Figure size 1080x720 with 1 Axes>"
      ]
     },
     "metadata": {},
     "output_type": "display_data"
    }
   ],
   "source": [
    "ax= sns.barplot(x='Sub-Category',y='Sales',data = df,palette = 'coolwarm')\n",
    "plt.xticks(rotation=90)\n",
    "plt.show()"
   ]
  },
  {
   "cell_type": "markdown",
   "id": "d81d6dad",
   "metadata": {
    "papermill": {
     "duration": 0.075006,
     "end_time": "2022-01-29T11:21:24.473897",
     "exception": false,
     "start_time": "2022-01-29T11:21:24.398891",
     "status": "completed"
    },
    "tags": []
   },
   "source": [
    "<h3>If you have any queries please let me know, I'll happy to explain.</h3>"
   ]
  },
  {
   "cell_type": "markdown",
   "id": "76ebe7c5",
   "metadata": {
    "papermill": {
     "duration": 0.077268,
     "end_time": "2022-01-29T11:21:24.626119",
     "exception": false,
     "start_time": "2022-01-29T11:21:24.548851",
     "status": "completed"
    },
    "tags": []
   },
   "source": [
    "![](https://inventionland.com/wp-content/uploads/2015/09/National_Thank_You_Day.png)"
   ]
  }
 ],
 "metadata": {
  "kernelspec": {
   "display_name": "Python 3",
   "language": "python",
   "name": "python3"
  },
  "language_info": {
   "codemirror_mode": {
    "name": "ipython",
    "version": 3
   },
   "file_extension": ".py",
   "mimetype": "text/x-python",
   "name": "python",
   "nbconvert_exporter": "python",
   "pygments_lexer": "ipython3",
   "version": "3.7.12"
  },
  "papermill": {
   "default_parameters": {},
   "duration": 23.049321,
   "end_time": "2022-01-29T11:21:25.311695",
   "environment_variables": {},
   "exception": null,
   "input_path": "__notebook__.ipynb",
   "output_path": "__notebook__.ipynb",
   "parameters": {},
   "start_time": "2022-01-29T11:21:02.262374",
   "version": "2.3.3"
  }
 },
 "nbformat": 4,
 "nbformat_minor": 5
}
