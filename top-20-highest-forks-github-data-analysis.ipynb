{
 "cells": [
  {
   "cell_type": "code",
   "execution_count": 1,
   "id": "ebe2716b",
   "metadata": {
    "_cell_guid": "b1076dfc-b9ad-4769-8c92-a6c4dae69d19",
    "_uuid": "8f2839f25d086af736a60e9eeb907d3b93b6e0e5",
    "execution": {
     "iopub.execute_input": "2023-10-05T15:32:13.250845Z",
     "iopub.status.busy": "2023-10-05T15:32:13.250311Z",
     "iopub.status.idle": "2023-10-05T15:32:13.517141Z",
     "shell.execute_reply": "2023-10-05T15:32:13.516361Z"
    },
    "papermill": {
     "duration": 0.272563,
     "end_time": "2023-10-05T15:32:13.518802",
     "exception": false,
     "start_time": "2023-10-05T15:32:13.246239",
     "status": "completed"
    },
    "tags": []
   },
   "outputs": [
    {
     "name": "stdout",
     "output_type": "stream",
     "text": [
      "/kaggle/input/github-repos/repositories.csv\n"
     ]
    }
   ],
   "source": [
    "# This Python 3 environment comes with many helpful analytics libraries installed\n",
    "# It is defined by the kaggle/python Docker image: https://github.com/kaggle/docker-python\n",
    "# For example, here's several helpful packages to load\n",
    "\n",
    "import numpy as np # linear algebra\n",
    "import pandas as pd # data processing, CSV file I/O (e.g. pd.read_csv)\n",
    "\n",
    "# Input data files are available in the read-only \"../input/\" directory\n",
    "# For example, running this (by clicking run or pressing Shift+Enter) will list all files under the input directory\n",
    "\n",
    "import os\n",
    "for dirname, _, filenames in os.walk('/kaggle/input'):\n",
    "    for filename in filenames:\n",
    "        print(os.path.join(dirname, filename))\n",
    "\n",
    "# You can write up to 20GB to the current directory (/kaggle/working/) that gets preserved as output when you create a version using \"Save & Run All\" \n",
    "# You can also write temporary files to /kaggle/temp/, but they won't be saved outside of the current session"
   ]
  },
  {
   "cell_type": "code",
   "execution_count": 2,
   "id": "1982b111",
   "metadata": {
    "execution": {
     "iopub.execute_input": "2023-10-05T15:32:13.526507Z",
     "iopub.status.busy": "2023-10-05T15:32:13.526059Z",
     "iopub.status.idle": "2023-10-05T15:32:14.867703Z",
     "shell.execute_reply": "2023-10-05T15:32:14.866725Z"
    },
    "papermill": {
     "duration": 1.347008,
     "end_time": "2023-10-05T15:32:14.869835",
     "exception": false,
     "start_time": "2023-10-05T15:32:13.522827",
     "status": "completed"
    },
    "tags": []
   },
   "outputs": [],
   "source": [
    "import numpy as np\n",
    "import pandas as pd\n",
    "import seaborn as sns\n",
    "import matplotlib.pyplot as plt"
   ]
  },
  {
   "cell_type": "code",
   "execution_count": 3,
   "id": "69d76000",
   "metadata": {
    "execution": {
     "iopub.execute_input": "2023-10-05T15:32:14.875505Z",
     "iopub.status.busy": "2023-10-05T15:32:14.875142Z",
     "iopub.status.idle": "2023-10-05T15:32:17.116086Z",
     "shell.execute_reply": "2023-10-05T15:32:17.115226Z"
    },
    "papermill": {
     "duration": 2.246033,
     "end_time": "2023-10-05T15:32:17.118009",
     "exception": false,
     "start_time": "2023-10-05T15:32:14.871976",
     "status": "completed"
    },
    "tags": []
   },
   "outputs": [],
   "source": [
    "data = pd.read_csv(\"/kaggle/input/github-repos/repositories.csv\")"
   ]
  },
  {
   "cell_type": "code",
   "execution_count": 4,
   "id": "366bb342",
   "metadata": {
    "execution": {
     "iopub.execute_input": "2023-10-05T15:32:17.123333Z",
     "iopub.status.busy": "2023-10-05T15:32:17.123013Z",
     "iopub.status.idle": "2023-10-05T15:32:17.155262Z",
     "shell.execute_reply": "2023-10-05T15:32:17.154235Z"
    },
    "papermill": {
     "duration": 0.037087,
     "end_time": "2023-10-05T15:32:17.157122",
     "exception": false,
     "start_time": "2023-10-05T15:32:17.120035",
     "status": "completed"
    },
    "tags": []
   },
   "outputs": [
    {
     "data": {
      "text/html": [
       "<div>\n",
       "<style scoped>\n",
       "    .dataframe tbody tr th:only-of-type {\n",
       "        vertical-align: middle;\n",
       "    }\n",
       "\n",
       "    .dataframe tbody tr th {\n",
       "        vertical-align: top;\n",
       "    }\n",
       "\n",
       "    .dataframe thead th {\n",
       "        text-align: right;\n",
       "    }\n",
       "</style>\n",
       "<table border=\"1\" class=\"dataframe\">\n",
       "  <thead>\n",
       "    <tr style=\"text-align: right;\">\n",
       "      <th></th>\n",
       "      <th>Name</th>\n",
       "      <th>Description</th>\n",
       "      <th>URL</th>\n",
       "      <th>Created At</th>\n",
       "      <th>Updated At</th>\n",
       "      <th>Homepage</th>\n",
       "      <th>Size</th>\n",
       "      <th>Stars</th>\n",
       "      <th>Forks</th>\n",
       "      <th>Issues</th>\n",
       "      <th>...</th>\n",
       "      <th>Has Issues</th>\n",
       "      <th>Has Projects</th>\n",
       "      <th>Has Downloads</th>\n",
       "      <th>Has Wiki</th>\n",
       "      <th>Has Pages</th>\n",
       "      <th>Has Discussions</th>\n",
       "      <th>Is Fork</th>\n",
       "      <th>Is Archived</th>\n",
       "      <th>Is Template</th>\n",
       "      <th>Default Branch</th>\n",
       "    </tr>\n",
       "  </thead>\n",
       "  <tbody>\n",
       "    <tr>\n",
       "      <th>0</th>\n",
       "      <td>freeCodeCamp</td>\n",
       "      <td>freeCodeCamp.org's open-source codebase and cu...</td>\n",
       "      <td>https://github.com/freeCodeCamp/freeCodeCamp</td>\n",
       "      <td>2014-12-24T17:49:19Z</td>\n",
       "      <td>2023-09-21T11:32:33Z</td>\n",
       "      <td>http://contribute.freecodecamp.org/</td>\n",
       "      <td>387451</td>\n",
       "      <td>374074</td>\n",
       "      <td>33599</td>\n",
       "      <td>248</td>\n",
       "      <td>...</td>\n",
       "      <td>True</td>\n",
       "      <td>True</td>\n",
       "      <td>True</td>\n",
       "      <td>False</td>\n",
       "      <td>True</td>\n",
       "      <td>False</td>\n",
       "      <td>False</td>\n",
       "      <td>False</td>\n",
       "      <td>False</td>\n",
       "      <td>main</td>\n",
       "    </tr>\n",
       "    <tr>\n",
       "      <th>1</th>\n",
       "      <td>free-programming-books</td>\n",
       "      <td>:books: Freely available programming books</td>\n",
       "      <td>https://github.com/EbookFoundation/free-progra...</td>\n",
       "      <td>2013-10-11T06:50:37Z</td>\n",
       "      <td>2023-09-21T11:09:25Z</td>\n",
       "      <td>https://ebookfoundation.github.io/free-program...</td>\n",
       "      <td>17087</td>\n",
       "      <td>298393</td>\n",
       "      <td>57194</td>\n",
       "      <td>46</td>\n",
       "      <td>...</td>\n",
       "      <td>True</td>\n",
       "      <td>False</td>\n",
       "      <td>True</td>\n",
       "      <td>False</td>\n",
       "      <td>True</td>\n",
       "      <td>False</td>\n",
       "      <td>False</td>\n",
       "      <td>False</td>\n",
       "      <td>False</td>\n",
       "      <td>main</td>\n",
       "    </tr>\n",
       "    <tr>\n",
       "      <th>2</th>\n",
       "      <td>awesome</td>\n",
       "      <td>😎 Awesome lists about all kinds of interesting...</td>\n",
       "      <td>https://github.com/sindresorhus/awesome</td>\n",
       "      <td>2014-07-11T13:42:37Z</td>\n",
       "      <td>2023-09-21T11:18:22Z</td>\n",
       "      <td>NaN</td>\n",
       "      <td>1441</td>\n",
       "      <td>269997</td>\n",
       "      <td>26485</td>\n",
       "      <td>61</td>\n",
       "      <td>...</td>\n",
       "      <td>True</td>\n",
       "      <td>False</td>\n",
       "      <td>True</td>\n",
       "      <td>False</td>\n",
       "      <td>True</td>\n",
       "      <td>False</td>\n",
       "      <td>False</td>\n",
       "      <td>False</td>\n",
       "      <td>False</td>\n",
       "      <td>main</td>\n",
       "    </tr>\n",
       "    <tr>\n",
       "      <th>3</th>\n",
       "      <td>996.ICU</td>\n",
       "      <td>Repo for counting stars and contributing. Pres...</td>\n",
       "      <td>https://github.com/996icu/996.ICU</td>\n",
       "      <td>2019-03-26T07:31:14Z</td>\n",
       "      <td>2023-09-21T08:09:01Z</td>\n",
       "      <td>https://996.icu</td>\n",
       "      <td>187799</td>\n",
       "      <td>267901</td>\n",
       "      <td>21497</td>\n",
       "      <td>16712</td>\n",
       "      <td>...</td>\n",
       "      <td>False</td>\n",
       "      <td>False</td>\n",
       "      <td>True</td>\n",
       "      <td>False</td>\n",
       "      <td>False</td>\n",
       "      <td>False</td>\n",
       "      <td>False</td>\n",
       "      <td>True</td>\n",
       "      <td>False</td>\n",
       "      <td>master</td>\n",
       "    </tr>\n",
       "    <tr>\n",
       "      <th>4</th>\n",
       "      <td>coding-interview-university</td>\n",
       "      <td>A complete computer science study plan to beco...</td>\n",
       "      <td>https://github.com/jwasham/coding-interview-un...</td>\n",
       "      <td>2016-06-06T02:34:12Z</td>\n",
       "      <td>2023-09-21T10:54:48Z</td>\n",
       "      <td>NaN</td>\n",
       "      <td>20998</td>\n",
       "      <td>265161</td>\n",
       "      <td>69434</td>\n",
       "      <td>56</td>\n",
       "      <td>...</td>\n",
       "      <td>True</td>\n",
       "      <td>False</td>\n",
       "      <td>True</td>\n",
       "      <td>False</td>\n",
       "      <td>False</td>\n",
       "      <td>False</td>\n",
       "      <td>False</td>\n",
       "      <td>False</td>\n",
       "      <td>False</td>\n",
       "      <td>main</td>\n",
       "    </tr>\n",
       "  </tbody>\n",
       "</table>\n",
       "<p>5 rows × 24 columns</p>\n",
       "</div>"
      ],
      "text/plain": [
       "                          Name  \\\n",
       "0                 freeCodeCamp   \n",
       "1       free-programming-books   \n",
       "2                      awesome   \n",
       "3                      996.ICU   \n",
       "4  coding-interview-university   \n",
       "\n",
       "                                         Description  \\\n",
       "0  freeCodeCamp.org's open-source codebase and cu...   \n",
       "1         :books: Freely available programming books   \n",
       "2  😎 Awesome lists about all kinds of interesting...   \n",
       "3  Repo for counting stars and contributing. Pres...   \n",
       "4  A complete computer science study plan to beco...   \n",
       "\n",
       "                                                 URL            Created At  \\\n",
       "0       https://github.com/freeCodeCamp/freeCodeCamp  2014-12-24T17:49:19Z   \n",
       "1  https://github.com/EbookFoundation/free-progra...  2013-10-11T06:50:37Z   \n",
       "2            https://github.com/sindresorhus/awesome  2014-07-11T13:42:37Z   \n",
       "3                  https://github.com/996icu/996.ICU  2019-03-26T07:31:14Z   \n",
       "4  https://github.com/jwasham/coding-interview-un...  2016-06-06T02:34:12Z   \n",
       "\n",
       "             Updated At                                           Homepage  \\\n",
       "0  2023-09-21T11:32:33Z                http://contribute.freecodecamp.org/   \n",
       "1  2023-09-21T11:09:25Z  https://ebookfoundation.github.io/free-program...   \n",
       "2  2023-09-21T11:18:22Z                                                NaN   \n",
       "3  2023-09-21T08:09:01Z                                    https://996.icu   \n",
       "4  2023-09-21T10:54:48Z                                                NaN   \n",
       "\n",
       "     Size   Stars  Forks  Issues  ...  Has Issues Has Projects Has Downloads  \\\n",
       "0  387451  374074  33599     248  ...        True         True          True   \n",
       "1   17087  298393  57194      46  ...        True        False          True   \n",
       "2    1441  269997  26485      61  ...        True        False          True   \n",
       "3  187799  267901  21497   16712  ...       False        False          True   \n",
       "4   20998  265161  69434      56  ...        True        False          True   \n",
       "\n",
       "  Has Wiki  Has Pages  Has Discussions  Is Fork  Is Archived  Is Template  \\\n",
       "0    False       True            False    False        False        False   \n",
       "1    False       True            False    False        False        False   \n",
       "2    False       True            False    False        False        False   \n",
       "3    False      False            False    False         True        False   \n",
       "4    False      False            False    False        False        False   \n",
       "\n",
       "   Default Branch  \n",
       "0            main  \n",
       "1            main  \n",
       "2            main  \n",
       "3          master  \n",
       "4            main  \n",
       "\n",
       "[5 rows x 24 columns]"
      ]
     },
     "execution_count": 4,
     "metadata": {},
     "output_type": "execute_result"
    }
   ],
   "source": [
    "data.head()"
   ]
  },
  {
   "cell_type": "code",
   "execution_count": 5,
   "id": "ba466572",
   "metadata": {
    "execution": {
     "iopub.execute_input": "2023-10-05T15:32:17.162771Z",
     "iopub.status.busy": "2023-10-05T15:32:17.162424Z",
     "iopub.status.idle": "2023-10-05T15:32:17.168598Z",
     "shell.execute_reply": "2023-10-05T15:32:17.167767Z"
    },
    "papermill": {
     "duration": 0.010533,
     "end_time": "2023-10-05T15:32:17.170051",
     "exception": false,
     "start_time": "2023-10-05T15:32:17.159518",
     "status": "completed"
    },
    "tags": []
   },
   "outputs": [
    {
     "data": {
      "text/plain": [
       "(215029, 24)"
      ]
     },
     "execution_count": 5,
     "metadata": {},
     "output_type": "execute_result"
    }
   ],
   "source": [
    "data.shape"
   ]
  },
  {
   "cell_type": "code",
   "execution_count": 6,
   "id": "b5cd407b",
   "metadata": {
    "execution": {
     "iopub.execute_input": "2023-10-05T15:32:17.175501Z",
     "iopub.status.busy": "2023-10-05T15:32:17.175201Z",
     "iopub.status.idle": "2023-10-05T15:32:17.268659Z",
     "shell.execute_reply": "2023-10-05T15:32:17.267852Z"
    },
    "papermill": {
     "duration": 0.09844,
     "end_time": "2023-10-05T15:32:17.270724",
     "exception": false,
     "start_time": "2023-10-05T15:32:17.172284",
     "status": "completed"
    },
    "tags": []
   },
   "outputs": [],
   "source": [
    "data = data.sort_values(by='Forks',ascending=False)"
   ]
  },
  {
   "cell_type": "code",
   "execution_count": 7,
   "id": "e68119f6",
   "metadata": {
    "execution": {
     "iopub.execute_input": "2023-10-05T15:32:17.276364Z",
     "iopub.status.busy": "2023-10-05T15:32:17.276094Z",
     "iopub.status.idle": "2023-10-05T15:32:17.281291Z",
     "shell.execute_reply": "2023-10-05T15:32:17.280512Z"
    },
    "papermill": {
     "duration": 0.010383,
     "end_time": "2023-10-05T15:32:17.283544",
     "exception": false,
     "start_time": "2023-10-05T15:32:17.273161",
     "status": "completed"
    },
    "tags": []
   },
   "outputs": [],
   "source": [
    "data=data.head(20)"
   ]
  },
  {
   "cell_type": "code",
   "execution_count": 8,
   "id": "fee1c1c9",
   "metadata": {
    "execution": {
     "iopub.execute_input": "2023-10-05T15:32:17.289282Z",
     "iopub.status.busy": "2023-10-05T15:32:17.289000Z",
     "iopub.status.idle": "2023-10-05T15:32:17.562462Z",
     "shell.execute_reply": "2023-10-05T15:32:17.561658Z"
    },
    "papermill": {
     "duration": 0.278585,
     "end_time": "2023-10-05T15:32:17.564620",
     "exception": false,
     "start_time": "2023-10-05T15:32:17.286035",
     "status": "completed"
    },
    "tags": []
   },
   "outputs": [
    {
     "data": {
      "image/png": "[encoded data removed]",
      "text/plain": [
       "<Figure size 640x480 with 1 Axes>"
      ]
     },
     "metadata": {},
     "output_type": "display_data"
    }
   ],
   "source": [
    "\n",
    "sns.barplot(x='Name',y='Forks',data=data)\n",
    "plt.xticks(rotation=90)\n",
    "plt.show()"
   ]
  },
  {
   "cell_type": "code",
   "execution_count": null,
   "id": "62daca9f",
   "metadata": {
    "papermill": {
     "duration": 0.002787,
     "end_time": "2023-10-05T15:32:17.570689",
     "exception": false,
     "start_time": "2023-10-05T15:32:17.567902",
     "status": "completed"
    },
    "tags": []
   },
   "outputs": [],
   "source": []
  }
 ],
 "metadata": {
  "kernelspec": {
   "display_name": "Python 3",
   "language": "python",
   "name": "python3"
  },
  "language_info": {
   "codemirror_mode": {
    "name": "ipython",
    "version": 3
   },
   "file_extension": ".py",
   "mimetype": "text/x-python",
   "name": "python",
   "nbconvert_exporter": "python",
   "pygments_lexer": "ipython3",
   "version": "3.10.12"
  },
  "papermill": {
   "default_parameters": {},
   "duration": 7.30937,
   "end_time": "2023-10-05T15:32:18.092569",
   "environment_variables": {},
   "exception": null,
   "input_path": "__notebook__.ipynb",
   "output_path": "__notebook__.ipynb",
   "parameters": {},
   "start_time": "2023-10-05T15:32:10.783199",
   "version": "2.4.0"
  }
 },
 "nbformat": 4,
 "nbformat_minor": 5
}
