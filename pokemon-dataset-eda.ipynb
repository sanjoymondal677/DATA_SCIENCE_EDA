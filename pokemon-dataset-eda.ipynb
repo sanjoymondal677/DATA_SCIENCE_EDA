{
 "cells": [
  {
   "cell_type": "code",
   "execution_count": 1,
   "id": "db01f354",
   "metadata": {
    "_cell_guid": "b1076dfc-b9ad-4769-8c92-a6c4dae69d19",
    "_uuid": "8f2839f25d086af736a60e9eeb907d3b93b6e0e5",
    "execution": {
     "iopub.execute_input": "2022-02-03T07:13:09.094825Z",
     "iopub.status.busy": "2022-02-03T07:13:09.093656Z",
     "iopub.status.idle": "2022-02-03T07:13:09.115709Z",
     "shell.execute_reply": "2022-02-03T07:13:09.116264Z",
     "shell.execute_reply.started": "2022-02-03T07:12:22.546678Z"
    },
    "papermill": {
     "duration": 0.06119,
     "end_time": "2022-02-03T07:13:09.116563",
     "exception": false,
     "start_time": "2022-02-03T07:13:09.055373",
     "status": "completed"
    },
    "tags": []
   },
   "outputs": [
    {
     "name": "stdout",
     "output_type": "stream",
     "text": [
      "/kaggle/input/all-pokemon-with-stats/PokemonDb.csv\n"
     ]
    }
   ],
   "source": [
    "# This Python 3 environment comes with many helpful analytics libraries installed\n",
    "# It is defined by the kaggle/python Docker image: https://github.com/kaggle/docker-python\n",
    "# For example, here's several helpful packages to load\n",
    "\n",
    "import numpy as np # linear algebra\n",
    "import pandas as pd # data processing, CSV file I/O (e.g. pd.read_csv)\n",
    "\n",
    "# Input data files are available in the read-only \"../input/\" directory\n",
    "# For example, running this (by clicking run or pressing Shift+Enter) will list all files under the input directory\n",
    "\n",
    "import os\n",
    "for dirname, _, filenames in os.walk('/kaggle/input'):\n",
    "    for filename in filenames:\n",
    "        print(os.path.join(dirname, filename))\n",
    "\n",
    "# You can write up to 20GB to the current directory (/kaggle/working/) that gets preserved as output when you create a version using \"Save & Run All\" \n",
    "# You can also write temporary files to /kaggle/temp/, but they won't be saved outside of the current session"
   ]
  },
  {
   "cell_type": "code",
   "execution_count": 2,
   "id": "0584736e",
   "metadata": {
    "execution": {
     "iopub.execute_input": "2022-02-03T07:13:09.191664Z",
     "iopub.status.busy": "2022-02-03T07:13:09.190881Z",
     "iopub.status.idle": "2022-02-03T07:13:10.230035Z",
     "shell.execute_reply": "2022-02-03T07:13:10.229470Z",
     "shell.execute_reply.started": "2022-02-03T07:12:22.564551Z"
    },
    "papermill": {
     "duration": 1.078852,
     "end_time": "2022-02-03T07:13:10.230226",
     "exception": false,
     "start_time": "2022-02-03T07:13:09.151374",
     "status": "completed"
    },
    "tags": []
   },
   "outputs": [],
   "source": [
    "import numpy as np\n",
    "import pandas as pd\n",
    "import matplotlib.pyplot as plt\n",
    "import seaborn as sns"
   ]
  },
  {
   "cell_type": "code",
   "execution_count": 3,
   "id": "e1f2199b",
   "metadata": {
    "execution": {
     "iopub.execute_input": "2022-02-03T07:13:10.303057Z",
     "iopub.status.busy": "2022-02-03T07:13:10.301049Z",
     "iopub.status.idle": "2022-02-03T07:13:10.323864Z",
     "shell.execute_reply": "2022-02-03T07:13:10.323214Z",
     "shell.execute_reply.started": "2022-02-03T07:12:22.569795Z"
    },
    "papermill": {
     "duration": 0.060234,
     "end_time": "2022-02-03T07:13:10.324006",
     "exception": false,
     "start_time": "2022-02-03T07:13:10.263772",
     "status": "completed"
    },
    "tags": []
   },
   "outputs": [],
   "source": [
    "data = pd.read_csv(\"../input/all-pokemon-with-stats/PokemonDb.csv\")"
   ]
  },
  {
   "cell_type": "code",
   "execution_count": 4,
   "id": "99ec5ba1",
   "metadata": {
    "execution": {
     "iopub.execute_input": "2022-02-03T07:13:10.398889Z",
     "iopub.status.busy": "2022-02-03T07:13:10.398041Z",
     "iopub.status.idle": "2022-02-03T07:13:10.488376Z",
     "shell.execute_reply": "2022-02-03T07:13:10.488908Z",
     "shell.execute_reply.started": "2022-02-03T07:12:22.583528Z"
    },
    "papermill": {
     "duration": 0.13007,
     "end_time": "2022-02-03T07:13:10.489080",
     "exception": false,
     "start_time": "2022-02-03T07:13:10.359010",
     "status": "completed"
    },
    "tags": []
   },
   "outputs": [
    {
     "data": {
      "text/html": [
       "<style type=\"text/css\">\n",
       "#T_77158_row0_col0, #T_77158_row0_col1, #T_77158_row0_col2, #T_77158_row0_col3, #T_77158_row0_col4, #T_77158_row0_col5, #T_77158_row0_col6, #T_77158_row0_col7, #T_77158_row0_col8, #T_77158_row0_col9, #T_77158_row0_col10, #T_77158_row1_col0, #T_77158_row1_col1, #T_77158_row1_col2, #T_77158_row1_col3, #T_77158_row1_col4, #T_77158_row1_col5, #T_77158_row1_col6, #T_77158_row1_col7, #T_77158_row1_col8, #T_77158_row1_col9, #T_77158_row1_col10, #T_77158_row2_col0, #T_77158_row2_col1, #T_77158_row2_col2, #T_77158_row2_col3, #T_77158_row2_col4, #T_77158_row2_col5, #T_77158_row2_col6, #T_77158_row2_col7, #T_77158_row2_col8, #T_77158_row2_col9, #T_77158_row2_col10, #T_77158_row3_col0, #T_77158_row3_col1, #T_77158_row3_col2, #T_77158_row3_col3, #T_77158_row3_col4, #T_77158_row3_col5, #T_77158_row3_col6, #T_77158_row3_col7, #T_77158_row3_col8, #T_77158_row3_col9, #T_77158_row3_col10, #T_77158_row4_col0, #T_77158_row4_col1, #T_77158_row4_col2, #T_77158_row4_col3, #T_77158_row4_col4, #T_77158_row4_col5, #T_77158_row4_col6, #T_77158_row4_col7, #T_77158_row4_col8, #T_77158_row4_col9, #T_77158_row4_col10 {\n",
       "  background-color: #ff4654;\n",
       "  color: black;\n",
       "  border-color: black;\n",
       "}\n",
       "</style>\n",
       "<table id=\"T_77158_\">\n",
       "  <thead>\n",
       "    <tr>\n",
       "      <th class=\"blank level0\" >&nbsp;</th>\n",
       "      <th class=\"col_heading level0 col0\" >Name</th>\n",
       "      <th class=\"col_heading level0 col1\" >Variation</th>\n",
       "      <th class=\"col_heading level0 col2\" >Type1</th>\n",
       "      <th class=\"col_heading level0 col3\" >Type2</th>\n",
       "      <th class=\"col_heading level0 col4\" >Total</th>\n",
       "      <th class=\"col_heading level0 col5\" >HP</th>\n",
       "      <th class=\"col_heading level0 col6\" >Attack</th>\n",
       "      <th class=\"col_heading level0 col7\" >Defense</th>\n",
       "      <th class=\"col_heading level0 col8\" >Sp.Atk</th>\n",
       "      <th class=\"col_heading level0 col9\" >Sp.Def</th>\n",
       "      <th class=\"col_heading level0 col10\" >Speed</th>\n",
       "    </tr>\n",
       "  </thead>\n",
       "  <tbody>\n",
       "    <tr>\n",
       "      <th id=\"T_77158_level0_row0\" class=\"row_heading level0 row0\" >0</th>\n",
       "      <td id=\"T_77158_row0_col0\" class=\"data row0 col0\" >Bulbasaur</td>\n",
       "      <td id=\"T_77158_row0_col1\" class=\"data row0 col1\" >nan</td>\n",
       "      <td id=\"T_77158_row0_col2\" class=\"data row0 col2\" >Grass</td>\n",
       "      <td id=\"T_77158_row0_col3\" class=\"data row0 col3\" >Poison</td>\n",
       "      <td id=\"T_77158_row0_col4\" class=\"data row0 col4\" >318</td>\n",
       "      <td id=\"T_77158_row0_col5\" class=\"data row0 col5\" >45</td>\n",
       "      <td id=\"T_77158_row0_col6\" class=\"data row0 col6\" >49</td>\n",
       "      <td id=\"T_77158_row0_col7\" class=\"data row0 col7\" >49</td>\n",
       "      <td id=\"T_77158_row0_col8\" class=\"data row0 col8\" >65</td>\n",
       "      <td id=\"T_77158_row0_col9\" class=\"data row0 col9\" >65</td>\n",
       "      <td id=\"T_77158_row0_col10\" class=\"data row0 col10\" >45</td>\n",
       "    </tr>\n",
       "    <tr>\n",
       "      <th id=\"T_77158_level0_row1\" class=\"row_heading level0 row1\" >1</th>\n",
       "      <td id=\"T_77158_row1_col0\" class=\"data row1 col0\" >Ivysaur</td>\n",
       "      <td id=\"T_77158_row1_col1\" class=\"data row1 col1\" >nan</td>\n",
       "      <td id=\"T_77158_row1_col2\" class=\"data row1 col2\" >Grass</td>\n",
       "      <td id=\"T_77158_row1_col3\" class=\"data row1 col3\" >Poison</td>\n",
       "      <td id=\"T_77158_row1_col4\" class=\"data row1 col4\" >405</td>\n",
       "      <td id=\"T_77158_row1_col5\" class=\"data row1 col5\" >60</td>\n",
       "      <td id=\"T_77158_row1_col6\" class=\"data row1 col6\" >62</td>\n",
       "      <td id=\"T_77158_row1_col7\" class=\"data row1 col7\" >63</td>\n",
       "      <td id=\"T_77158_row1_col8\" class=\"data row1 col8\" >80</td>\n",
       "      <td id=\"T_77158_row1_col9\" class=\"data row1 col9\" >80</td>\n",
       "      <td id=\"T_77158_row1_col10\" class=\"data row1 col10\" >60</td>\n",
       "    </tr>\n",
       "    <tr>\n",
       "      <th id=\"T_77158_level0_row2\" class=\"row_heading level0 row2\" >2</th>\n",
       "      <td id=\"T_77158_row2_col0\" class=\"data row2 col0\" >Venusaur</td>\n",
       "      <td id=\"T_77158_row2_col1\" class=\"data row2 col1\" >nan</td>\n",
       "      <td id=\"T_77158_row2_col2\" class=\"data row2 col2\" >Grass</td>\n",
       "      <td id=\"T_77158_row2_col3\" class=\"data row2 col3\" >Poison</td>\n",
       "      <td id=\"T_77158_row2_col4\" class=\"data row2 col4\" >525</td>\n",
       "      <td id=\"T_77158_row2_col5\" class=\"data row2 col5\" >80</td>\n",
       "      <td id=\"T_77158_row2_col6\" class=\"data row2 col6\" >82</td>\n",
       "      <td id=\"T_77158_row2_col7\" class=\"data row2 col7\" >83</td>\n",
       "      <td id=\"T_77158_row2_col8\" class=\"data row2 col8\" >100</td>\n",
       "      <td id=\"T_77158_row2_col9\" class=\"data row2 col9\" >100</td>\n",
       "      <td id=\"T_77158_row2_col10\" class=\"data row2 col10\" >80</td>\n",
       "    </tr>\n",
       "    <tr>\n",
       "      <th id=\"T_77158_level0_row3\" class=\"row_heading level0 row3\" >3</th>\n",
       "      <td id=\"T_77158_row3_col0\" class=\"data row3 col0\" >Venusaur</td>\n",
       "      <td id=\"T_77158_row3_col1\" class=\"data row3 col1\" >Mega </td>\n",
       "      <td id=\"T_77158_row3_col2\" class=\"data row3 col2\" >Grass</td>\n",
       "      <td id=\"T_77158_row3_col3\" class=\"data row3 col3\" >Poison</td>\n",
       "      <td id=\"T_77158_row3_col4\" class=\"data row3 col4\" >625</td>\n",
       "      <td id=\"T_77158_row3_col5\" class=\"data row3 col5\" >80</td>\n",
       "      <td id=\"T_77158_row3_col6\" class=\"data row3 col6\" >100</td>\n",
       "      <td id=\"T_77158_row3_col7\" class=\"data row3 col7\" >123</td>\n",
       "      <td id=\"T_77158_row3_col8\" class=\"data row3 col8\" >122</td>\n",
       "      <td id=\"T_77158_row3_col9\" class=\"data row3 col9\" >120</td>\n",
       "      <td id=\"T_77158_row3_col10\" class=\"data row3 col10\" >80</td>\n",
       "    </tr>\n",
       "    <tr>\n",
       "      <th id=\"T_77158_level0_row4\" class=\"row_heading level0 row4\" >4</th>\n",
       "      <td id=\"T_77158_row4_col0\" class=\"data row4 col0\" >Charmander</td>\n",
       "      <td id=\"T_77158_row4_col1\" class=\"data row4 col1\" >nan</td>\n",
       "      <td id=\"T_77158_row4_col2\" class=\"data row4 col2\" >Fire</td>\n",
       "      <td id=\"T_77158_row4_col3\" class=\"data row4 col3\" >nan</td>\n",
       "      <td id=\"T_77158_row4_col4\" class=\"data row4 col4\" >309</td>\n",
       "      <td id=\"T_77158_row4_col5\" class=\"data row4 col5\" >39</td>\n",
       "      <td id=\"T_77158_row4_col6\" class=\"data row4 col6\" >52</td>\n",
       "      <td id=\"T_77158_row4_col7\" class=\"data row4 col7\" >43</td>\n",
       "      <td id=\"T_77158_row4_col8\" class=\"data row4 col8\" >60</td>\n",
       "      <td id=\"T_77158_row4_col9\" class=\"data row4 col9\" >50</td>\n",
       "      <td id=\"T_77158_row4_col10\" class=\"data row4 col10\" >65</td>\n",
       "    </tr>\n",
       "  </tbody>\n",
       "</table>\n"
      ],
      "text/plain": [
       "<pandas.io.formats.style.Styler at 0x7fcf3ab5ae90>"
      ]
     },
     "execution_count": 4,
     "metadata": {},
     "output_type": "execute_result"
    }
   ],
   "source": [
    "data.head().style.set_properties(**{\"background-color\": \"#ff4654\",\"color\": \"black\",\"border-color\": \"black\"})"
   ]
  },
  {
   "cell_type": "code",
   "execution_count": 5,
   "id": "2e9a4fde",
   "metadata": {
    "execution": {
     "iopub.execute_input": "2022-02-03T07:13:10.564878Z",
     "iopub.status.busy": "2022-02-03T07:13:10.564174Z",
     "iopub.status.idle": "2022-02-03T07:13:10.566961Z",
     "shell.execute_reply": "2022-02-03T07:13:10.567462Z",
     "shell.execute_reply.started": "2022-02-03T07:12:22.817290Z"
    },
    "papermill": {
     "duration": 0.044297,
     "end_time": "2022-02-03T07:13:10.567636",
     "exception": false,
     "start_time": "2022-02-03T07:13:10.523339",
     "status": "completed"
    },
    "tags": []
   },
   "outputs": [
    {
     "data": {
      "text/plain": [
       "(1071, 11)"
      ]
     },
     "execution_count": 5,
     "metadata": {},
     "output_type": "execute_result"
    }
   ],
   "source": [
    "data.shape"
   ]
  },
  {
   "cell_type": "code",
   "execution_count": 6,
   "id": "dfb518d9",
   "metadata": {
    "execution": {
     "iopub.execute_input": "2022-02-03T07:13:10.640468Z",
     "iopub.status.busy": "2022-02-03T07:13:10.639825Z",
     "iopub.status.idle": "2022-02-03T07:13:10.659015Z",
     "shell.execute_reply": "2022-02-03T07:13:10.659793Z",
     "shell.execute_reply.started": "2022-02-03T07:12:22.824057Z"
    },
    "papermill": {
     "duration": 0.057601,
     "end_time": "2022-02-03T07:13:10.660041",
     "exception": false,
     "start_time": "2022-02-03T07:13:10.602440",
     "status": "completed"
    },
    "tags": []
   },
   "outputs": [
    {
     "name": "stdout",
     "output_type": "stream",
     "text": [
      "<class 'pandas.core.frame.DataFrame'>\n",
      "RangeIndex: 1071 entries, 0 to 1070\n",
      "Data columns (total 11 columns):\n",
      " #   Column     Non-Null Count  Dtype \n",
      "---  ------     --------------  ----- \n",
      " 0   Name       1071 non-null   object\n",
      " 1   Variation  197 non-null    object\n",
      " 2   Type1      1071 non-null   object\n",
      " 3   Type2      579 non-null    object\n",
      " 4   Total      1071 non-null   int64 \n",
      " 5   HP         1071 non-null   int64 \n",
      " 6   Attack     1071 non-null   int64 \n",
      " 7   Defense    1071 non-null   int64 \n",
      " 8   Sp.Atk     1071 non-null   int64 \n",
      " 9   Sp.Def     1071 non-null   int64 \n",
      " 10  Speed      1071 non-null   int64 \n",
      "dtypes: int64(7), object(4)\n",
      "memory usage: 92.2+ KB\n"
     ]
    }
   ],
   "source": [
    "data.info()"
   ]
  },
  {
   "cell_type": "code",
   "execution_count": 7,
   "id": "1aa336fe",
   "metadata": {
    "execution": {
     "iopub.execute_input": "2022-02-03T07:13:10.735034Z",
     "iopub.status.busy": "2022-02-03T07:13:10.734363Z",
     "iopub.status.idle": "2022-02-03T07:13:10.742102Z",
     "shell.execute_reply": "2022-02-03T07:13:10.742715Z",
     "shell.execute_reply.started": "2022-02-03T07:12:22.842436Z"
    },
    "papermill": {
     "duration": 0.046041,
     "end_time": "2022-02-03T07:13:10.742917",
     "exception": false,
     "start_time": "2022-02-03T07:13:10.696876",
     "status": "completed"
    },
    "tags": []
   },
   "outputs": [
    {
     "data": {
      "text/plain": [
       "Name           0\n",
       "Variation    874\n",
       "Type1          0\n",
       "Type2        492\n",
       "Total          0\n",
       "HP             0\n",
       "Attack         0\n",
       "Defense        0\n",
       "Sp.Atk         0\n",
       "Sp.Def         0\n",
       "Speed          0\n",
       "dtype: int64"
      ]
     },
     "execution_count": 7,
     "metadata": {},
     "output_type": "execute_result"
    }
   ],
   "source": [
    "data.isnull().sum()"
   ]
  },
  {
   "cell_type": "code",
   "execution_count": 8,
   "id": "ccc8e75e",
   "metadata": {
    "execution": {
     "iopub.execute_input": "2022-02-03T07:13:10.817867Z",
     "iopub.status.busy": "2022-02-03T07:13:10.817189Z",
     "iopub.status.idle": "2022-02-03T07:13:10.828050Z",
     "shell.execute_reply": "2022-02-03T07:13:10.828671Z",
     "shell.execute_reply.started": "2022-02-03T07:12:22.852877Z"
    },
    "papermill": {
     "duration": 0.05038,
     "end_time": "2022-02-03T07:13:10.828872",
     "exception": false,
     "start_time": "2022-02-03T07:13:10.778492",
     "status": "completed"
    },
    "tags": []
   },
   "outputs": [],
   "source": [
    "import missingno as msno"
   ]
  },
  {
   "cell_type": "code",
   "execution_count": 9,
   "id": "484388cd",
   "metadata": {
    "execution": {
     "iopub.execute_input": "2022-02-03T07:13:10.913195Z",
     "iopub.status.busy": "2022-02-03T07:13:10.912083Z",
     "iopub.status.idle": "2022-02-03T07:13:11.840822Z",
     "shell.execute_reply": "2022-02-03T07:13:11.841407Z",
     "shell.execute_reply.started": "2022-02-03T07:12:22.858042Z"
    },
    "papermill": {
     "duration": 0.976856,
     "end_time": "2022-02-03T07:13:11.841591",
     "exception": false,
     "start_time": "2022-02-03T07:13:10.864735",
     "status": "completed"
    },
    "tags": []
   },
   "outputs": [
    {
     "data": {
      "image/png": "[encoded data removed]",
      "text/plain": [
       "<Figure size 1728x720 with 3 Axes>"
      ]
     },
     "metadata": {
      "needs_background": "light"
     },
     "output_type": "display_data"
    }
   ],
   "source": [
    "msno.bar(data)\n",
    "plt.show()"
   ]
  },
  {
   "cell_type": "code",
   "execution_count": 10,
   "id": "c70794c3",
   "metadata": {
    "execution": {
     "iopub.execute_input": "2022-02-03T07:13:11.921481Z",
     "iopub.status.busy": "2022-02-03T07:13:11.920365Z",
     "iopub.status.idle": "2022-02-03T07:13:11.922665Z",
     "shell.execute_reply": "2022-02-03T07:13:11.923243Z",
     "shell.execute_reply.started": "2022-02-03T07:12:23.589179Z"
    },
    "papermill": {
     "duration": 0.044934,
     "end_time": "2022-02-03T07:13:11.923423",
     "exception": false,
     "start_time": "2022-02-03T07:13:11.878489",
     "status": "completed"
    },
    "tags": []
   },
   "outputs": [],
   "source": [
    "df = data.copy()"
   ]
  },
  {
   "cell_type": "code",
   "execution_count": 11,
   "id": "caa7be88",
   "metadata": {
    "execution": {
     "iopub.execute_input": "2022-02-03T07:13:12.000821Z",
     "iopub.status.busy": "2022-02-03T07:13:11.999814Z",
     "iopub.status.idle": "2022-02-03T07:13:12.004852Z",
     "shell.execute_reply": "2022-02-03T07:13:12.005316Z",
     "shell.execute_reply.started": "2022-02-03T07:12:23.594367Z"
    },
    "papermill": {
     "duration": 0.045116,
     "end_time": "2022-02-03T07:13:12.005496",
     "exception": false,
     "start_time": "2022-02-03T07:13:11.960380",
     "status": "completed"
    },
    "tags": []
   },
   "outputs": [],
   "source": [
    "data = data.drop(['Variation','Type2'],axis=1)"
   ]
  },
  {
   "cell_type": "code",
   "execution_count": 12,
   "id": "6cade7d0",
   "metadata": {
    "execution": {
     "iopub.execute_input": "2022-02-03T07:13:12.083856Z",
     "iopub.status.busy": "2022-02-03T07:13:12.082852Z",
     "iopub.status.idle": "2022-02-03T07:13:12.097852Z",
     "shell.execute_reply": "2022-02-03T07:13:12.098332Z",
     "shell.execute_reply.started": "2022-02-03T07:12:23.607452Z"
    },
    "papermill": {
     "duration": 0.055502,
     "end_time": "2022-02-03T07:13:12.098515",
     "exception": false,
     "start_time": "2022-02-03T07:13:12.043013",
     "status": "completed"
    },
    "tags": []
   },
   "outputs": [
    {
     "data": {
      "text/html": [
       "<div>\n",
       "<style scoped>\n",
       "    .dataframe tbody tr th:only-of-type {\n",
       "        vertical-align: middle;\n",
       "    }\n",
       "\n",
       "    .dataframe tbody tr th {\n",
       "        vertical-align: top;\n",
       "    }\n",
       "\n",
       "    .dataframe thead th {\n",
       "        text-align: right;\n",
       "    }\n",
       "</style>\n",
       "<table border=\"1\" class=\"dataframe\">\n",
       "  <thead>\n",
       "    <tr style=\"text-align: right;\">\n",
       "      <th></th>\n",
       "      <th>Name</th>\n",
       "      <th>Type1</th>\n",
       "      <th>Total</th>\n",
       "      <th>HP</th>\n",
       "      <th>Attack</th>\n",
       "      <th>Defense</th>\n",
       "      <th>Sp.Atk</th>\n",
       "      <th>Sp.Def</th>\n",
       "      <th>Speed</th>\n",
       "    </tr>\n",
       "  </thead>\n",
       "  <tbody>\n",
       "    <tr>\n",
       "      <th>0</th>\n",
       "      <td>Bulbasaur</td>\n",
       "      <td>Grass</td>\n",
       "      <td>318</td>\n",
       "      <td>45</td>\n",
       "      <td>49</td>\n",
       "      <td>49</td>\n",
       "      <td>65</td>\n",
       "      <td>65</td>\n",
       "      <td>45</td>\n",
       "    </tr>\n",
       "    <tr>\n",
       "      <th>1</th>\n",
       "      <td>Ivysaur</td>\n",
       "      <td>Grass</td>\n",
       "      <td>405</td>\n",
       "      <td>60</td>\n",
       "      <td>62</td>\n",
       "      <td>63</td>\n",
       "      <td>80</td>\n",
       "      <td>80</td>\n",
       "      <td>60</td>\n",
       "    </tr>\n",
       "    <tr>\n",
       "      <th>2</th>\n",
       "      <td>Venusaur</td>\n",
       "      <td>Grass</td>\n",
       "      <td>525</td>\n",
       "      <td>80</td>\n",
       "      <td>82</td>\n",
       "      <td>83</td>\n",
       "      <td>100</td>\n",
       "      <td>100</td>\n",
       "      <td>80</td>\n",
       "    </tr>\n",
       "    <tr>\n",
       "      <th>3</th>\n",
       "      <td>Venusaur</td>\n",
       "      <td>Grass</td>\n",
       "      <td>625</td>\n",
       "      <td>80</td>\n",
       "      <td>100</td>\n",
       "      <td>123</td>\n",
       "      <td>122</td>\n",
       "      <td>120</td>\n",
       "      <td>80</td>\n",
       "    </tr>\n",
       "    <tr>\n",
       "      <th>4</th>\n",
       "      <td>Charmander</td>\n",
       "      <td>Fire</td>\n",
       "      <td>309</td>\n",
       "      <td>39</td>\n",
       "      <td>52</td>\n",
       "      <td>43</td>\n",
       "      <td>60</td>\n",
       "      <td>50</td>\n",
       "      <td>65</td>\n",
       "    </tr>\n",
       "  </tbody>\n",
       "</table>\n",
       "</div>"
      ],
      "text/plain": [
       "         Name  Type1  Total  HP  Attack  Defense  Sp.Atk  Sp.Def  Speed\n",
       "0   Bulbasaur  Grass    318  45      49       49      65      65     45\n",
       "1     Ivysaur  Grass    405  60      62       63      80      80     60\n",
       "2    Venusaur  Grass    525  80      82       83     100     100     80\n",
       "3    Venusaur  Grass    625  80     100      123     122     120     80\n",
       "4  Charmander   Fire    309  39      52       43      60      50     65"
      ]
     },
     "execution_count": 12,
     "metadata": {},
     "output_type": "execute_result"
    }
   ],
   "source": [
    "data.head()"
   ]
  },
  {
   "cell_type": "code",
   "execution_count": 13,
   "id": "3cb1734d",
   "metadata": {
    "execution": {
     "iopub.execute_input": "2022-02-03T07:13:12.176633Z",
     "iopub.status.busy": "2022-02-03T07:13:12.175659Z",
     "iopub.status.idle": "2022-02-03T07:13:12.182572Z",
     "shell.execute_reply": "2022-02-03T07:13:12.183023Z",
     "shell.execute_reply.started": "2022-02-03T07:12:23.626861Z"
    },
    "papermill": {
     "duration": 0.047717,
     "end_time": "2022-02-03T07:13:12.183224",
     "exception": false,
     "start_time": "2022-02-03T07:13:12.135507",
     "status": "completed"
    },
    "tags": []
   },
   "outputs": [
    {
     "data": {
      "text/plain": [
       "Name       object\n",
       "Type1      object\n",
       "Total       int64\n",
       "HP          int64\n",
       "Attack      int64\n",
       "Defense     int64\n",
       "Sp.Atk      int64\n",
       "Sp.Def      int64\n",
       "Speed       int64\n",
       "dtype: object"
      ]
     },
     "execution_count": 13,
     "metadata": {},
     "output_type": "execute_result"
    }
   ],
   "source": [
    "data.dtypes"
   ]
  },
  {
   "cell_type": "code",
   "execution_count": 14,
   "id": "c09c59ad",
   "metadata": {
    "execution": {
     "iopub.execute_input": "2022-02-03T07:13:12.262797Z",
     "iopub.status.busy": "2022-02-03T07:13:12.261815Z",
     "iopub.status.idle": "2022-02-03T07:13:12.270388Z",
     "shell.execute_reply": "2022-02-03T07:13:12.270844Z",
     "shell.execute_reply.started": "2022-02-03T07:12:23.636336Z"
    },
    "papermill": {
     "duration": 0.04956,
     "end_time": "2022-02-03T07:13:12.271022",
     "exception": false,
     "start_time": "2022-02-03T07:13:12.221462",
     "status": "completed"
    },
    "tags": []
   },
   "outputs": [
    {
     "data": {
      "text/plain": [
       "Name       904\n",
       "Type1       19\n",
       "Total      216\n",
       "HP         103\n",
       "Attack     123\n",
       "Defense    114\n",
       "Sp.Atk     121\n",
       "Sp.Def     107\n",
       "Speed      127\n",
       "dtype: int64"
      ]
     },
     "execution_count": 14,
     "metadata": {},
     "output_type": "execute_result"
    }
   ],
   "source": [
    "data.nunique()"
   ]
  },
  {
   "cell_type": "markdown",
   "id": "bba33093",
   "metadata": {
    "papermill": {
     "duration": 0.037714,
     "end_time": "2022-02-03T07:13:12.347244",
     "exception": false,
     "start_time": "2022-02-03T07:13:12.309530",
     "status": "completed"
    },
    "tags": []
   },
   "source": [
    "# Top 10 high HP pokemon name"
   ]
  },
  {
   "cell_type": "code",
   "execution_count": 15,
   "id": "f8cc62b0",
   "metadata": {
    "execution": {
     "iopub.execute_input": "2022-02-03T07:13:12.428668Z",
     "iopub.status.busy": "2022-02-03T07:13:12.425882Z",
     "iopub.status.idle": "2022-02-03T07:13:12.432033Z",
     "shell.execute_reply": "2022-02-03T07:13:12.432537Z",
     "shell.execute_reply.started": "2022-02-03T07:12:23.651297Z"
    },
    "papermill": {
     "duration": 0.047502,
     "end_time": "2022-02-03T07:13:12.432720",
     "exception": false,
     "start_time": "2022-02-03T07:13:12.385218",
     "status": "completed"
    },
    "tags": []
   },
   "outputs": [],
   "source": [
    "high_hp = data[['Name','HP']].sort_values(ascending=False,by='HP')"
   ]
  },
  {
   "cell_type": "code",
   "execution_count": 16,
   "id": "8ef3dbad",
   "metadata": {
    "execution": {
     "iopub.execute_input": "2022-02-03T07:13:12.512946Z",
     "iopub.status.busy": "2022-02-03T07:13:12.511939Z",
     "iopub.status.idle": "2022-02-03T07:13:12.524359Z",
     "shell.execute_reply": "2022-02-03T07:13:12.523667Z",
     "shell.execute_reply.started": "2022-02-03T07:12:23.658407Z"
    },
    "papermill": {
     "duration": 0.05332,
     "end_time": "2022-02-03T07:13:12.524513",
     "exception": false,
     "start_time": "2022-02-03T07:13:12.471193",
     "status": "completed"
    },
    "tags": []
   },
   "outputs": [
    {
     "data": {
      "text/html": [
       "<div>\n",
       "<style scoped>\n",
       "    .dataframe tbody tr th:only-of-type {\n",
       "        vertical-align: middle;\n",
       "    }\n",
       "\n",
       "    .dataframe tbody tr th {\n",
       "        vertical-align: top;\n",
       "    }\n",
       "\n",
       "    .dataframe thead th {\n",
       "        text-align: right;\n",
       "    }\n",
       "</style>\n",
       "<table border=\"1\" class=\"dataframe\">\n",
       "  <thead>\n",
       "    <tr style=\"text-align: right;\">\n",
       "      <th></th>\n",
       "      <th>Name</th>\n",
       "      <th>HP</th>\n",
       "    </tr>\n",
       "  </thead>\n",
       "  <tbody>\n",
       "    <tr>\n",
       "      <th>294</th>\n",
       "      <td>Blissey</td>\n",
       "      <td>255</td>\n",
       "    </tr>\n",
       "    <tr>\n",
       "      <th>1031</th>\n",
       "      <td>Eternatus</td>\n",
       "      <td>255</td>\n",
       "    </tr>\n",
       "    <tr>\n",
       "      <th>147</th>\n",
       "      <td>Chansey</td>\n",
       "      <td>250</td>\n",
       "    </tr>\n",
       "    <tr>\n",
       "      <th>931</th>\n",
       "      <td>Guzzlord</td>\n",
       "      <td>223</td>\n",
       "    </tr>\n",
       "    <tr>\n",
       "      <th>841</th>\n",
       "      <td>Zygarde</td>\n",
       "      <td>216</td>\n",
       "    </tr>\n",
       "    <tr>\n",
       "      <th>...</th>\n",
       "      <td>...</td>\n",
       "      <td>...</td>\n",
       "    </tr>\n",
       "    <tr>\n",
       "      <th>416</th>\n",
       "      <td>Feebas</td>\n",
       "      <td>20</td>\n",
       "    </tr>\n",
       "    <tr>\n",
       "      <th>426</th>\n",
       "      <td>Duskull</td>\n",
       "      <td>20</td>\n",
       "    </tr>\n",
       "    <tr>\n",
       "      <th>64</th>\n",
       "      <td>Diglett</td>\n",
       "      <td>10</td>\n",
       "    </tr>\n",
       "    <tr>\n",
       "      <th>63</th>\n",
       "      <td>Diglett</td>\n",
       "      <td>10</td>\n",
       "    </tr>\n",
       "    <tr>\n",
       "      <th>351</th>\n",
       "      <td>Shedinja</td>\n",
       "      <td>1</td>\n",
       "    </tr>\n",
       "  </tbody>\n",
       "</table>\n",
       "<p>1071 rows × 2 columns</p>\n",
       "</div>"
      ],
      "text/plain": [
       "           Name   HP\n",
       "294     Blissey  255\n",
       "1031  Eternatus  255\n",
       "147     Chansey  250\n",
       "931    Guzzlord  223\n",
       "841    Zygarde   216\n",
       "...         ...  ...\n",
       "416      Feebas   20\n",
       "426     Duskull   20\n",
       "64      Diglett   10\n",
       "63      Diglett   10\n",
       "351    Shedinja    1\n",
       "\n",
       "[1071 rows x 2 columns]"
      ]
     },
     "execution_count": 16,
     "metadata": {},
     "output_type": "execute_result"
    }
   ],
   "source": [
    "high_hp"
   ]
  },
  {
   "cell_type": "code",
   "execution_count": 17,
   "id": "b06894ee",
   "metadata": {
    "execution": {
     "iopub.execute_input": "2022-02-03T07:13:12.609028Z",
     "iopub.status.busy": "2022-02-03T07:13:12.608060Z",
     "iopub.status.idle": "2022-02-03T07:13:12.611046Z",
     "shell.execute_reply": "2022-02-03T07:13:12.611600Z",
     "shell.execute_reply.started": "2022-02-03T07:12:23.678849Z"
    },
    "papermill": {
     "duration": 0.048937,
     "end_time": "2022-02-03T07:13:12.611780",
     "exception": false,
     "start_time": "2022-02-03T07:13:12.562843",
     "status": "completed"
    },
    "tags": []
   },
   "outputs": [],
   "source": [
    "top_10_hp_pokemon_name = high_hp.nlargest(10, 'HP')"
   ]
  },
  {
   "cell_type": "code",
   "execution_count": 18,
   "id": "222281ef",
   "metadata": {
    "execution": {
     "iopub.execute_input": "2022-02-03T07:13:12.700483Z",
     "iopub.status.busy": "2022-02-03T07:13:12.699738Z",
     "iopub.status.idle": "2022-02-03T07:13:12.704044Z",
     "shell.execute_reply": "2022-02-03T07:13:12.703495Z",
     "shell.execute_reply.started": "2022-02-03T07:12:23.687283Z"
    },
    "papermill": {
     "duration": 0.052643,
     "end_time": "2022-02-03T07:13:12.704227",
     "exception": false,
     "start_time": "2022-02-03T07:13:12.651584",
     "status": "completed"
    },
    "tags": []
   },
   "outputs": [
    {
     "data": {
      "text/html": [
       "<div>\n",
       "<style scoped>\n",
       "    .dataframe tbody tr th:only-of-type {\n",
       "        vertical-align: middle;\n",
       "    }\n",
       "\n",
       "    .dataframe tbody tr th {\n",
       "        vertical-align: top;\n",
       "    }\n",
       "\n",
       "    .dataframe thead th {\n",
       "        text-align: right;\n",
       "    }\n",
       "</style>\n",
       "<table border=\"1\" class=\"dataframe\">\n",
       "  <thead>\n",
       "    <tr style=\"text-align: right;\">\n",
       "      <th></th>\n",
       "      <th>Name</th>\n",
       "      <th>HP</th>\n",
       "    </tr>\n",
       "  </thead>\n",
       "  <tbody>\n",
       "    <tr>\n",
       "      <th>294</th>\n",
       "      <td>Blissey</td>\n",
       "      <td>255</td>\n",
       "    </tr>\n",
       "    <tr>\n",
       "      <th>1031</th>\n",
       "      <td>Eternatus</td>\n",
       "      <td>255</td>\n",
       "    </tr>\n",
       "    <tr>\n",
       "      <th>147</th>\n",
       "      <td>Chansey</td>\n",
       "      <td>250</td>\n",
       "    </tr>\n",
       "    <tr>\n",
       "      <th>931</th>\n",
       "      <td>Guzzlord</td>\n",
       "      <td>223</td>\n",
       "    </tr>\n",
       "    <tr>\n",
       "      <th>841</th>\n",
       "      <td>Zygarde</td>\n",
       "      <td>216</td>\n",
       "    </tr>\n",
       "    <tr>\n",
       "      <th>1037</th>\n",
       "      <td>Regidrago</td>\n",
       "      <td>200</td>\n",
       "    </tr>\n",
       "    <tr>\n",
       "      <th>249</th>\n",
       "      <td>Wobbuffet</td>\n",
       "      <td>190</td>\n",
       "    </tr>\n",
       "    <tr>\n",
       "      <th>386</th>\n",
       "      <td>Wailord</td>\n",
       "      <td>170</td>\n",
       "    </tr>\n",
       "    <tr>\n",
       "      <th>698</th>\n",
       "      <td>Alomomola</td>\n",
       "      <td>165</td>\n",
       "    </tr>\n",
       "    <tr>\n",
       "      <th>183</th>\n",
       "      <td>Snorlax</td>\n",
       "      <td>160</td>\n",
       "    </tr>\n",
       "  </tbody>\n",
       "</table>\n",
       "</div>"
      ],
      "text/plain": [
       "           Name   HP\n",
       "294     Blissey  255\n",
       "1031  Eternatus  255\n",
       "147     Chansey  250\n",
       "931    Guzzlord  223\n",
       "841    Zygarde   216\n",
       "1037  Regidrago  200\n",
       "249   Wobbuffet  190\n",
       "386     Wailord  170\n",
       "698   Alomomola  165\n",
       "183     Snorlax  160"
      ]
     },
     "execution_count": 18,
     "metadata": {},
     "output_type": "execute_result"
    }
   ],
   "source": [
    "top_10_hp_pokemon_name"
   ]
  },
  {
   "cell_type": "code",
   "execution_count": 19,
   "id": "8957f4ee",
   "metadata": {
    "execution": {
     "iopub.execute_input": "2022-02-03T07:13:12.815903Z",
     "iopub.status.busy": "2022-02-03T07:13:12.786756Z",
     "iopub.status.idle": "2022-02-03T07:13:13.158098Z",
     "shell.execute_reply": "2022-02-03T07:13:13.157519Z",
     "shell.execute_reply.started": "2022-02-03T07:12:23.702835Z"
    },
    "papermill": {
     "duration": 0.415041,
     "end_time": "2022-02-03T07:13:13.158270",
     "exception": false,
     "start_time": "2022-02-03T07:13:12.743229",
     "status": "completed"
    },
    "tags": []
   },
   "outputs": [
    {
     "data": {
      "image/png": "[encoded data removed]",
      "text/plain": [
       "<Figure size 1512x720 with 1 Axes>"
      ]
     },
     "metadata": {},
     "output_type": "display_data"
    }
   ],
   "source": [
    "sns.set(rc = {'figure.figsize':(21,10)})\n",
    "ax  = sns.barplot(x='Name',y='HP',data = top_10_hp_pokemon_name,palette = 'Paired')\n",
    "plt.bar_label(ax.containers[0])\n",
    "plt.xlabel(\"Name\",fontweight='bold',size=22)\n",
    "plt.ylabel(\"HP\",fontweight='bold',size=22)\n",
    "plt.show()"
   ]
  },
  {
   "cell_type": "markdown",
   "id": "fc4d5fc5",
   "metadata": {
    "papermill": {
     "duration": 0.040955,
     "end_time": "2022-02-03T07:13:13.239740",
     "exception": false,
     "start_time": "2022-02-03T07:13:13.198785",
     "status": "completed"
    },
    "tags": []
   },
   "source": [
    "![](https://assets.pokemon.com/assets/cms2/img/pokedex/detail/242.png)"
   ]
  },
  {
   "cell_type": "markdown",
   "id": "e2525c7b",
   "metadata": {
    "papermill": {
     "duration": 0.039833,
     "end_time": "2022-02-03T07:13:13.320601",
     "exception": false,
     "start_time": "2022-02-03T07:13:13.280768",
     "status": "completed"
    },
    "tags": []
   },
   "source": [
    "![](https://assets.pokemon.com/assets/cms2/img/pokedex/detail/890.png)"
   ]
  },
  {
   "cell_type": "markdown",
   "id": "d4b9aa72",
   "metadata": {
    "papermill": {
     "duration": 0.039867,
     "end_time": "2022-02-03T07:13:13.400637",
     "exception": false,
     "start_time": "2022-02-03T07:13:13.360770",
     "status": "completed"
    },
    "tags": []
   },
   "source": [
    "**Blissey and Eternatus has the high HP.**"
   ]
  },
  {
   "cell_type": "markdown",
   "id": "54225634",
   "metadata": {
    "papermill": {
     "duration": 0.04088,
     "end_time": "2022-02-03T07:13:13.481758",
     "exception": false,
     "start_time": "2022-02-03T07:13:13.440878",
     "status": "completed"
    },
    "tags": []
   },
   "source": [
    "# Top 10 high spAtk pokemon name"
   ]
  },
  {
   "cell_type": "code",
   "execution_count": 20,
   "id": "18b488b7",
   "metadata": {
    "execution": {
     "iopub.execute_input": "2022-02-03T07:13:13.569759Z",
     "iopub.status.busy": "2022-02-03T07:13:13.568984Z",
     "iopub.status.idle": "2022-02-03T07:13:13.572342Z",
     "shell.execute_reply": "2022-02-03T07:13:13.571765Z",
     "shell.execute_reply.started": "2022-02-03T07:12:24.006287Z"
    },
    "papermill": {
     "duration": 0.049565,
     "end_time": "2022-02-03T07:13:13.572506",
     "exception": false,
     "start_time": "2022-02-03T07:13:13.522941",
     "status": "completed"
    },
    "tags": []
   },
   "outputs": [],
   "source": [
    "high_spAtk = data[['Name','Sp.Atk']].sort_values(ascending=False,by='Sp.Atk')"
   ]
  },
  {
   "cell_type": "code",
   "execution_count": 21,
   "id": "a38c3c48",
   "metadata": {
    "execution": {
     "iopub.execute_input": "2022-02-03T07:13:13.665431Z",
     "iopub.status.busy": "2022-02-03T07:13:13.659425Z",
     "iopub.status.idle": "2022-02-03T07:13:13.667707Z",
     "shell.execute_reply": "2022-02-03T07:13:13.668213Z",
     "shell.execute_reply.started": "2022-02-03T07:12:24.013853Z"
    },
    "papermill": {
     "duration": 0.05541,
     "end_time": "2022-02-03T07:13:13.668403",
     "exception": false,
     "start_time": "2022-02-03T07:13:13.612993",
     "status": "completed"
    },
    "tags": []
   },
   "outputs": [
    {
     "data": {
      "text/html": [
       "<div>\n",
       "<style scoped>\n",
       "    .dataframe tbody tr th:only-of-type {\n",
       "        vertical-align: middle;\n",
       "    }\n",
       "\n",
       "    .dataframe tbody tr th {\n",
       "        vertical-align: top;\n",
       "    }\n",
       "\n",
       "    .dataframe thead th {\n",
       "        text-align: right;\n",
       "    }\n",
       "</style>\n",
       "<table border=\"1\" class=\"dataframe\">\n",
       "  <thead>\n",
       "    <tr style=\"text-align: right;\">\n",
       "      <th></th>\n",
       "      <th>Name</th>\n",
       "      <th>Sp.Atk</th>\n",
       "    </tr>\n",
       "  </thead>\n",
       "  <tbody>\n",
       "    <tr>\n",
       "      <th>195</th>\n",
       "      <td>Mewtwo</td>\n",
       "      <td>194</td>\n",
       "    </tr>\n",
       "    <tr>\n",
       "      <th>467</th>\n",
       "      <td>Deoxys</td>\n",
       "      <td>180</td>\n",
       "    </tr>\n",
       "    <tr>\n",
       "      <th>460</th>\n",
       "      <td>Kyogre</td>\n",
       "      <td>180</td>\n",
       "    </tr>\n",
       "    <tr>\n",
       "      <th>464</th>\n",
       "      <td>Rayquaza</td>\n",
       "      <td>180</td>\n",
       "    </tr>\n",
       "    <tr>\n",
       "      <th>84</th>\n",
       "      <td>Alakazam</td>\n",
       "      <td>175</td>\n",
       "    </tr>\n",
       "    <tr>\n",
       "      <th>...</th>\n",
       "      <td>...</td>\n",
       "      <td>...</td>\n",
       "    </tr>\n",
       "    <tr>\n",
       "      <th>166</th>\n",
       "      <td>Magikarp</td>\n",
       "      <td>15</td>\n",
       "    </tr>\n",
       "    <tr>\n",
       "      <th>524</th>\n",
       "      <td>Bonsly</td>\n",
       "      <td>10</td>\n",
       "    </tr>\n",
       "    <tr>\n",
       "      <th>37</th>\n",
       "      <td>Sandshrew</td>\n",
       "      <td>10</td>\n",
       "    </tr>\n",
       "    <tr>\n",
       "      <th>416</th>\n",
       "      <td>Feebas</td>\n",
       "      <td>10</td>\n",
       "    </tr>\n",
       "    <tr>\n",
       "      <th>262</th>\n",
       "      <td>Shuckle</td>\n",
       "      <td>10</td>\n",
       "    </tr>\n",
       "  </tbody>\n",
       "</table>\n",
       "<p>1071 rows × 2 columns</p>\n",
       "</div>"
      ],
      "text/plain": [
       "          Name  Sp.Atk\n",
       "195     Mewtwo     194\n",
       "467     Deoxys     180\n",
       "460     Kyogre     180\n",
       "464   Rayquaza     180\n",
       "84    Alakazam     175\n",
       "..         ...     ...\n",
       "166   Magikarp      15\n",
       "524     Bonsly      10\n",
       "37   Sandshrew      10\n",
       "416     Feebas      10\n",
       "262    Shuckle      10\n",
       "\n",
       "[1071 rows x 2 columns]"
      ]
     },
     "execution_count": 21,
     "metadata": {},
     "output_type": "execute_result"
    }
   ],
   "source": [
    "high_spAtk"
   ]
  },
  {
   "cell_type": "code",
   "execution_count": 22,
   "id": "2cd70589",
   "metadata": {
    "execution": {
     "iopub.execute_input": "2022-02-03T07:13:13.753432Z",
     "iopub.status.busy": "2022-02-03T07:13:13.752720Z",
     "iopub.status.idle": "2022-02-03T07:13:13.757802Z",
     "shell.execute_reply": "2022-02-03T07:13:13.758291Z",
     "shell.execute_reply.started": "2022-02-03T07:12:24.033456Z"
    },
    "papermill": {
     "duration": 0.049094,
     "end_time": "2022-02-03T07:13:13.758480",
     "exception": false,
     "start_time": "2022-02-03T07:13:13.709386",
     "status": "completed"
    },
    "tags": []
   },
   "outputs": [],
   "source": [
    "top_10_spAtk_pokemon_name = high_spAtk.nlargest(10, 'Sp.Atk')"
   ]
  },
  {
   "cell_type": "code",
   "execution_count": 23,
   "id": "5211b7d0",
   "metadata": {
    "execution": {
     "iopub.execute_input": "2022-02-03T07:13:13.844798Z",
     "iopub.status.busy": "2022-02-03T07:13:13.844076Z",
     "iopub.status.idle": "2022-02-03T07:13:14.199712Z",
     "shell.execute_reply": "2022-02-03T07:13:14.200194Z",
     "shell.execute_reply.started": "2022-02-03T07:12:24.039364Z"
    },
    "papermill": {
     "duration": 0.401132,
     "end_time": "2022-02-03T07:13:14.200402",
     "exception": false,
     "start_time": "2022-02-03T07:13:13.799270",
     "status": "completed"
    },
    "tags": []
   },
   "outputs": [
    {
     "data": {
      "image/png": "[encoded data removed]",
      "text/plain": [
       "<Figure size 1512x720 with 1 Axes>"
      ]
     },
     "metadata": {},
     "output_type": "display_data"
    }
   ],
   "source": [
    "sns.set(rc = {'figure.figsize':(21,10)})\n",
    "ax  = sns.barplot(x='Name',y='Sp.Atk',data = top_10_spAtk_pokemon_name,palette = 'ch:s=-.2,r=.6')\n",
    "plt.bar_label(ax.containers[0])\n",
    "plt.xlabel(\"Name\",fontweight='bold',size=22)\n",
    "plt.ylabel(\"Sp.Atk\",fontweight='bold',size=22)\n",
    "plt.show()"
   ]
  },
  {
   "cell_type": "markdown",
   "id": "5f7e0200",
   "metadata": {
    "papermill": {
     "duration": 0.043417,
     "end_time": "2022-02-03T07:13:14.286344",
     "exception": false,
     "start_time": "2022-02-03T07:13:14.242927",
     "status": "completed"
    },
    "tags": []
   },
   "source": [
    "![](https://assets.pokemon.com/assets/cms2/img/pokedex/detail/150.png)"
   ]
  },
  {
   "cell_type": "markdown",
   "id": "68aa14bc",
   "metadata": {
    "papermill": {
     "duration": 0.041224,
     "end_time": "2022-02-03T07:13:14.369100",
     "exception": false,
     "start_time": "2022-02-03T07:13:14.327876",
     "status": "completed"
    },
    "tags": []
   },
   "source": [
    "**Mewtwo has the high Sp.Attack...**"
   ]
  },
  {
   "cell_type": "markdown",
   "id": "7d5ff898",
   "metadata": {
    "papermill": {
     "duration": 0.041139,
     "end_time": "2022-02-03T07:13:14.451874",
     "exception": false,
     "start_time": "2022-02-03T07:13:14.410735",
     "status": "completed"
    },
    "tags": []
   },
   "source": [
    "# Top 10 high spDef pokemon"
   ]
  },
  {
   "cell_type": "code",
   "execution_count": 24,
   "id": "1cd91881",
   "metadata": {
    "execution": {
     "iopub.execute_input": "2022-02-03T07:13:14.542020Z",
     "iopub.status.busy": "2022-02-03T07:13:14.541372Z",
     "iopub.status.idle": "2022-02-03T07:13:14.543742Z",
     "shell.execute_reply": "2022-02-03T07:13:14.544251Z",
     "shell.execute_reply.started": "2022-02-03T07:12:24.366478Z"
    },
    "papermill": {
     "duration": 0.051137,
     "end_time": "2022-02-03T07:13:14.544436",
     "exception": false,
     "start_time": "2022-02-03T07:13:14.493299",
     "status": "completed"
    },
    "tags": []
   },
   "outputs": [],
   "source": [
    "high_spDef = data[['Name','Sp.Def']].sort_values(ascending=False,by='Sp.Def')"
   ]
  },
  {
   "cell_type": "code",
   "execution_count": 25,
   "id": "4bddfd41",
   "metadata": {
    "execution": {
     "iopub.execute_input": "2022-02-03T07:13:14.631517Z",
     "iopub.status.busy": "2022-02-03T07:13:14.630814Z",
     "iopub.status.idle": "2022-02-03T07:13:14.635936Z",
     "shell.execute_reply": "2022-02-03T07:13:14.636591Z",
     "shell.execute_reply.started": "2022-02-03T07:12:24.372636Z"
    },
    "papermill": {
     "duration": 0.05026,
     "end_time": "2022-02-03T07:13:14.636769",
     "exception": false,
     "start_time": "2022-02-03T07:13:14.586509",
     "status": "completed"
    },
    "tags": []
   },
   "outputs": [],
   "source": [
    "top_10_spDef_pokemon_name = high_spDef.nlargest(10, 'Sp.Def')"
   ]
  },
  {
   "cell_type": "code",
   "execution_count": 26,
   "id": "bd14789e",
   "metadata": {
    "execution": {
     "iopub.execute_input": "2022-02-03T07:13:14.723708Z",
     "iopub.status.busy": "2022-02-03T07:13:14.722720Z",
     "iopub.status.idle": "2022-02-03T07:13:15.066543Z",
     "shell.execute_reply": "2022-02-03T07:13:15.067146Z",
     "shell.execute_reply.started": "2022-02-03T07:12:24.386346Z"
    },
    "papermill": {
     "duration": 0.388941,
     "end_time": "2022-02-03T07:13:15.067330",
     "exception": false,
     "start_time": "2022-02-03T07:13:14.678389",
     "status": "completed"
    },
    "tags": []
   },
   "outputs": [
    {
     "data": {
      "image/png": "[encoded data removed]",
      "text/plain": [
       "<Figure size 1512x720 with 1 Axes>"
      ]
     },
     "metadata": {},
     "output_type": "display_data"
    }
   ],
   "source": [
    "sns.set(rc = {'figure.figsize':(21,10)})\n",
    "ax  = sns.barplot(x='Name',y='Sp.Def',data = top_10_spDef_pokemon_name,palette = 'mako')\n",
    "plt.bar_label(ax.containers[0])\n",
    "plt.xlabel(\"Name\",fontweight='bold',size=22)\n",
    "plt.ylabel(\"Sp.Def\",fontweight='bold',size=22)\n",
    "plt.show()"
   ]
  },
  {
   "cell_type": "markdown",
   "id": "f8f10a4f",
   "metadata": {
    "papermill": {
     "duration": 0.042566,
     "end_time": "2022-02-03T07:13:15.152651",
     "exception": false,
     "start_time": "2022-02-03T07:13:15.110085",
     "status": "completed"
    },
    "tags": []
   },
   "source": [
    "![](https://assets.pokemon.com/assets/cms2/img/pokedex/detail/890.png)"
   ]
  },
  {
   "cell_type": "markdown",
   "id": "cd6917bc",
   "metadata": {
    "papermill": {
     "duration": 0.042549,
     "end_time": "2022-02-03T07:13:15.238011",
     "exception": false,
     "start_time": "2022-02-03T07:13:15.195462",
     "status": "completed"
    },
    "tags": []
   },
   "source": [
    "**Eternatus has the high Sp.Def...**"
   ]
  },
  {
   "cell_type": "markdown",
   "id": "89e4114f",
   "metadata": {
    "papermill": {
     "duration": 0.04267,
     "end_time": "2022-02-03T07:13:15.324051",
     "exception": false,
     "start_time": "2022-02-03T07:13:15.281381",
     "status": "completed"
    },
    "tags": []
   },
   "source": [
    "# Top 10 high speed pokemon name"
   ]
  },
  {
   "cell_type": "code",
   "execution_count": 27,
   "id": "4abc4600",
   "metadata": {
    "execution": {
     "iopub.execute_input": "2022-02-03T07:13:15.413812Z",
     "iopub.status.busy": "2022-02-03T07:13:15.412778Z",
     "iopub.status.idle": "2022-02-03T07:13:15.419999Z",
     "shell.execute_reply": "2022-02-03T07:13:15.420585Z",
     "shell.execute_reply.started": "2022-02-03T07:12:24.679580Z"
    },
    "papermill": {
     "duration": 0.053783,
     "end_time": "2022-02-03T07:13:15.420773",
     "exception": false,
     "start_time": "2022-02-03T07:13:15.366990",
     "status": "completed"
    },
    "tags": []
   },
   "outputs": [],
   "source": [
    "high_speed = data[['Name','Speed']].sort_values(ascending=False,by='Speed')\n",
    "top_10_speed_pokemon_name = high_speed.nlargest(10, 'Speed')"
   ]
  },
  {
   "cell_type": "code",
   "execution_count": 28,
   "id": "9af9b40e",
   "metadata": {
    "execution": {
     "iopub.execute_input": "2022-02-03T07:13:15.510057Z",
     "iopub.status.busy": "2022-02-03T07:13:15.509064Z",
     "iopub.status.idle": "2022-02-03T07:13:15.896634Z",
     "shell.execute_reply": "2022-02-03T07:13:15.897434Z",
     "shell.execute_reply.started": "2022-02-03T07:12:24.687478Z"
    },
    "papermill": {
     "duration": 0.43419,
     "end_time": "2022-02-03T07:13:15.897648",
     "exception": false,
     "start_time": "2022-02-03T07:13:15.463458",
     "status": "completed"
    },
    "tags": []
   },
   "outputs": [
    {
     "data": {
      "image/png": "[encoded data removed]",
      "text/plain": [
       "<Figure size 1512x720 with 1 Axes>"
      ]
     },
     "metadata": {},
     "output_type": "display_data"
    }
   ],
   "source": [
    "sns.set(rc = {'figure.figsize':(21,10)})\n",
    "ax  = sns.barplot(x='Name',y='Speed',data = top_10_speed_pokemon_name,palette = 'vlag')\n",
    "plt.bar_label(ax.containers[0])\n",
    "plt.xlabel(\"Name\",fontweight='bold',size=22)\n",
    "plt.ylabel(\"Speed\",fontweight='bold',size=22)\n",
    "plt.show()"
   ]
  },
  {
   "cell_type": "markdown",
   "id": "6120c4a0",
   "metadata": {
    "papermill": {
     "duration": 0.044244,
     "end_time": "2022-02-03T07:13:15.986582",
     "exception": false,
     "start_time": "2022-02-03T07:13:15.942338",
     "status": "completed"
    },
    "tags": []
   },
   "source": [
    "![](https://assets.pokemon.com/assets/cms2/img/pokedex/detail/894.png)"
   ]
  },
  {
   "cell_type": "markdown",
   "id": "844979f1",
   "metadata": {
    "papermill": {
     "duration": 0.044069,
     "end_time": "2022-02-03T07:13:16.076354",
     "exception": false,
     "start_time": "2022-02-03T07:13:16.032285",
     "status": "completed"
    },
    "tags": []
   },
   "source": [
    "**Regieleki has the highest speed..**"
   ]
  },
  {
   "cell_type": "code",
   "execution_count": 29,
   "id": "e07d8971",
   "metadata": {
    "execution": {
     "iopub.execute_input": "2022-02-03T07:13:16.172350Z",
     "iopub.status.busy": "2022-02-03T07:13:16.171254Z",
     "iopub.status.idle": "2022-02-03T07:13:16.520464Z",
     "shell.execute_reply": "2022-02-03T07:13:16.520965Z",
     "shell.execute_reply.started": "2022-02-03T07:12:25.008878Z"
    },
    "papermill": {
     "duration": 0.400164,
     "end_time": "2022-02-03T07:13:16.521148",
     "exception": false,
     "start_time": "2022-02-03T07:13:16.120984",
     "status": "completed"
    },
    "tags": []
   },
   "outputs": [
    {
     "data": {
      "image/png": "[encoded data removed]",
      "text/plain": [
       "<Figure size 1512x720 with 1 Axes>"
      ]
     },
     "metadata": {},
     "output_type": "display_data"
    }
   ],
   "source": [
    "sns.scatterplot(x='Speed',y=\"Attack\",data=data)\n",
    "plt.xlabel(\"Speed\",fontweight='bold',size=22)\n",
    "plt.ylabel(\"Attack\",fontweight='bold',size=22)\n",
    "plt.show()"
   ]
  },
  {
   "cell_type": "markdown",
   "id": "1f99f91e",
   "metadata": {
    "papermill": {
     "duration": 0.046013,
     "end_time": "2022-02-03T07:13:16.613269",
     "exception": false,
     "start_time": "2022-02-03T07:13:16.567256",
     "status": "completed"
    },
    "tags": []
   },
   "source": [
    "![](https://assets.pokemon.com/assets/cms2/img/pokedex/detail/025.png)"
   ]
  },
  {
   "cell_type": "code",
   "execution_count": 30,
   "id": "579e466d",
   "metadata": {
    "execution": {
     "iopub.execute_input": "2022-02-03T07:13:16.708778Z",
     "iopub.status.busy": "2022-02-03T07:13:16.707727Z",
     "iopub.status.idle": "2022-02-03T07:13:16.713104Z",
     "shell.execute_reply": "2022-02-03T07:13:16.713718Z",
     "shell.execute_reply.started": "2022-02-03T07:12:25.326543Z"
    },
    "papermill": {
     "duration": 0.055067,
     "end_time": "2022-02-03T07:13:16.713903",
     "exception": false,
     "start_time": "2022-02-03T07:13:16.658836",
     "status": "completed"
    },
    "tags": []
   },
   "outputs": [],
   "source": [
    "pikachu = (data.loc[data['Name'] == 'Pikachu'])"
   ]
  },
  {
   "cell_type": "code",
   "execution_count": 31,
   "id": "91bea95b",
   "metadata": {
    "execution": {
     "iopub.execute_input": "2022-02-03T07:13:16.809796Z",
     "iopub.status.busy": "2022-02-03T07:13:16.809068Z",
     "iopub.status.idle": "2022-02-03T07:13:16.819850Z",
     "shell.execute_reply": "2022-02-03T07:13:16.820465Z",
     "shell.execute_reply.started": "2022-02-03T07:12:25.333318Z"
    },
    "papermill": {
     "duration": 0.060144,
     "end_time": "2022-02-03T07:13:16.820643",
     "exception": false,
     "start_time": "2022-02-03T07:13:16.760499",
     "status": "completed"
    },
    "tags": []
   },
   "outputs": [
    {
     "data": {
      "text/html": [
       "<div>\n",
       "<style scoped>\n",
       "    .dataframe tbody tr th:only-of-type {\n",
       "        vertical-align: middle;\n",
       "    }\n",
       "\n",
       "    .dataframe tbody tr th {\n",
       "        vertical-align: top;\n",
       "    }\n",
       "\n",
       "    .dataframe thead th {\n",
       "        text-align: right;\n",
       "    }\n",
       "</style>\n",
       "<table border=\"1\" class=\"dataframe\">\n",
       "  <thead>\n",
       "    <tr style=\"text-align: right;\">\n",
       "      <th></th>\n",
       "      <th>Name</th>\n",
       "      <th>Type1</th>\n",
       "      <th>Total</th>\n",
       "      <th>HP</th>\n",
       "      <th>Attack</th>\n",
       "      <th>Defense</th>\n",
       "      <th>Sp.Atk</th>\n",
       "      <th>Sp.Def</th>\n",
       "      <th>Speed</th>\n",
       "    </tr>\n",
       "  </thead>\n",
       "  <tbody>\n",
       "    <tr>\n",
       "      <th>32</th>\n",
       "      <td>Pikachu</td>\n",
       "      <td>Electric</td>\n",
       "      <td>320</td>\n",
       "      <td>35</td>\n",
       "      <td>55</td>\n",
       "      <td>40</td>\n",
       "      <td>50</td>\n",
       "      <td>50</td>\n",
       "      <td>90</td>\n",
       "    </tr>\n",
       "    <tr>\n",
       "      <th>33</th>\n",
       "      <td>Pikachu</td>\n",
       "      <td>Electric</td>\n",
       "      <td>430</td>\n",
       "      <td>45</td>\n",
       "      <td>80</td>\n",
       "      <td>50</td>\n",
       "      <td>75</td>\n",
       "      <td>60</td>\n",
       "      <td>120</td>\n",
       "    </tr>\n",
       "  </tbody>\n",
       "</table>\n",
       "</div>"
      ],
      "text/plain": [
       "       Name     Type1  Total  HP  Attack  Defense  Sp.Atk  Sp.Def  Speed\n",
       "32  Pikachu  Electric    320  35      55       40      50      50     90\n",
       "33  Pikachu  Electric    430  45      80       50      75      60    120"
      ]
     },
     "execution_count": 31,
     "metadata": {},
     "output_type": "execute_result"
    }
   ],
   "source": [
    "pikachu"
   ]
  },
  {
   "cell_type": "code",
   "execution_count": 32,
   "id": "97236d82",
   "metadata": {
    "execution": {
     "iopub.execute_input": "2022-02-03T07:13:16.916925Z",
     "iopub.status.busy": "2022-02-03T07:13:16.916222Z",
     "iopub.status.idle": "2022-02-03T07:13:17.098957Z",
     "shell.execute_reply": "2022-02-03T07:13:17.099638Z",
     "shell.execute_reply.started": "2022-02-03T07:12:25.353322Z"
    },
    "papermill": {
     "duration": 0.232908,
     "end_time": "2022-02-03T07:13:17.099823",
     "exception": false,
     "start_time": "2022-02-03T07:13:16.866915",
     "status": "completed"
    },
    "tags": []
   },
   "outputs": [
    {
     "data": {
      "image/png": "[encoded data removed]",
      "text/plain": [
       "<Figure size 1512x720 with 1 Axes>"
      ]
     },
     "metadata": {},
     "output_type": "display_data"
    }
   ],
   "source": [
    "df = [320,35,55,40,50,50,90]\n",
    "labels = ['Total','HP','Attack','Defense','Sp.Atk','Sp.Def','Speed']\n",
    "colors = sns.color_palette('pastel')[0:5]\n",
    "#create pie chart\n",
    "plt.pie(df, labels = labels, colors = colors, autopct='%.0f%%')\n",
    "plt.title(\"Pikachu's data in ratio\",fontweight = 'bold')\n",
    "plt.show()"
   ]
  },
  {
   "cell_type": "code",
   "execution_count": 33,
   "id": "c58f9da9",
   "metadata": {
    "execution": {
     "iopub.execute_input": "2022-02-03T07:13:17.210589Z",
     "iopub.status.busy": "2022-02-03T07:13:17.209847Z",
     "iopub.status.idle": "2022-02-03T07:13:17.521759Z",
     "shell.execute_reply": "2022-02-03T07:13:17.522634Z",
     "shell.execute_reply.started": "2022-02-03T07:12:25.488481Z"
    },
    "papermill": {
     "duration": 0.363399,
     "end_time": "2022-02-03T07:13:17.522957",
     "exception": false,
     "start_time": "2022-02-03T07:13:17.159558",
     "status": "completed"
    },
    "tags": []
   },
   "outputs": [
    {
     "data": {
      "image/png": "[encoded data removed]",
      "text/plain": [
       "<Figure size 1512x720 with 1 Axes>"
      ]
     },
     "metadata": {},
     "output_type": "display_data"
    }
   ],
   "source": [
    "df = [430,45,80,50,75,60,120]\n",
    "labels = ['Total','HP','Attack','Defense','Sp.Atk','Sp.Def','Speed']\n",
    "colors = sns.color_palette('light:b')[0:5]\n",
    "#create pie chart\n",
    "plt.pie(df, labels = labels, colors = colors, autopct='%.0f%%')\n",
    "plt.title(\"Pikachu's second dataset.\", fontweight = 'bold')\n",
    "plt.show()"
   ]
  },
  {
   "cell_type": "markdown",
   "id": "ce0e7cf0",
   "metadata": {
    "papermill": {
     "duration": 0.049097,
     "end_time": "2022-02-03T07:13:17.633752",
     "exception": false,
     "start_time": "2022-02-03T07:13:17.584655",
     "status": "completed"
    },
    "tags": []
   },
   "source": [
    "![](https://c.tenor.com/-VYWaSmWx2QAAAAC/thunderbolt-pikachu.gif)"
   ]
  }
 ],
 "metadata": {
  "kernelspec": {
   "display_name": "Python 3",
   "language": "python",
   "name": "python3"
  },
  "language_info": {
   "codemirror_mode": {
    "name": "ipython",
    "version": 3
   },
   "file_extension": ".py",
   "mimetype": "text/x-python",
   "name": "python",
   "nbconvert_exporter": "python",
   "pygments_lexer": "ipython3",
   "version": "3.7.12"
  },
  "papermill": {
   "default_parameters": {},
   "duration": 19.860215,
   "end_time": "2022-02-03T07:13:18.396132",
   "environment_variables": {},
   "exception": null,
   "input_path": "__notebook__.ipynb",
   "output_path": "__notebook__.ipynb",
   "parameters": {},
   "start_time": "2022-02-03T07:12:58.535917",
   "version": "2.3.3"
  }
 },
 "nbformat": 4,
 "nbformat_minor": 5
}
